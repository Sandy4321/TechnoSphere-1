{
 "cells": [
  {
   "cell_type": "markdown",
   "metadata": {},
   "source": [
    "# План:\n",
    "\n",
    "1) Работа с файлами и директориями\n",
    "\n",
    "2) Работа с содержимым и pipes\n",
    "\n",
    "3) Bash\n",
    "\n",
    "4) Прочее"
   ]
  },
  {
   "cell_type": "markdown",
   "metadata": {},
   "source": [
    "# Работа с файлами и директориями\n",
    "\n",
    "- `.` - текущая директория\n",
    "- `..` - директория на уровень выше\n",
    "- `~` - домашняя директория (обычно это `/home/username`)\n",
    "- `/` - корневая директория\n",
    "\n",
    "Узнать текущую директорию можно командой `pwd`"
   ]
  },
  {
   "cell_type": "code",
   "execution_count": 1,
   "metadata": {},
   "outputs": [
    {
     "name": "stdout",
     "output_type": "stream",
     "text": [
      "/Users/Alexander/Documents/GitHub/TechnoSphere-IDA/notebooks/06. 20.03.2018\r\n"
     ]
    }
   ],
   "source": [
    "!pwd"
   ]
  },
  {
   "cell_type": "markdown",
   "metadata": {},
   "source": [
    "Узнать текущего пользователя - `whoami`"
   ]
  },
  {
   "cell_type": "code",
   "execution_count": 2,
   "metadata": {},
   "outputs": [
    {
     "name": "stdout",
     "output_type": "stream",
     "text": [
      "Alexander\r\n"
     ]
    }
   ],
   "source": [
    "!whoami"
   ]
  },
  {
   "cell_type": "markdown",
   "metadata": {},
   "source": [
    "Переход в другую директорию осуществляется командой `cd`"
   ]
  },
  {
   "cell_type": "code",
   "execution_count": 3,
   "metadata": {},
   "outputs": [
    {
     "name": "stdout",
     "output_type": "stream",
     "text": [
      "/Users/Alexander/Documents/GitHub/TechnoSphere-IDA/notebooks/06. 20.03.2018\r\n"
     ]
    }
   ],
   "source": [
    "!mkdir example_dir\n",
    "!cd example_dir\n",
    "!pwd"
   ]
  },
  {
   "cell_type": "markdown",
   "metadata": {},
   "source": [
    "Команда `mkdir` создаёт директории"
   ]
  },
  {
   "cell_type": "markdown",
   "metadata": {},
   "source": [
    "Посмотреть содержимое директории можно при помощи команды `ls`. Если не указать директорию, то по умолчанию будет использована текущая директория. Пример: `ls /my/awesome/dir`\n",
    "\n",
    "\n",
    "Полезные опции:\n",
    "- `-a` - отобразить все файлы и директории (по умолчанию не оторбажаются названия начинающиеся с точки)\n",
    "- `-l` - отобразить списком\n",
    "- `-h` - for humans\n",
    "- `-t` - отсортировать по времени изменения\n",
    "- `-s` - отсортировать по размеру файлов (размер директорий не учитывается, для этого пользуйтесь командой `du`)\n",
    "\n",
    "Посмотреть список доступных опций можно при помощи команды `man`. Запомните команду `man`. "
   ]
  },
  {
   "cell_type": "code",
   "execution_count": 6,
   "metadata": {
    "scrolled": true
   },
   "outputs": [
    {
     "name": "stdout",
     "output_type": "stream",
     "text": [
      "\r\n",
      "LS(1)                     BSD General Commands Manual                    LS(1)\r\n",
      "\r\n",
      "N\bNA\bAM\bME\bE\r\n",
      "     l\bls\bs -- list directory contents\r\n",
      "\r\n",
      "S\bSY\bYN\bNO\bOP\bPS\bSI\bIS\bS\r\n",
      "     l\bls\bs [-\b-A\bAB\bBC\bCF\bFG\bGH\bHL\bLO\bOP\bPR\bRS\bST\bTU\bUW\bW@\b@a\bab\bbc\bcd\bde\bef\bfg\bgh\bhi\bik\bkl\blm\bmn\bno\bop\bpq\bqr\brs\bst\btu\buw\bwx\bx1\b1] [_\bf_\bi_\bl_\be _\b._\b._\b.]\r\n",
      "\r\n",
      "D\bDE\bES\bSC\bCR\bRI\bIP\bPT\bTI\bIO\bON\bN\r\n",
      "     For each operand that names a _\bf_\bi_\bl_\be of a type other than directory, l\bls\bs\r\n",
      "     displays its name as well as any requested, associated information.  For\r\n",
      "     each operand that names a _\bf_\bi_\bl_\be of type directory, l\bls\bs displays the names\r\n",
      "     of files contained within that directory, as well as any requested, asso-\r\n",
      "     ciated information.\r\n",
      "\r\n",
      "     If no operands are given, the contents of the current directory are dis-\r\n",
      "     played.  If more than one operand is given, non-directory operands are\r\n",
      "     displayed first; directory and non-directory operands are sorted sepa-\r\n",
      "     rately and in lexicographical order.\r\n",
      "\r\n",
      "     The following options are available:\r\n",
      "\r\n",
      "     -\b-@\b@      Display extended attribute keys and sizes in long (-\b-l\bl) output.\r\n",
      "\r\n",
      "     -\b-1\b1      (The numeric digit ``one''.)  Force output to be one entry per\r\n",
      "             line.  This is the default when output is not to a terminal.\r\n",
      "\r\n",
      "     -\b-A\bA      List all entries except for _\b. and _\b._\b..  Always set for the super-\r\n",
      "             user.\r\n",
      "\r\n",
      "     -\b-a\ba      Include directory entries whose names begin with a dot (_\b.).\r\n",
      "\r\n",
      "     -\b-B\bB      Force printing of non-printable characters (as defined by\r\n",
      "             ctype(3) and current locale settings) in file names as \\_\bx_\bx_\bx,\r\n",
      "             where _\bx_\bx_\bx is the numeric value of the character in octal.\r\n",
      "\r\n",
      "     -\b-b\bb      As -\b-B\bB, but use C escape codes whenever possible.\r\n",
      "\r\n",
      "     -\b-C\bC      Force multi-column output; this is the default when output is to\r\n",
      "             a terminal.\r\n",
      "\r\n",
      "     -\b-c\bc      Use time when file status was last changed for sorting (-\b-t\bt) or\r\n",
      "             long printing (-\b-l\bl).\r\n",
      "\r\n",
      "     -\b-d\bd      Directories are listed as plain files (not searched recursively).\r\n",
      "\r\n",
      "     -\b-e\be      Print the Access Control List (ACL) associated with the file, if\r\n",
      "             present, in long (-\b-l\bl) output.\r\n",
      "\r\n",
      "     -\b-F\bF      Display a slash (`/') immediately after each pathname that is a\r\n",
      "             directory, an asterisk (`*') after each that is executable, an at\r\n",
      "             sign (`@') after each symbolic link, an equals sign (`=') after\r\n",
      "             each socket, a percent sign (`%') after each whiteout, and a ver-\r\n",
      "             tical bar (`|') after each that is a FIFO.\r\n",
      "\r\n",
      "     -\b-f\bf      Output is not sorted.  This option turns on the -\b-a\ba option.\r\n",
      "\r\n",
      "     -\b-G\bG      Enable colorized output.  This option is equivalent to defining\r\n",
      "             CLICOLOR in the environment.  (See below.)\r\n",
      "\r\n",
      "     -\b-g\bg      This option is only available for compatibility with POSIX; it is\r\n",
      "             used to display the group name in the long (-\b-l\bl) format output\r\n",
      "             (the owner name is suppressed).\r\n",
      "\r\n",
      "     -\b-H\bH      Symbolic links on the command line are followed.  This option is\r\n",
      "             assumed if none of the -\b-F\bF, -\b-d\bd, or -\b-l\bl options are specified.\r\n",
      "\r\n",
      "     -\b-h\bh      When used with the -\b-l\bl option, use unit suffixes: Byte, Kilobyte,\r\n",
      "             Megabyte, Gigabyte, Terabyte and Petabyte in order to reduce the\r\n",
      "             number of digits to three or less using base 2 for sizes.\r\n",
      "\r\n",
      "     -\b-i\bi      For each file, print the file's file serial number (inode num-\r\n",
      "             ber).\r\n",
      "\r\n",
      "     -\b-k\bk      If the -\b-s\bs option is specified, print the file size allocation in\r\n",
      "             kilobytes, not blocks.  This option overrides the environment\r\n",
      "             variable BLOCKSIZE.\r\n",
      "\r\n",
      "     -\b-L\bL      Follow all symbolic links to final target and list the file or\r\n",
      "             directory the link references rather than the link itself.  This\r\n",
      "             option cancels the -\b-P\bP option.\r\n",
      "\r\n",
      "     -\b-l\bl      (The lowercase letter ``ell''.)  List in long format.  (See\r\n",
      "             below.)  If the output is to a terminal, a total sum for all the\r\n",
      "             file sizes is output on a line before the long listing.\r\n",
      "\r\n",
      "     -\b-m\bm      Stream output format; list files across the page, separated by\r\n",
      "             commas.\r\n",
      "\r\n",
      "     -\b-n\bn      Display user and group IDs numerically, rather than converting to\r\n",
      "             a user or group name in a long (-\b-l\bl) output.  This option turns on\r\n",
      "             the -\b-l\bl option.\r\n",
      "\r\n",
      "     -\b-O\bO      Include the file flags in a long (-\b-l\bl) output.\r\n",
      "\r\n",
      "     -\b-o\bo      List in long format, but omit the group id.\r\n",
      "\r\n",
      "     -\b-P\bP      If argument is a symbolic link, list the link itself rather than\r\n",
      "             the object the link references.  This option cancels the -\b-H\bH and\r\n",
      "             -\b-L\bL options.\r\n",
      "\r\n",
      "     -\b-p\bp      Write a slash (`/') after each filename if that file is a direc-\r\n",
      "             tory.\r\n",
      "\r\n",
      "     -\b-q\bq      Force printing of non-graphic characters in file names as the\r\n",
      "             character `?'; this is the default when output is to a terminal.\r\n",
      "\r\n",
      "     -\b-R\bR      Recursively list subdirectories encountered.\r\n",
      "\r\n",
      "     -\b-r\br      Reverse the order of the sort to get reverse lexicographical\r\n",
      "             order or the oldest entries first (or largest files last, if com-\r\n",
      "             bined with sort by size\r\n",
      "\r\n",
      "     -\b-S\bS      Sort files by size\r\n",
      "\r\n",
      "     -\b-s\bs      Display the number of file system blocks actually used by each\r\n",
      "             file, in units of 512 bytes, where partial units are rounded up\r\n",
      "             to the next integer value.  If the output is to a terminal, a\r\n",
      "             total sum for all the file sizes is output on a line before the\r\n",
      "             listing.  The environment variable BLOCKSIZE overrides the unit\r\n",
      "             size of 512 bytes.\r\n",
      "\r\n",
      "     -\b-T\bT      When used with the -\b-l\bl (lowercase letter ``ell'') option, display\r\n",
      "             complete time information for the file, including month, day,\r\n",
      "             hour, minute, second, and year.\r\n",
      "\r\n",
      "     -\b-t\bt      Sort by time modified (most recently modified first) before sort-\r\n",
      "             ing the operands by lexicographical order.\r\n",
      "\r\n",
      "     -\b-u\bu      Use time of last access, instead of last modification of the file\r\n",
      "             for sorting (-\b-t\bt) or long printing (-\b-l\bl).\r\n",
      "\r\n",
      "     -\b-U\bU      Use time of file creation, instead of last modification for sort-\r\n",
      "             ing (-\b-t\bt) or long output (-\b-l\bl).\r\n",
      "\r\n",
      "     -\b-v\bv      Force unedited printing of non-graphic characters; this is the\r\n",
      "             default when output is not to a terminal.\r\n",
      "\r\n",
      "     -\b-W\bW      Display whiteouts when scanning directories.  (-\b-S\bS) flag).\r\n",
      "\r\n",
      "     -\b-w\bw      Force raw printing of non-printable characters.  This is the\r\n",
      "             default when output is not to a terminal.\r\n",
      "\r\n",
      "     -\b-x\bx      The same as -\b-C\bC, except that the multi-column output is produced\r\n",
      "             with entries sorted across, rather than down, the columns.\r\n",
      "\r\n",
      "     The -\b-1\b1, -\b-C\bC, -\b-x\bx, and -\b-l\bl options all override each other; the last one\r\n",
      "     specified determines the format used.\r\n",
      "\r\n",
      "     The -\b-c\bc and -\b-u\bu options override each other; the last one specified deter-\r\n",
      "     mines the file time used.\r\n",
      "\r\n",
      "     The -\b-B\bB, -\b-b\bb, -\b-w\bw, and -\b-q\bq options all override each other; the last one\r\n",
      "     specified determines the format used for non-printable characters.\r\n",
      "\r\n",
      "     The -\b-H\bH, -\b-L\bL and -\b-P\bP options all override each other (either partially or\r\n",
      "     fully); they are applied in the order specified.\r\n",
      "\r\n",
      "     By default, l\bls\bs lists one entry per line to standard output; the excep-\r\n",
      "     tions are to terminals or when the -\b-C\bC or -\b-x\bx options are specified.\r\n",
      "\r\n",
      "     File information is displayed with one or more <blank>s separating the\r\n",
      "     information associated with the -\b-i\bi, -\b-s\bs, and -\b-l\bl options.\r\n",
      "\r\n",
      "   T\bTh\bhe\be L\bLo\bon\bng\bg F\bFo\bor\brm\bma\bat\bt\r\n",
      "     If the -\b-l\bl option is given, the following information is displayed for\r\n",
      "     each file: file mode, number of links, owner name, group name, number of\r\n",
      "     bytes in the file, abbreviated month, day-of-month file was last modi-\r\n",
      "     fied, hour file last modified, minute file last modified, and the path-\r\n",
      "     name.  In addition, for each directory whose contents are displayed, the\r\n",
      "     total number of 512-byte blocks used by the files in the directory is\r\n",
      "     displayed on a line by itself, immediately before the information for the\r\n",
      "     files in the directory.  If the file or directory has extended\r\n",
      "     attributes, the permissions field printed by the -\b-l\bl option is followed by\r\n",
      "     a '@' character.  Otherwise, if the file or directory has extended secu-\r\n",
      "     rity information (such as an access control list), the permissions field\r\n",
      "     printed by the -\b-l\bl option is followed by a '+' character.\r\n",
      "\r\n",
      "     If the modification time of the file is more than 6 months in the past or\r\n",
      "     future, then the year of the last modification is displayed in place of\r\n",
      "     the hour and minute fields.\r\n",
      "\r\n",
      "     If the owner or group names are not a known user or group name, or the -\b-n\bn\r\n",
      "     option is given, the numeric ID's are displayed.\r\n",
      "\r\n",
      "     If the file is a character special or block special file, the major and\r\n",
      "     minor device numbers for the file are displayed in the size field.  If\r\n",
      "     the file is a symbolic link, the pathname of the linked-to file is pre-\r\n",
      "     ceded by ``->''.\r\n",
      "\r\n",
      "     The file mode printed under the -\b-l\bl option consists of the entry type,\r\n",
      "     owner permissions, and group permissions.  The entry type character\r\n",
      "     describes the type of file, as follows:\r\n",
      "\r\n",
      "           b\bb     Block special file.\r\n",
      "           c\bc     Character special file.\r\n",
      "           d\bd     Directory.\r\n",
      "           l\bl     Symbolic link.\r\n",
      "           s\bs     Socket link.\r\n",
      "           p\bp     FIFO.\r\n",
      "           -\b-     Regular file.\r\n",
      "\r\n",
      "     The next three fields are three characters each: owner permissions, group\r\n",
      "     permissions, and other permissions.  Each field has three character posi-\r\n",
      "     tions:\r\n",
      "\r\n",
      "           1.   If r\br, the file is readable; if -\b-, it is not readable.\r\n",
      "\r\n",
      "           2.   If w\bw, the file is writable; if -\b-, it is not writable.\r",
      "\r\n",
      "\r\n",
      "           3.   The first of the following that applies:\r\n",
      "\r\n",
      "                      S\bS     If in the owner permissions, the file is not exe-\r\n",
      "                            cutable and set-user-ID mode is set.  If in the\r\n",
      "                            group permissions, the file is not executable and\r\n",
      "                            set-group-ID mode is set.\r\n",
      "\r\n",
      "                      s\bs     If in the owner permissions, the file is exe-\r\n",
      "                            cutable and set-user-ID mode is set.  If in the\r\n",
      "                            group permissions, the file is executable and set-\r\n",
      "                            group-ID mode is set.\r\n",
      "\r\n",
      "                      x\bx     The file is executable or the directory is search-\r\n",
      "                            able.\r\n",
      "\r\n",
      "                      -\b-     The file is neither readable, writable, exe-\r\n",
      "                            cutable, nor set-user-ID nor set-group-ID mode,\r\n",
      "                            nor sticky.  (See below.)\r\n",
      "\r\n",
      "                These next two apply only to the third character in the last\r\n",
      "                group (other permissions).\r\n",
      "\r\n",
      "                      T\bT     The sticky bit is set (mode 1000), but not execute\r\n",
      "                            or search permission.  (See chmod(1) or\r\n",
      "                            sticky(8).)\r\n",
      "\r\n",
      "                      t\bt     The sticky bit is set (mode 1000), and is search-\r\n",
      "                            able or executable.  (See chmod(1) or sticky(8).)\r\n",
      "\r\n",
      "E\bEX\bXA\bAM\bMP\bPL\bLE\bES\bS\r\n",
      "     The following is how to do an l\bls\bs listing sorted by increasing size\r\n",
      "\r\n",
      "           ls -lrS\r\n",
      "\r\n",
      "D\bDI\bIA\bAG\bGN\bNO\bOS\bST\bTI\bIC\bCS\bS\r\n",
      "     The l\bls\bs utility exits 0 on success, and >0 if an error occurs.\r\n",
      "\r\n",
      "E\bEN\bNV\bVI\bIR\bRO\bON\bNM\bME\bEN\bNT\bT\r\n",
      "     The following environment variables affect the execution of l\bls\bs:\r\n",
      "\r\n",
      "     BLOCKSIZE       If the environment variable BLOCKSIZE is set, the block\r\n",
      "                     counts (see -\b-s\bs) will be displayed in units of that size\r\n",
      "                     block.\r\n",
      "\r\n",
      "     CLICOLOR        Use ANSI color sequences to distinguish file types.  See\r\n",
      "                     LSCOLORS below.  In addition to the file types mentioned\r\n",
      "                     in the -\b-F\bF option some extra attributes (setuid bit set,\r\n",
      "                     etc.) are also displayed.  The colorization is dependent\r\n",
      "                     on a terminal type with the proper termcap(5) capabili-\r\n",
      "                     ties.  The default ``cons25'' console has the proper\r\n",
      "                     capabilities, but to display the colors in an xterm(1),\r\n",
      "                     for example, the TERM variable must be set to\r\n",
      "                     ``xterm-color''.  Other terminal types may require simi-\r\n",
      "                     lar adjustments.  Colorization is silently disabled if\r\n",
      "                     the output isn't directed to a terminal unless the\r\n",
      "                     CLICOLOR_FORCE variable is defined.\r\n",
      "\r\n",
      "     CLICOLOR_FORCE  Color sequences are normally disabled if the output isn't\r\n",
      "                     directed to a terminal.  This can be overridden by set-\r\n",
      "                     ting this flag.  The TERM variable still needs to refer-\r\n",
      "                     ence a color capable terminal however otherwise it is not\r\n",
      "                     possible to determine which color sequences to use.\r\n",
      "\r\n",
      "     COLUMNS         If this variable contains a string representing a decimal\r\n",
      "                     integer, it is used as the column position width for dis-\r\n",
      "                     playing multiple-text-column output.  The l\bls\bs utility cal-\r\n",
      "                     culates how many pathname text columns to display based\r\n",
      "                     on the width provided.  (See -\b-C\bC and -\b-x\bx.)\r\n",
      "\r\n",
      "     LANG            The locale to use when determining the order of day and\r\n",
      "                     month in the long -\b-l\bl format output.  See environ(7) for\r\n",
      "                     more information.\r\n",
      "\r\n",
      "     LSCOLORS        The value of this variable describes what color to use\r\n",
      "                     for which attribute when colors are enabled with\r\n",
      "                     CLICOLOR.  This string is a concatenation of pairs of the\r\n",
      "                     format _\bf_\bb, where _\bf is the foreground color and _\bb is the\r\n",
      "                     background color.\r\n",
      "\r\n",
      "                     The color designators are as follows:\r\n",
      "\r\n",
      "                           a\ba     black\r\n",
      "                           b\bb     red\r\n",
      "                           c\bc     green\r\n",
      "                           d\bd     brown\r\n",
      "                           e\be     blue\r\n",
      "                           f\bf     magenta\r\n",
      "                           g\bg     cyan\r\n",
      "                           h\bh     light grey\r\n",
      "                           A\bA     bold black, usually shows up as dark grey\r\n",
      "                           B\bB     bold red\r\n",
      "                           C\bC     bold green\r\n",
      "                           D\bD     bold brown, usually shows up as yellow\r\n",
      "                           E\bE     bold blue\r\n",
      "                           F\bF     bold magenta\r\n",
      "                           G\bG     bold cyan\r\n",
      "                           H\bH     bold light grey; looks like bright white\r\n",
      "                           x\bx     default foreground or background\r\n",
      "\r\n",
      "                     Note that the above are standard ANSI colors.  The actual\r\n",
      "                     display may differ depending on the color capabilities of\r\n",
      "                     the terminal in use.\r\n",
      "\r\n",
      "                     The order of the attributes are as follows:\r\n",
      "\r\n",
      "                           1.   directory\r\n",
      "                           2.   symbolic link\r\n",
      "                           3.   socket\r\n",
      "                           4.   pipe\r\n",
      "                           5.   executable\r\n",
      "                           6.   block special\r\n",
      "                           7.   character special\r\n",
      "                           8.   executable with setuid bit set\r\n",
      "                           9.   executable with setgid bit set\r\n",
      "                           10.  directory writable to others, with sticky bit\r\n",
      "                           11.  directory writable to others, without sticky\r\n",
      "                                bit\r\n",
      "\r\n",
      "                     The default is \"exfxcxdxbxegedabagacad\", i.e. blue fore-\r\n",
      "                     ground and default background for regular directories,\r\n",
      "                     black foreground and red background for setuid executa-\r\n",
      "                     bles, etc.\r\n",
      "\r\n",
      "     LS_COLWIDTHS    If this variable is set, it is considered to be a colon-\r\n",
      "                     delimited list of minimum column widths.  Unreasonable\r\n",
      "                     and insufficient widths are ignored (thus zero signifies\r\n",
      "                     a dynamically sized column).  Not all columns have\r\n",
      "                     changeable widths.  The fields are, in order: inode,\r\n",
      "                     block count, number of links, user name, group name,\r\n",
      "                     flags, file size, file name.\r\n",
      "\r\n",
      "     TERM            The CLICOLOR functionality depends on a terminal type\r\n",
      "                     with color capabilities.\r\n",
      "\r\n",
      "     TZ              The timezone to use when displaying dates.  See\r\n",
      "                     environ(7) for more information.\r\n",
      "\r\n",
      "C\bCO\bOM\bMP\bPA\bAT\bTI\bIB\bBI\bIL\bLI\bIT\bTY\bY\r\n",
      "     The group field is now automatically included in the long listing for\r\n",
      "     files in order to be compatible with the IEEE Std 1003.2 (``POSIX.2'')\r\n",
      "     specification.\r\n",
      "\r\n",
      "L\bLE\bEG\bGA\bAC\bCY\bY D\bDE\bES\bSC\bCR\bRI\bIP\bPT\bTI\bIO\bON\bN\r\n",
      "     In legacy mode, the -\b-f\bf option does not turn on the -\b-a\ba option and the -\b-g\bg,\r\n",
      "     -\b-n\bn, and -\b-o\bo options do not turn on the -\b-l\bl option.\r\n",
      "\r\n",
      "     Also, the -\b-o\bo option causes the file flags to be included in a long (-l)\r\n",
      "     output; there is no -\b-O\bO option.\r\n",
      "\r\n",
      "     When -\b-H\bH is specified (and not overridden by -\b-L\bL or -\b-P\bP) and a file argument\r\n",
      "     is a symlink that resolves to a non-directory file, the output will\r\n",
      "     reflect the nature of the link, rather than that of the file.  In legacy\r\n",
      "     operation, the output will describe the file.\r\n",
      "\r\n",
      "     For more information about legacy mode, see compat(5).\r\n",
      "\r\n",
      "S\bSE\bEE\bE A\bAL\bLS\bSO\bO\r\n",
      "     chflags(1), chmod(1), sort(1), xterm(1), compat(5), termcap(5),\r\n",
      "     symlink(7), sticky(8)\r\n",
      "\r\n",
      "S\bST\bTA\bAN\bND\bDA\bAR\bRD\bDS\bS\r\n",
      "     The l\bls\bs utility conforms to IEEE Std 1003.1-2001 (``POSIX.1'').\r\n",
      "\r\n",
      "H\bHI\bIS\bST\bTO\bOR\bRY\bY\r\n",
      "     An l\bls\bs command appeared in Version 1 AT&T UNIX.\r\n",
      "\r\n",
      "B\bBU\bUG\bGS\bS\r\n",
      "     To maintain backward compatibility, the relationships between the many\r\n",
      "     options are quite complex.\r\n",
      "\r\n",
      "BSD                              May 19, 2002                              BSD\r\n"
     ]
    }
   ],
   "source": [
    "!man ls"
   ]
  },
  {
   "cell_type": "code",
   "execution_count": 7,
   "metadata": {},
   "outputs": [
    {
     "name": "stdout",
     "output_type": "stream",
     "text": [
      "du: /Users/v.fedorenko/Downloads/: No such file or directory\r\n"
     ]
    }
   ],
   "source": [
    "!du -s -h /Users/v.fedorenko/Downloads/"
   ]
  },
  {
   "cell_type": "markdown",
   "metadata": {},
   "source": [
    "Поиск по man можно осуществить с помощью команды `apropos`"
   ]
  },
  {
   "cell_type": "code",
   "execution_count": 8,
   "metadata": {},
   "outputs": [
    {
     "name": "stdout",
     "output_type": "stream",
     "text": [
      "gcp(1), cp(1)            - copy files and directories\n",
      "ginstall(1), install(1)  - copy files and set attributes\n",
      "git-checkout-index(1)    - Copy files from the index to the working tree\n",
      "File::Copy(3pm)          - Copy files or filehandles\n",
      "cp(1)                    - copy files\n",
      "cpio(1)                  - copy files to and from archives\n"
     ]
    }
   ],
   "source": [
    "!apropos \"copy file\""
   ]
  },
  {
   "cell_type": "markdown",
   "metadata": {},
   "source": [
    "Другие полезные команды для работы с файлами и директориями. Для работы с директориями нужно указать флаг `-r`\n",
    "\n",
    "- `cp source_file target_file` \n",
    "- `mv old_path new path` \n",
    "- `rm file_to_remove`\n",
    "\n",
    "Если кто-то советует вам сделать `rm -rf /` - скорее всего, вас разыгрывают</h3>\n",
    "\n",
    "<img src=\"https://ih0.redbubble.net/image.238376101.3327/flat,800x800,075,f.jpg\">"
   ]
  },
  {
   "cell_type": "code",
   "execution_count": 9,
   "metadata": {},
   "outputs": [
    {
     "name": "stdout",
     "output_type": "stream",
     "text": [
      "rm: remove_me_dir: is a directory\r\n"
     ]
    }
   ],
   "source": [
    "!mkdir remove_me_dir\n",
    "!rm remove_me_dir"
   ]
  },
  {
   "cell_type": "code",
   "execution_count": 10,
   "metadata": {},
   "outputs": [],
   "source": [
    "!rm -r remove_me_dir"
   ]
  },
  {
   "cell_type": "markdown",
   "metadata": {},
   "source": [
    "Сообщение `rm: remove_me_dir: is a directory` печатается в `stderr`, но об этом чуть позже.\n",
    "\n",
    "Создать пустой файл можно командой `touch`. Если файл уже существует - то файл не будет модифицироваться"
   ]
  },
  {
   "cell_type": "code",
   "execution_count": 11,
   "metadata": {},
   "outputs": [],
   "source": [
    "!touch empty_file"
   ]
  },
  {
   "cell_type": "markdown",
   "metadata": {},
   "source": [
    "`echo` - печать аргумента в `stdout`. "
   ]
  },
  {
   "cell_type": "code",
   "execution_count": 12,
   "metadata": {},
   "outputs": [
    {
     "name": "stdout",
     "output_type": "stream",
     "text": [
      "Hello, world\r\n"
     ]
    }
   ],
   "source": [
    "!echo \"Hello, world\""
   ]
  },
  {
   "cell_type": "markdown",
   "metadata": {},
   "source": [
    "Узнать какому исполняему файлу соответствует команда"
   ]
  },
  {
   "cell_type": "code",
   "execution_count": 13,
   "metadata": {},
   "outputs": [
    {
     "name": "stdout",
     "output_type": "stream",
     "text": [
      "/Users/Alexander/anaconda2/bin/python\r\n"
     ]
    }
   ],
   "source": [
    "!which python"
   ]
  },
  {
   "cell_type": "markdown",
   "metadata": {},
   "source": [
    "### Globing\n",
    "\n",
    "Позволяет создавать маски для имён файлов и директорий\n",
    "\n",
    "1) `*` - любое количество произвольных символов. Пример: `head *.txt`\n",
    "\n",
    "2) `?` - один призвольный символ. Пример: `ls 0?.txt`\n",
    "\n",
    "3) `{aa,ab,cd,ef}` - один символ из указанной группы. Пример: `rm split_{a,b,c,d}.txt`\n",
    "\n",
    "4) `[0-9]` - один символ из указанного диапазона. Пример: `gzip logs-2017-10-2[0-5].txt`"
   ]
  },
  {
   "cell_type": "markdown",
   "metadata": {},
   "source": [
    "Посмотреть все переменные окружения можно следующей командой"
   ]
  },
  {
   "cell_type": "code",
   "execution_count": 14,
   "metadata": {},
   "outputs": [
    {
     "name": "stdout",
     "output_type": "stream",
     "text": [
      "TERM_PROGRAM=iTerm.app\r\n",
      "SHELL=/bin/zsh\r\n",
      "TERM=xterm-color\r\n",
      "CLICOLOR=1\r\n",
      "TMPDIR=/var/folders/rb/8mlx2czs6wv9sbx_5726v_br0000gn/T/\r\n",
      "Apple_PubSub_Socket_Render=/private/tmp/com.apple.launchd.s42RpPPdDH/Render\r\n",
      "TERM_PROGRAM_VERSION=3.1.5\r\n",
      "TERM_SESSION_ID=w0t0p0:B4B83BF4-0F92-4341-84AD-A42A01FC1F87\r\n",
      "ZSH=/Users/Alexander/.oh-my-zsh\r\n",
      "USER=Alexander\r\n",
      "SSH_AUTH_SOCK=/private/tmp/com.apple.launchd.PrAVjqVNc5/Listeners\r\n",
      "__CF_USER_TEXT_ENCODING=0x1F5:0x7:0x31\r\n",
      "JPY_PARENT_PID=62997\r\n",
      "PAGER=cat\r\n",
      "LSCOLORS=Gxfxcxdxbxegedabagacad\r\n",
      "PATH=/Users/Alexander/anaconda2/bin:/Users/Alexander/anaconda2/bin:/usr/local/bin:/usr/bin:/bin:/usr/sbin:/sbin:/Applications/MacVim.app/Contents/bin:/Library/Frameworks/Mono.framework/Versions/Current/Commands:/Library/TeX/texbin\r\n",
      "_=/usr/bin/env\r\n",
      "PWD=/Users/Alexander/Documents/GitHub/TechnoSphere-IDA/notebooks/06. 20.03.2018\r\n",
      "MPLBACKEND=module://ipykernel.pylab.backend_inline\r\n",
      "LANG=ru_RU.UTF-8\r\n",
      "ITERM_PROFILE=Default\r\n",
      "XPC_FLAGS=0x0\r\n",
      "XPC_SERVICE_NAME=0\r\n",
      "SHLVL=2\r\n",
      "COLORFGBG=12;8\r\n",
      "HOME=/Users/Alexander\r\n",
      "ITERM_SESSION_ID=w0t0p0:B4B83BF4-0F92-4341-84AD-A42A01FC1F87\r\n",
      "LOGNAME=Alexander\r\n",
      "LESS=-R\r\n",
      "LC_CTYPE=en_US.UTF-8\r\n",
      "GIT_PAGER=cat\r\n",
      "COLORTERM=truecolor\r\n"
     ]
    }
   ],
   "source": [
    "!env"
   ]
  },
  {
   "cell_type": "markdown",
   "metadata": {},
   "source": [
    "Установить переменную окружения можно командой `export`. \n",
    "\n",
    "Например: `export JAVA_HOME=/usr/java/bin; echo $JAVA_HOME`\n",
    "\n",
    "Так же, перемннные окружения можно задать в файле `~/.bash_profile`. После того, как вы изменили  `~/.bash_profile` необходимо его активировать `source ~/.bash_profile` или закрыть и заново открыть терминал"
   ]
  },
  {
   "cell_type": "markdown",
   "metadata": {},
   "source": [
    "# Работа с содержимым и pipes"
   ]
  },
  {
   "cell_type": "markdown",
   "metadata": {},
   "source": [
    "#### head & tail\n",
    "Вывести начало или конец файла или потока - `head` и `tail` соответственно. Полезная опция - `-n`, задаёт сколько строк нужно вывести. По умолчанию 10."
   ]
  },
  {
   "cell_type": "code",
   "execution_count": 15,
   "metadata": {},
   "outputs": [
    {
     "name": "stdout",
     "output_type": "stream",
     "text": [
      "head: /my/awesome/file.txt: No such file or directory\r\n"
     ]
    }
   ],
   "source": [
    "!head -3 /my/awesome/file.txt"
   ]
  },
  {
   "cell_type": "code",
   "execution_count": 16,
   "metadata": {},
   "outputs": [
    {
     "name": "stdout",
     "output_type": "stream",
     "text": [
      "tail: /my/awesome/file.txt: No such file or directory\r\n"
     ]
    }
   ],
   "source": [
    "!tail -3 /my/awesome/file.txt"
   ]
  },
  {
   "cell_type": "code",
   "execution_count": 17,
   "metadata": {},
   "outputs": [
    {
     "name": "stdout",
     "output_type": "stream",
     "text": [
      "tail: ./watch_me.txt: No such file or directory\r\n"
     ]
    }
   ],
   "source": [
    "!tail -F ./watch_me.txt"
   ]
  },
  {
   "cell_type": "markdown",
   "metadata": {},
   "source": [
    "#### grep\n",
    "\n",
    "Команда `grep` служит для фильтрации входного потока.  `grep ERROR very_important_log.txt`. Полезные опции:\n",
    "\n",
    "- `-i` - игнорировать регистр\n",
    "- `-v` - инвертированная фильтрация\n",
    "- `-E` - расширенные регулярные выражения\n",
    "- `-A 2` - выводить по две строчки перед совпавшим шаблоном\n",
    "- `-B 4` - выводить по четыре строчки после совпавшего шаблона\n",
    "- `-C 3` - контекст 3 строчки до 3 после\n",
    "- `--color` - помочь глазам и подсветить совпавший шаблон\n",
    "- `-m 5` - вывести первые 5 совпадений\n",
    "- `-l` - вывести имена совпавших файлов"
   ]
  },
  {
   "cell_type": "markdown",
   "metadata": {},
   "source": [
    "#### awk\n",
    "\n",
    "AWK является отдельным языком программирования, про который можно сделать отдельную лекцию. Пара примеров:\n",
    "\n",
    "`awk -F '\\t' '{print $1}'` - разбить каждую строчку потока по разделителю `-F` и напечатать первое поле\n",
    "\n",
    "`awk -F '\\t' '($3==10)' {print $0}` - разбить каждую строчку потока по разделителю `-F` и напечатать исходные строки, где 3-е поле равно десяти \n",
    "\n",
    "`cat done.* | awk -F '\\t' '{c[$2] += 1} END {d=0; for(key in c){print key, c[key]; d += c[key]}; print \"TOTAL: \",d}'` \n",
    "- Заводим счётчик под каждое уникальное значение второе поле, печатаем значение и счётчик и сумму всех счётчиков\n",
    "\n",
    "https://habrahabr.ru/company/ruvds/blog/327754/"
   ]
  },
  {
   "cell_type": "markdown",
   "metadata": {},
   "source": [
    "#### split\n",
    "\n",
    "Разбивает исходный файл на меньшие файлы с заданными параметрами. Может пригодится при параллельной обработке. Пример:\n",
    "\n",
    "`split -a 4 -l 100 -d my_big_file.txt split_part_` - разобьёт файл my_big_file.txt на файлы по 100 строк, будет использовать 4 символа под суффикс, файлы будут называться split_part_0000, split_part_0001. Опция -d нужна для того, чтобы суффиксы формировались из чисел, по умолчанию буквы латинского алфавита\n",
    "\n",
    "#### tr\n",
    "\n",
    "Утилита нужна для преобразования текста во входном потоке\n",
    "\n",
    "`tr \"[:lower:]\" \"[:upper:]\"` - заменяет все буквы нижнего регистра на соответствующие заглавные буквы \n",
    "\n",
    "`tr \" \" \"\\n\"` - заменяет пробелы на переводы строк\n",
    "\n",
    "#### wc \n",
    "\n",
    "Утилита для подсчтёта символов, слов, строк. Пример: `wc -l my_big_file.txt`\n",
    "\n",
    "#### cut \n",
    "\n",
    "Утилита для вырезания полей или символов из входного потока:\n",
    "\n",
    "`cut -d : -f 1,7 /etc/passwd` \n",
    "\n",
    "`who | cut -c 1-16,26-38`"
   ]
  },
  {
   "cell_type": "markdown",
   "metadata": {},
   "source": [
    "#### uniq\n",
    "\n",
    "Возвращает уникальные элементы из входного потока. Но не совсем. uniq заменяет группу подряд идущих уникальных значений на единичное значение. Предположим, у нас есть файл `uniq_test_1.txt` с содержимым `1 1 1 1 2 2 2` и `uniq_test_2.txt` c содержимым `1 1 2 2 1 1`.\n",
    "\n",
    "`cat uniq_test_1.txt | tr \" \" \"\\n\" | uniq | tr \"\\n\" \" \" ` выдаст `1 2`\n",
    "\n",
    "`cat uniq_test_2.txt | tr \" \" \"\\n\" | uniq | tr \"\\n\" \" \" ` выдаст `1 2 1`\n",
    "\n",
    "Полезные опции:\n",
    "\n",
    "`-c` - подсчитывает количество каждого элемента\n",
    "`-u` - выводит только уникальные элементы\n",
    "`-d` - выводит только дубликаты\n",
    "\n",
    "#### sort\n",
    "\n",
    "Сортирует входной поток данных. Полезные опции:\n",
    "\n",
    "`-k1,3` - сортировать по ключу, начинающемуся с 1-ого поля и заканчивающемся на 3 поле\n",
    "\n",
    "`-n` - воспринимать ключи числами. По умолчанию, числа будут сортироваться, как строки в лексикографическом порядке\n",
    "\n",
    "`-r` - сортировка в обратном порядке\n",
    "\n",
    "`-h` - сортировать по-человечески. То есть, понимать, что 3K это больше 783, а 4K меньше 3M\n",
    "\n",
    "`-p` - сортировать в p процессов. Данная опция может отсутствовать"
   ]
  },
  {
   "cell_type": "markdown",
   "metadata": {},
   "source": [
    "## Pipes.\n",
    "\n",
    "Потоки данных можно перенаправлять через специальный символ - \"|\" (pipe). Тогда stdout одной команды станет stdin следующей команды. Пример: \n",
    "\n",
    "`cat my_file.txt | head | grep awesome_pattern | awk '{print $NF}' > result.txt`\n",
    "\n",
    "Существуют три потока данных `0 — STDIN, 1 — STDOUT и 2 — STDERR`.  Оператор `>` перенаправляет только stdout.  Пример:\n",
    "\n",
    "`magic_script.sh > /dev/null 2>&1` - stdout скрипта летит в `/dev/null`, stderr - в стандартный вывод\n",
    "\n",
    "#### Useless `cat`\n",
    "\n",
    "<img src=\"https://squarewheelscycling.com/uploads/monthly_2015_08/useless-cat.jpg.e67ee19e399ff56da91d778b461a3e1e.jpg\">\n",
    "\n",
    "Многие команды принимают аргументами, как файл, так и stdin. Например, \n",
    "\n",
    "`head file.txt`\n",
    "\n",
    "`cat file.txt | head`. \n",
    "\n",
    "Второе называют антипаттерном useless cat."
   ]
  },
  {
   "cell_type": "markdown",
   "metadata": {},
   "source": [
    "# Bash"
   ]
  },
  {
   "cell_type": "markdown",
   "metadata": {},
   "source": [
    "`#!/bin/bash`\n",
    "Первая строка скрипта - это shebang, который сообщает системе, как исполнять этот скрипт: http://en.wikipedia.org/wiki/Shebang_(Unix) \n",
    "\n",
    "\n",
    "Простой пример hello world:\n",
    "\n",
    "`echo Hello world!`\n",
    "\n",
    "Отдельные команды начинаются с новой строки или разделяются точкой с запятой:\n",
    "\n",
    "`echo 'Это первая строка'; echo 'Это вторая строка'`\n",
    "\n",
    "Вот так объявляется переменная:\n",
    "\n",
    "`VARIABLE=\"Просто строка\"`\n",
    "\n",
    "\n",
    "VARIABLE = \"Просто строка\"\n",
    "\n",
    "\n",
    "Использование переменой:\n",
    "\n",
    "`echo $VARIABLE`\n",
    "`echo \"$VARIABLE\"`\n",
    "`echo '$VARIABLE'`\n",
    "\n",
    "Когда вы используете переменную - присваиваете, экспортируете и т.д. - пишите её имя без `$`. А для получения значения переменной используйте `$`. Заметьте, что ' (одинарные кавычки) не раскрывают переменные в них.\n",
    "\n",
    "В bash есть полезные встроенные переменные, например\n",
    "\n",
    "`echo \"Последнее возвращенное значение: $?\"`\n",
    "\n",
    "`echo \"PID скрипта: $$\"`\n",
    "\n",
    "`echo \"Количество аргументов: $#\"`\n",
    "\n",
    "`echo \"Аргументы скрипта: $@\"`\n",
    "\n",
    "`echo \"Аргументы скрипта, распределённые по отдельным переменным: $1 $2...\"`\n",
    "\n",
    "Чтение аргументов из устройста ввода:\n",
    "\n",
    "`echo \"Как Вас зовут?\"`\n",
    "\n",
    "`read NAME # Обратите внимание, что нам не нужно определять новую переменную`\n",
    "\n",
    "`echo Привет, $NAME!`\n",
    "\n",
    "У нас есть обычная структура if: наберите 'man test' для получения подробной информации о форматах условия\n",
    "\n",
    "`if [ $NAME -ne $USER ]`\n",
    "\n",
    "`then`\n",
    "\n",
    "`    echo \"Имя не совпадает с именем пользователя\"`\n",
    "\n",
    "`else`\n",
    "\n",
    "echo \"Имя совпадает с именем пользователя\"`\n",
    "\n",
    "`fi`\n",
    "\n",
    "Примечание: если `$Name` пустой, bash интерпретирует код как:\n",
    "\n",
    "\n",
    "`if [ -ne $USER ]`\n",
    "\n",
    "`# а это ошибочная команда`\n",
    "\n",
    "`# поэтому такие переменные нужно использовать так:`\n",
    "\n",
    "`if [ \"$Name\" -ne $USER ] ...`\n",
    "\n",
    "`# когда $Name пустой, bash видит код как:`\n",
    "\n",
    "`if [ \"\" -ne $USER ] ...`\n",
    "\n",
    "`# что работает правильно`\n",
    "\n",
    "\n",
    "Также есть условное исполнение\n",
    "\n",
    "`echo \"Исполнится всегда\" || echo \"Исполнится, если первая команда завершится ошибкой\"`\n",
    "\n",
    "`echo \"Исполнится всегда\" && echo \"Исполнится, если первая команда выполнится удачно\"`\n",
    "\n",
    "Можно использовать && и || в выражениях if, когда нужно несколько пар скобок:\n",
    "\n",
    "`if [ $NAME == \"Steve\" ] && [ $AGE -eq 15 ]`\n",
    "\n",
    "`then`\n",
    "\n",
    "`    echo \"Исполнится, если $NAME равно Steve И $AGE равно 15.\"`\n",
    "\n",
    "`fi`\n",
    "\n",
    "Ещё пример\n",
    "\n",
    "`if [ $NAME == \"Daniya\" ] || [ $NAME == \"Zach\" ]`\n",
    "\n",
    "`then`\n",
    "\n",
    "`echo \"Исполнится, если $NAME равно Daniya ИЛИ Zach.\"`\n",
    "\n",
    "`fi`\n"
   ]
  },
  {
   "cell_type": "markdown",
   "metadata": {},
   "source": [
    "Цикл for перебирает элементы переданные в аргументе:\n",
    "\n",
    "`# Содержимое $VARIABLE будет напечатано три раза.\n",
    "\n",
    "`for VARIABLE in {1..3}`\n",
    "\n",
    "`do`\n",
    "\n",
    "`    echo \"$VARIABLE\"`\n",
    "\n",
    "`done`\n",
    "\n",
    "Или с использованием \"традиционного\" синтаксиса цикла for:\n",
    "\n",
    "`for ((a=1; a <= 3; a++))`\n",
    "`do`\n",
    "`    echo $a`\n",
    "`done`\n",
    "\n",
    "Цикл for можно использовать для действий с файлами. Запустим команду 'cat' для файлов file1 и file2\n",
    "\n",
    "`for VARIABLE in file1 file2`\n",
    "\n",
    "`do`\n",
    "\n",
    "`    cat \"$VARIABLE\"`\n",
    "\n",
    "`done`\n",
    "\n",
    "... или выводом из команд. Запустим cat для вывода из ls.\n",
    "\n",
    "`for OUTPUT in $(ls)`\n",
    "\n",
    "`do`\n",
    "\n",
    "`    cat \"$OUTPUT\"`\n",
    "\n",
    "`done`\n",
    "\n",
    "Цикл while:\n",
    "\n",
    "`while [ true ]`\n",
    "\n",
    "`do`\n",
    "\n",
    "`    echo \"тело цикла здесь...\"`\n",
    "\n",
    "`    break`\n",
    "\n",
    "`done`"
   ]
  },
  {
   "cell_type": "markdown",
   "metadata": {
    "collapsed": true
   },
   "source": [
    "# Other"
   ]
  },
  {
   "cell_type": "markdown",
   "metadata": {},
   "source": [
    "1) Background Mode - `jupter notebook &`\n",
    "\n",
    "2) Просмотр запущенных процессов - `ps aux`\n",
    "\n",
    "3) vim.\n",
    "\n",
    "4) Отправка запросов `curl \"https://en.wikipedia.org/w/api.php?action=query&titles=python&prop=revisions&rvprop=content&format=json\"`\n",
    "\n",
    "5) ps - просмотр запущенных процессов\n",
    "\n",
    "6) top/htop - мониторинг процессов\n",
    "\n",
    "\n",
    "\n",
    "#### Архивирование\n",
    "\n",
    "`zip archive.zip first_file.txt second_file.tsv`\n",
    "\n",
    "`zip -r archive_with_dir.zip ./cool_dir/`\n",
    "\n",
    "`gzip my_file.txt` - удаляет исходный файл, создаёт архив с суффиксом - `my_file.txt.gz`\n",
    "\n",
    "`gunzip my_file.txt.gz`\n",
    "\n",
    "`gunzip -k -c my_file.txt.gz` - `-k` говорит о том, что исходный файл удалять не надо, `-c` - выводит результат в `stdout`. Данный набор опций нужен настолько часто, что ему соответствует утилита `zcat`\n",
    "\n",
    "Аналогичным образом работает `bzip2` и `bunzip2`. Сильнее сжимает, но требует больше процессорного времени"
   ]
  },
  {
   "cell_type": "markdown",
   "metadata": {},
   "source": [
    "#### screen\n",
    "\n",
    "Утилита создаёт \"экран\", который продолжает работать, когда терминал закрыт.\n",
    "\n",
    "`screen -S screenname` - создать экран\n",
    "\n",
    "`screen -ls` - список запущенных скринов\n",
    "\n",
    "`screen -X -S screenname quit` - выйти из скрина\n",
    "\n",
    "Свернуть скрин: cntrl+A, cntrl+D\n",
    "\n",
    "Пролистать скрин: cntrl+A, Esc. Выход из режима пролистывания - Esc.\n",
    "\n",
    "Альтернатива: **tmux**"
   ]
  },
  {
   "cell_type": "markdown",
   "metadata": {},
   "source": [
    "#### scp\n",
    "\n",
    "scp нужна для копирования файлов с/на удалённый хост:\n",
    "\n",
    "`scp \"username@hostname:dir_to_file\" local_path_for_file`\n",
    "\n",
    "`scp local_file \"username@hostname:dir_to_file\"`\n",
    "\n",
    "#### ssh\n",
    "\n",
    "Зайти на удалённый хост: \n",
    "\n",
    "`ssh username@host`\n",
    "\n",
    "`ssh -N -f -L localhost:LOCAL_PORT:localhost:HOST_PORT username@hostname`\n",
    "\n",
    "\n",
    "#### less \n",
    "\n",
    "Просмотр содержимого файла\n",
    "\n",
    "\n",
    "#### xargs \n",
    "\n",
    "\"Разворачивание stdin в набор аргументов\" \n",
    "\n",
    "\n",
    "#### find\n",
    "\n",
    "Трудно поверить, но данная утилита помогает искать файлы. Ознакомьтесь с мануалом данной команды, он может пригодиться при выполнении самостоятельного задания\n",
    "\n",
    "##### cron\n",
    "\n",
    "Сервис для создания периодичных задач: каждую минуту/час/день. Для заведения \"задач\" - `crontab -e`. Примеры:\n",
    "\n",
    " ``` 23 */2 * * * echo \"Выполняется в 0:23, 2:23, 4:23 и т. д.\"\n",
    " 5 4 * * sun echo \"Выполняется в 4:05 в воскресенье\"\n",
    " 0 0 1 1 * echo \"С новым годом!\"\n",
    " 15 10,13 * * 1,4 echo \"Эта надпись выводится в понедельник и четверг в 10:15 и 13:15\"\n",
    " 0-59 * * * * echo \"Выполняется ежеминутно\"\n",
    " 0-59/2 * * * * echo \"Выполняется по четным минутам\"\n",
    " 1-59/2 * * * * echo \"Выполняется по нечетным минутам\"\n",
    " */5 * * * * echo \"Прошло пять минут\"```"
   ]
  },
  {
   "cell_type": "code",
   "execution_count": 18,
   "metadata": {},
   "outputs": [
    {
     "name": "stdout",
     "output_type": "stream",
     "text": [
      "/bin/sh: /bin/rm: Argument list too long\r\n"
     ]
    }
   ],
   "source": [
    "!mkdir another_dir\n",
    "!cd another_dir\n",
    "!for i in {0..50000}; do touch \"$i.txt\"; done; rm *.txt"
   ]
  },
  {
   "cell_type": "code",
   "execution_count": 19,
   "metadata": {},
   "outputs": [
    {
     "name": "stdout",
     "output_type": "stream",
     "text": [
      "total 128\r\n",
      "drwxr-xr-x   8 Alexander  staff    272 20 мар 20:51 .\r\n",
      "drwxr-xr-x  10 Alexander  staff    340 20 мар 19:07 ..\r\n",
      "-rw-r--r--@  1 Alexander  staff   6148 20 мар 20:51 .DS_Store\r\n",
      "drwxr-xr-x   3 Alexander  staff    102 20 мар 19:10 .ipynb_checkpoints\r\n",
      "drwxr-xr-x   2 Alexander  staff     68 20 мар 20:44 another_dir\r\n",
      "-rw-r--r--@  1 Alexander  staff  56696 20 мар 20:47 bash_lecture.ipynb\r\n",
      "-rw-r--r--   1 Alexander  staff      0 20 мар 19:15 empty_file\r\n",
      "drwxr-xr-x   2 Alexander  staff     68 20 мар 19:10 example_dir\r\n"
     ]
    }
   ],
   "source": [
    "!ls -la | tail"
   ]
  },
  {
   "cell_type": "code",
   "execution_count": 20,
   "metadata": {},
   "outputs": [],
   "source": [
    "!find . -name \"*.txt\" | xargs rm "
   ]
  },
  {
   "cell_type": "markdown",
   "metadata": {},
   "source": [
    "<h3><a href=\"https://tproger.ru/news/how-to-exit-damned-vim/\">Из Vim не может выйти уже более миллиона человек: статистика от Stack Overflow (24 мая 2017)</a></h3>\n",
    "\n",
    "Недавно вопрос «Как выйти из редактора Vim?», опубликованный в 2012 году, достиг рекордного количества просмотров: 1 000 000. В честь этого события на Stack Overflow провели исследование и выложили статистику, которая иллюстрирует популярную проблему.\n",
    "\n",
    "<img src=\"https://lh3.googleusercontent.com/-GNcxZZi34HE/V5YcDwlB-aI/AAAAAAAAGF0/XcpCFtLRSgsW_J6DvUGHjWi8Ezj72PMdg/w530-h696-n/f506bdc3-8270-4e2f-9e83-9c36d8450136\">\n",
    "\n",
    "<img src=\"http://teaching.idallen.com/cst8207/15f/notes/data/vim_exit.jpg\">"
   ]
  },
  {
   "cell_type": "markdown",
   "metadata": {},
   "source": [
    "<h3><a href=\"https://tproger.ru/translations/dont-copy-paste-from-internet-to-terminal/\">Не вставляйте в консоль скопированный из Интернета код!</a></h3>"
   ]
  },
  {
   "cell_type": "markdown",
   "metadata": {},
   "source": [
    "# Полезные ссылки\n",
    "\n",
    "<a href=\"https://github.com/jlevy/the-art-of-command-line/blob/master/README-ru.md\">Искусство командной строки</a>\n",
    "\n",
    "<a href=\"http://datascienceatthecommandline.com/\">Data Science at the Command Line<a/>\n",
    "<img src=\"http://datascienceatthecommandline.com/assets/img/data-science-at-the-command-line.png\">"
   ]
  },
  {
   "cell_type": "code",
   "execution_count": null,
   "metadata": {
    "collapsed": true
   },
   "outputs": [],
   "source": []
  }
 ],
 "metadata": {
  "kernelspec": {
   "display_name": "Python 2",
   "language": "python",
   "name": "python2"
  },
  "language_info": {
   "codemirror_mode": {
    "name": "ipython",
    "version": 2
   },
   "file_extension": ".py",
   "mimetype": "text/x-python",
   "name": "python",
   "nbconvert_exporter": "python",
   "pygments_lexer": "ipython2",
   "version": "2.7.14"
  }
 },
 "nbformat": 4,
 "nbformat_minor": 2
}

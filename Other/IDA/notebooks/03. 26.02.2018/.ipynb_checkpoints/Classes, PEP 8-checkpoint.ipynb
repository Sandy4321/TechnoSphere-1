{
 "cells": [
  {
   "cell_type": "markdown",
   "metadata": {},
   "source": [
    "### Python code style\n",
    "1. http://docs.python-guide.org/en/latest/writing/style/\n",
    "2. http://pep8.org/\n",
    "3. https://www.python.org/dev/peps/pep-0008/\n",
    "\n",
    "Наш стиль:\n",
    "    119 символов в строке максимум"
   ]
  },
  {
   "cell_type": "markdown",
   "metadata": {
    "collapsed": true
   },
   "source": [
    "## Классы"
   ]
  },
  {
   "cell_type": "markdown",
   "metadata": {},
   "source": [
    "Подробнее о классах (и в целом очень хороший курс)\n",
    "\n",
    "https://compscicenter.ru/courses/python/2015-autumn/classes/1477/"
   ]
  },
  {
   "cell_type": "markdown",
   "metadata": {},
   "source": [
    "### Простой пример"
   ]
  },
  {
   "cell_type": "code",
   "execution_count": 1,
   "metadata": {},
   "outputs": [],
   "source": [
    "import numpy as np"
   ]
  },
  {
   "cell_type": "code",
   "execution_count": 2,
   "metadata": {},
   "outputs": [],
   "source": [
    "class Transformer:\n",
    "    \n",
    "    def __init__(self, power=2):\n",
    "        self.power = power\n",
    "    \n",
    "    # self is important\n",
    "    def transform(self, x):\n",
    "        return x ** self.power"
   ]
  },
  {
   "cell_type": "code",
   "execution_count": 3,
   "metadata": {},
   "outputs": [
    {
     "data": {
      "text/plain": [
       "array([ 0,  1,  4,  9, 16])"
      ]
     },
     "execution_count": 3,
     "metadata": {},
     "output_type": "execute_result"
    }
   ],
   "source": [
    "trans = Transformer()\n",
    "x = np.arange(5)\n",
    "trans.transform(x)"
   ]
  },
  {
   "cell_type": "markdown",
   "metadata": {},
   "source": [
    "### Атрибуты экземпляра и атрибуты класса"
   ]
  },
  {
   "cell_type": "code",
   "execution_count": 10,
   "metadata": {},
   "outputs": [],
   "source": [
    "class Transformer(object):\n",
    "    num_times_called = 0\n",
    "    \n",
    "    def __init__(self, power=2):\n",
    "        self.power = power\n",
    "    \n",
    "    def transform(self, x):\n",
    "        Transformer.num_times_called += 1\n",
    "        return x ** self.power"
   ]
  },
  {
   "cell_type": "code",
   "execution_count": 11,
   "metadata": {},
   "outputs": [
    {
     "data": {
      "text/plain": [
       "array([ 0,  1,  4,  9, 16])"
      ]
     },
     "execution_count": 11,
     "metadata": {},
     "output_type": "execute_result"
    }
   ],
   "source": [
    "trans1 = Transformer()\n",
    "trans1.transform(x)"
   ]
  },
  {
   "cell_type": "code",
   "execution_count": 12,
   "metadata": {},
   "outputs": [
    {
     "data": {
      "text/plain": [
       "array([ 0,  1,  4,  9, 16])"
      ]
     },
     "execution_count": 12,
     "metadata": {},
     "output_type": "execute_result"
    }
   ],
   "source": [
    "trans2 = Transformer()\n",
    "trans2.transform(x)"
   ]
  },
  {
   "cell_type": "code",
   "execution_count": 13,
   "metadata": {},
   "outputs": [
    {
     "data": {
      "text/plain": [
       "2"
      ]
     },
     "execution_count": 13,
     "metadata": {},
     "output_type": "execute_result"
    }
   ],
   "source": [
    "trans2.num_times_called"
   ]
  },
  {
   "cell_type": "markdown",
   "metadata": {},
   "source": [
    "### Наследование"
   ]
  },
  {
   "cell_type": "code",
   "execution_count": 14,
   "metadata": {},
   "outputs": [],
   "source": [
    "class StandartTrasnformer(Transformer):\n",
    "    def __init__(self, power=2, is_std=False, ):\n",
    "        self.is_std = is_std\n",
    "        super(StandartTrasnformer, self).__init__(power)\n",
    "    \n",
    "    def transform(self, x):\n",
    "        # using here -= is bad as \n",
    "        # it can induce casting problems\n",
    "        x = x - x.mean()\n",
    "        if self.is_std:\n",
    "            x /= x.std()\n",
    "        return x ** self.power"
   ]
  },
  {
   "cell_type": "code",
   "execution_count": 22,
   "metadata": {},
   "outputs": [],
   "source": [
    "y = np.arange(10)"
   ]
  },
  {
   "cell_type": "code",
   "execution_count": 24,
   "metadata": {},
   "outputs": [
    {
     "ename": "TypeError",
     "evalue": "Cannot cast ufunc subtract output from dtype('float64') to dtype('int64') with casting rule 'same_kind'",
     "output_type": "error",
     "traceback": [
      "\u001b[0;31m---------------------------------------------------------------------------\u001b[0m",
      "\u001b[0;31mTypeError\u001b[0m                                 Traceback (most recent call last)",
      "\u001b[0;32m<ipython-input-24-12383afa69b0>\u001b[0m in \u001b[0;36m<module>\u001b[0;34m()\u001b[0m\n\u001b[0;32m----> 1\u001b[0;31m \u001b[0my\u001b[0m \u001b[0;34m-=\u001b[0m \u001b[0my\u001b[0m\u001b[0;34m.\u001b[0m\u001b[0mmean\u001b[0m\u001b[0;34m(\u001b[0m\u001b[0;34m)\u001b[0m\u001b[0;34m\u001b[0m\u001b[0m\n\u001b[0m",
      "\u001b[0;31mTypeError\u001b[0m: Cannot cast ufunc subtract output from dtype('float64') to dtype('int64') with casting rule 'same_kind'"
     ]
    }
   ],
   "source": [
    "y -= y.mean()"
   ]
  },
  {
   "cell_type": "code",
   "execution_count": 25,
   "metadata": {},
   "outputs": [
    {
     "data": {
      "text/plain": [
       "array([-2., -1.,  0.,  1.,  2.])"
      ]
     },
     "execution_count": 25,
     "metadata": {},
     "output_type": "execute_result"
    }
   ],
   "source": [
    "trans = StandartTrasnformer(power=1, is_std=False)\n",
    "trans.transform(x)"
   ]
  },
  {
   "cell_type": "code",
   "execution_count": 26,
   "metadata": {},
   "outputs": [
    {
     "data": {
      "text/plain": [
       "4"
      ]
     },
     "execution_count": 26,
     "metadata": {},
     "output_type": "execute_result"
    }
   ],
   "source": [
    "# we wanted other behaviour\n",
    "trans.num_times_called"
   ]
  },
  {
   "cell_type": "code",
   "execution_count": 50,
   "metadata": {},
   "outputs": [],
   "source": [
    "class StandartTrasnformer(Transformer):\n",
    "    # https://www.python.org/dev/peps/pep-0008/#string-quotes\n",
    "    \"\"\"Some fancy transformer\"\"\"   # здесь нужно использовать именно двойные кавычки (так условились)\n",
    "    \n",
    "    def __init__(self, power=2, is_std=False, ):\n",
    "        self.is_std = is_std\n",
    "        super(StandartTrasnformer, self).__init__(power) # чтобы вызвать метод базового класса\n",
    "    \n",
    "    def transform(self, x):\n",
    "        x = x - x.mean()\n",
    "        if self.is_std:\n",
    "            x /= x.std()\n",
    "        return super(StandartTrasnformer, self).transform(x)"
   ]
  },
  {
   "cell_type": "code",
   "execution_count": 31,
   "metadata": {},
   "outputs": [
    {
     "data": {
      "text/plain": [
       "array([-2., -1.,  0.,  1.,  2.])"
      ]
     },
     "execution_count": 31,
     "metadata": {},
     "output_type": "execute_result"
    }
   ],
   "source": [
    "trans = StandartTrasnformer(power=1, is_std=False)\n",
    "trans.transform(x)"
   ]
  },
  {
   "cell_type": "code",
   "execution_count": 32,
   "metadata": {},
   "outputs": [
    {
     "data": {
      "text/plain": [
       "6"
      ]
     },
     "execution_count": 32,
     "metadata": {},
     "output_type": "execute_result"
    }
   ],
   "source": [
    "trans.num_times_called"
   ]
  },
  {
   "cell_type": "markdown",
   "metadata": {},
   "source": [
    "### Приватные методы"
   ]
  },
  {
   "cell_type": "code",
   "execution_count": 34,
   "metadata": {},
   "outputs": [],
   "source": [
    "class A:\n",
    "    def __init__(self):\n",
    "        self.public_var = 0\n",
    "        self._private_var = 1        # говорим пользователю не использовать этот метод\n",
    "        self.__very_private_var = 2  # вообще не надо их использовать"
   ]
  },
  {
   "cell_type": "code",
   "execution_count": 37,
   "metadata": {},
   "outputs": [
    {
     "name": "stdout",
     "output_type": "stream",
     "text": [
      "('public:', 0)\n",
      "('private:', 1)\n"
     ]
    },
    {
     "ename": "AttributeError",
     "evalue": "A instance has no attribute '__very_private_var'",
     "output_type": "error",
     "traceback": [
      "\u001b[0;31m---------------------------------------------------------------------------\u001b[0m",
      "\u001b[0;31mAttributeError\u001b[0m                            Traceback (most recent call last)",
      "\u001b[0;32m<ipython-input-37-383fa3a8039b>\u001b[0m in \u001b[0;36m<module>\u001b[0;34m()\u001b[0m\n\u001b[1;32m      1\u001b[0m \u001b[0;32mprint\u001b[0m\u001b[0;34m(\u001b[0m\u001b[0;34m'public:'\u001b[0m\u001b[0;34m,\u001b[0m \u001b[0mA\u001b[0m\u001b[0;34m(\u001b[0m\u001b[0;34m)\u001b[0m\u001b[0;34m.\u001b[0m\u001b[0mpublic_var\u001b[0m\u001b[0;34m)\u001b[0m\u001b[0;34m\u001b[0m\u001b[0m\n\u001b[1;32m      2\u001b[0m \u001b[0;32mprint\u001b[0m\u001b[0;34m(\u001b[0m\u001b[0;34m'private:'\u001b[0m\u001b[0;34m,\u001b[0m \u001b[0mA\u001b[0m\u001b[0;34m(\u001b[0m\u001b[0;34m)\u001b[0m\u001b[0;34m.\u001b[0m\u001b[0m_private_var\u001b[0m\u001b[0;34m)\u001b[0m\u001b[0;34m\u001b[0m\u001b[0m\n\u001b[0;32m----> 3\u001b[0;31m \u001b[0;32mprint\u001b[0m\u001b[0;34m(\u001b[0m\u001b[0;34m'very private:'\u001b[0m\u001b[0;34m,\u001b[0m \u001b[0mA\u001b[0m\u001b[0;34m(\u001b[0m\u001b[0;34m)\u001b[0m\u001b[0;34m.\u001b[0m\u001b[0m__very_private_var\u001b[0m\u001b[0;34m)\u001b[0m   \u001b[0;31m# ха-ха, так нельзя\u001b[0m\u001b[0;34m\u001b[0m\u001b[0m\n\u001b[0m",
      "\u001b[0;31mAttributeError\u001b[0m: A instance has no attribute '__very_private_var'"
     ]
    }
   ],
   "source": [
    "print('public:', A().public_var)\n",
    "print('private:', A()._private_var)\n",
    "print('very private:', A().__very_private_var)   # ха-ха, так нельзя"
   ]
  },
  {
   "cell_type": "code",
   "execution_count": 38,
   "metadata": {},
   "outputs": [
    {
     "name": "stdout",
     "output_type": "stream",
     "text": [
      "('very private:', 2)\n"
     ]
    }
   ],
   "source": [
    "print('very private:', A()._A__very_private_var)"
   ]
  },
  {
   "cell_type": "markdown",
   "metadata": {},
   "source": [
    "### Property"
   ]
  },
  {
   "cell_type": "code",
   "execution_count": 44,
   "metadata": {},
   "outputs": [],
   "source": [
    "import os\n",
    "\n",
    "\n",
    "class Path:\n",
    "    def __init__(self, current):\n",
    "        self.current = current\n",
    "    \n",
    "    def __repr__(self): # напечатается, если решим напечатать наш объект\n",
    "        return 'Path({})'.format(self.current)\n",
    "    \n",
    "    @property   # чтобы убрать () для метода\n",
    "    def parent(self):\n",
    "        return Path(os.path.dirname(self.current))"
   ]
  },
  {
   "cell_type": "code",
   "execution_count": 45,
   "metadata": {},
   "outputs": [
    {
     "data": {
      "text/plain": [
       "Path(Images/picture.png)"
      ]
     },
     "execution_count": 45,
     "metadata": {},
     "output_type": "execute_result"
    }
   ],
   "source": [
    "image_path = Path('Images/picture.png')\n",
    "image_path"
   ]
  },
  {
   "cell_type": "code",
   "execution_count": 46,
   "metadata": {},
   "outputs": [
    {
     "data": {
      "text/plain": [
       "Path(Images)"
      ]
     },
     "execution_count": 46,
     "metadata": {},
     "output_type": "execute_result"
    }
   ],
   "source": [
    "image_path.parent"
   ]
  },
  {
   "cell_type": "markdown",
   "metadata": {},
   "source": [
    "### Class dict"
   ]
  },
  {
   "cell_type": "code",
   "execution_count": 51,
   "metadata": {},
   "outputs": [
    {
     "name": "stdout",
     "output_type": "stream",
     "text": [
      "Some fancy transformer\n",
      "StandartTrasnformer\n"
     ]
    }
   ],
   "source": [
    "print(StandartTrasnformer.__doc__)  # magic-методы\n",
    "print(StandartTrasnformer.__name__)"
   ]
  },
  {
   "cell_type": "code",
   "execution_count": 55,
   "metadata": {},
   "outputs": [
    {
     "data": {
      "text/plain": [
       "dict_proxy({'__doc__': 'Some fancy transformer',\n",
       "            '__init__': <function __main__.__init__>,\n",
       "            '__module__': '__main__',\n",
       "            'transform': <function __main__.transform>})"
      ]
     },
     "execution_count": 55,
     "metadata": {},
     "output_type": "execute_result"
    }
   ],
   "source": [
    "StandartTrasnformer.__dict__  # все хранится в dict'ах"
   ]
  },
  {
   "cell_type": "code",
   "execution_count": 59,
   "metadata": {},
   "outputs": [
    {
     "data": {
      "text/plain": [
       "{'is_std': False, 'power': 1}"
      ]
     },
     "execution_count": 59,
     "metadata": {},
     "output_type": "execute_result"
    }
   ],
   "source": [
    "trans.__dict__    # можно динамически изменять классы и т.п."
   ]
  },
  {
   "cell_type": "code",
   "execution_count": 60,
   "metadata": {},
   "outputs": [
    {
     "data": {
      "text/plain": [
       "{'is_std': False, 'power': 1}"
      ]
     },
     "execution_count": 60,
     "metadata": {},
     "output_type": "execute_result"
    }
   ],
   "source": [
    "vars(trans)"
   ]
  },
  {
   "cell_type": "code",
   "execution_count": 61,
   "metadata": {},
   "outputs": [
    {
     "data": {
      "text/plain": [
       "dict_proxy({'__doc__': 'Some fancy transformer',\n",
       "            '__init__': <function __main__.__init__>,\n",
       "            '__module__': '__main__',\n",
       "            'transform': <function __main__.transform>})"
      ]
     },
     "execution_count": 61,
     "metadata": {},
     "output_type": "execute_result"
    }
   ],
   "source": [
    "vars(StandartTrasnformer)"
   ]
  },
  {
   "cell_type": "markdown",
   "metadata": {},
   "source": [
    "### isinstance issubclass"
   ]
  },
  {
   "cell_type": "code",
   "execution_count": 62,
   "metadata": {},
   "outputs": [
    {
     "data": {
      "text/plain": [
       "True"
      ]
     },
     "execution_count": 62,
     "metadata": {},
     "output_type": "execute_result"
    }
   ],
   "source": [
    "isinstance(trans, Transformer)"
   ]
  },
  {
   "cell_type": "code",
   "execution_count": 63,
   "metadata": {},
   "outputs": [
    {
     "data": {
      "text/plain": [
       "False"
      ]
     },
     "execution_count": 63,
     "metadata": {},
     "output_type": "execute_result"
    }
   ],
   "source": [
    "isinstance(trans, StandartTrasnformer)"
   ]
  },
  {
   "cell_type": "code",
   "execution_count": 64,
   "metadata": {},
   "outputs": [
    {
     "data": {
      "text/plain": [
       "True"
      ]
     },
     "execution_count": 64,
     "metadata": {},
     "output_type": "execute_result"
    }
   ],
   "source": [
    "issubclass(StandartTrasnformer, Transformer)"
   ]
  },
  {
   "cell_type": "markdown",
   "metadata": {},
   "source": [
    "### Множественное наследование и Mixins\n",
    "\n",
    "Лучше не использовать, но иногда можно"
   ]
  },
  {
   "cell_type": "code",
   "execution_count": 65,
   "metadata": {},
   "outputs": [],
   "source": [
    "class ParameterRepresetationMixin:\n",
    "    template = '{:>10} | {:>5}'\n",
    "    \n",
    "    def pretty_print(self):\n",
    "        template = ParameterRepresetationMixin.template\n",
    "        for param in vars(self):\n",
    "            print(template.format(param, vars(self)[param]))"
   ]
  },
  {
   "cell_type": "code",
   "execution_count": 66,
   "metadata": {},
   "outputs": [],
   "source": [
    "class StandartTrasnformer(ParameterRepresetationMixin, Transformer):\n",
    "    \"\"\"Some fancy transformer\"\"\"\n",
    "    \n",
    "    def __init__(self, power=2, is_std=False, ):\n",
    "        self.is_std = is_std\n",
    "        super(StandartTrasnformer, self).__init__(power)\n",
    "    \n",
    "    def transform(self, x):\n",
    "        x = x - x.mean()\n",
    "        if self.is_std:\n",
    "            x /= x.std()\n",
    "        return super(StandartTrasnformer, self).transform(x)"
   ]
  },
  {
   "cell_type": "code",
   "execution_count": 67,
   "metadata": {},
   "outputs": [
    {
     "data": {
      "text/plain": [
       "array([-2., -1.,  0.,  1.,  2.])"
      ]
     },
     "execution_count": 67,
     "metadata": {},
     "output_type": "execute_result"
    }
   ],
   "source": [
    "trans = StandartTrasnformer(power=1, is_std=False)\n",
    "trans.transform(x)"
   ]
  },
  {
   "cell_type": "code",
   "execution_count": 68,
   "metadata": {},
   "outputs": [
    {
     "name": "stdout",
     "output_type": "stream",
     "text": [
      "    is_std |     0\n",
      "     power |     1\n"
     ]
    }
   ],
   "source": [
    "trans.pretty_print()"
   ]
  },
  {
   "cell_type": "markdown",
   "metadata": {},
   "source": [
    "#### Но некоторые используют для другого, например, sklearn"
   ]
  },
  {
   "cell_type": "code",
   "execution_count": 69,
   "metadata": {},
   "outputs": [],
   "source": [
    "class BaseEstimator(object):\n",
    "    pass\n",
    "\n",
    "\n",
    "class TransformerMixin(object):\n",
    "    \"\"\"Mixin class for all transformers in scikit-learn.\"\"\"\n",
    "    \n",
    "    def fit_transform(self, X, y=None, **fit_params):\n",
    "        pass\n",
    "    \n",
    "\n",
    "# mixin is the second!\n",
    "class Imputer(BaseEstimator, TransformerMixin):\n",
    "    pass\n",
    "\n",
    "\n",
    "class MinMaxScaler(BaseEstimator, TransformerMixin):\n",
    "    pass"
   ]
  },
  {
   "cell_type": "code",
   "execution_count": 70,
   "metadata": {},
   "outputs": [],
   "source": [
    "scaler = MinMaxScaler()\n",
    "imp = Imputer()"
   ]
  },
  {
   "cell_type": "code",
   "execution_count": 71,
   "metadata": {},
   "outputs": [
    {
     "name": "stdout",
     "output_type": "stream",
     "text": [
      "True\n",
      "True\n"
     ]
    }
   ],
   "source": [
    "# we can check that these are transformers\n",
    "print(isinstance(scaler, TransformerMixin))\n",
    "print(isinstance(imp, TransformerMixin))"
   ]
  },
  {
   "cell_type": "code",
   "execution_count": null,
   "metadata": {},
   "outputs": [],
   "source": []
  }
 ],
 "metadata": {
  "kernelspec": {
   "display_name": "Python 2",
   "language": "python",
   "name": "python2"
  },
  "language_info": {
   "codemirror_mode": {
    "name": "ipython",
    "version": 2
   },
   "file_extension": ".py",
   "mimetype": "text/x-python",
   "name": "python",
   "nbconvert_exporter": "python",
   "pygments_lexer": "ipython2",
   "version": "2.7.14"
  }
 },
 "nbformat": 4,
 "nbformat_minor": 2
}

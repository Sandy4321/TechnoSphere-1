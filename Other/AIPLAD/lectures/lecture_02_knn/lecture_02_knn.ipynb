{
 "cells": [
  {
   "cell_type": "markdown",
   "metadata": {
    "slideshow": {
     "slide_type": "slide"
    }
   },
   "source": [
    "<img src=\"images/header.png\">\n",
    "\n",
    "# Алгоритмы интеллектуальной обработки больших объемов данных\n",
    "\n",
    "## Лекция 2. Классификация и регрессия. KNN "
   ]
  },
  {
   "cell_type": "code",
   "execution_count": 1,
   "metadata": {
    "slideshow": {
     "slide_type": "skip"
    }
   },
   "outputs": [],
   "source": [
    "import warnings\n",
    "warnings.filterwarnings('ignore')"
   ]
  },
  {
   "cell_type": "markdown",
   "metadata": {
    "slideshow": {
     "slide_type": "subslide"
    }
   },
   "source": [
    "## Сегодня на лекции\n",
    "\n",
    "* Пример проекта с использованием машинного обучения\n",
    "* Формальная постановка задач классификации и регрессии\n",
    "* Оценка качеcтва классификации и регрессии"
   ]
  },
  {
   "cell_type": "markdown",
   "metadata": {
    "slideshow": {
     "slide_type": "subslide"
    }
   },
   "source": [
    "### Нужно отметиться на лекции\n",
    "\n",
    "https://sphere.mail.ru/"
   ]
  },
  {
   "cell_type": "markdown",
   "metadata": {
    "slideshow": {
     "slide_type": "slide"
    }
   },
   "source": [
    "## Этапы в типичном проекте с использованием машинного обучения\n",
    "\n",
    "1. Обзор задачи\n",
    "2. Сбор данных\n",
    "3. Поиск в данных особенностей для лучшего понимания задачи \n",
    "4. Подготовка данных для использования в алгоритмах машинного обучения\n",
    "5. Выбор наилучших моделей из множества рассматриваемых\n",
    "6. Тонкая настройка моделей для достижения наилучшего результата\n",
    "7. Презентация решения\n",
    "8. Внедрение, запуск, поддержка, мониторинг системы"
   ]
  },
  {
   "cell_type": "markdown",
   "metadata": {
    "slideshow": {
     "slide_type": "subslide"
    }
   },
   "source": [
    "<img src='images/timing.png'>"
   ]
  },
  {
   "cell_type": "markdown",
   "metadata": {
    "slideshow": {
     "slide_type": "slide"
    }
   },
   "source": [
    "## Обзор задачи\n",
    "1. Определить цель в бизнес терминах (комм.: ВАЖНО!)\n",
    "2. Как решение будет использоваться?\n",
    "3. Какие решения есть на данный момент (если есть)?\n",
    "4. Какой класс задач (с учителем или без, онлайн или оффлайн, и пр.)?\n",
    "5. Как измеряется качество?\n",
    "6. Связано ли измерение качества с бизнес целью?\n",
    "7. Есть ли минимальный порог качества, необходимый для достижения бизнес цели?\n",
    "8. Существуют ли похожие решенные задачи? Можно ли их использовать?\n",
    "9. Есть ли человеческий опыт?\n",
    "10. Как бы решалась проблема ручным трудом?\n",
    "11. Список всех принятых допущений\n",
    "12. Проверка принятых допущений"
   ]
  },
  {
   "cell_type": "markdown",
   "metadata": {
    "collapsed": true,
    "slideshow": {
     "slide_type": "subslide"
    }
   },
   "source": [
    "### Цены на недвижимость \n",
    "\n",
    "#### [California Housing data set](http://www.dcc.fc.up.pt/~ltorgo/Regression/cal_housing.html)"
   ]
  },
  {
   "cell_type": "markdown",
   "metadata": {
    "slideshow": {
     "slide_type": "subslide"
    }
   },
   "source": [
    "1. Будем предсказывать цену на недвижимость и использовать ее в другой системе машинного обучения для принятия решения о инвестициях\n",
    "2. На данный момент решение о цене принимают эксперты и они ошибаются в 15% случаев\n",
    "3. Какой класс задач? (комм.: с учителем, регрессия)"
   ]
  },
  {
   "cell_type": "markdown",
   "metadata": {
    "slideshow": {
     "slide_type": "subslide"
    }
   },
   "source": [
    "## Сбор данных\n",
    "1. Собрать список необходимых данных и определиться с объемами\n",
    "2. Определить и документировать сбор данных\n",
    "3. Узнать, какой объем памяти понадобится для хранения и обработки данных\n",
    "4. Проверить права по использованию данных\n",
    "5. Получить доступы к данным\n",
    "6. Создать рабочее окружение\n",
    "7. Собрать данные\n",
    "8. Сконвертировать данные в формат, пригодный для использования\n",
    "9. Убедиться, что нет чувствительных данных (пароли и пр.)\n",
    "10. Проверить объемы и типы данных\n",
    "11. Выделить тестовый набор данных и не использовать его для обучения (вообще, совсем, никогда-никогда)"
   ]
  },
  {
   "cell_type": "code",
   "execution_count": 2,
   "metadata": {
    "slideshow": {
     "slide_type": "subslide"
    }
   },
   "outputs": [
    {
     "name": "stdout",
     "output_type": "stream",
     "text": [
      "Populating the interactive namespace from numpy and matplotlib\n"
     ]
    }
   ],
   "source": [
    "import sklearn.datasets.california_housing as ch\n",
    "#import mpl_toolkits.basemap as bm\n",
    "import numpy as np\n",
    "import pylab as pl\n",
    "import seaborn as sns\n",
    "import pandas as pd\n",
    "\n",
    "%pylab inline"
   ]
  },
  {
   "cell_type": "code",
   "execution_count": 3,
   "metadata": {
    "slideshow": {
     "slide_type": "subslide"
    }
   },
   "outputs": [
    {
     "name": "stdout",
     "output_type": "stream",
     "text": [
      "Loaded data set with 20640 objects and 8 variables\n",
      "Coordinates ll=(-124.350,  33), ur=(-114.310, 41.950)\n"
     ]
    }
   ],
   "source": [
    "dataset = ch.fetch_california_housing()\n",
    "\n",
    "X = dataset.data\n",
    "Y = dataset.target\n",
    "\n",
    "print \"Loaded data set with %d objects and %d variables\" % (Y.shape[0], X.shape[1])\n",
    "print \"Coordinates ll=(%.3f, %3.f), ur=(%.3f, %.3f)\" % (X[:, -1].min(), X[:, -2].min(), X[:, -1].max(), X[:, -2].max())"
   ]
  },
  {
   "cell_type": "code",
   "execution_count": 4,
   "metadata": {
    "slideshow": {
     "slide_type": "subslide"
    }
   },
   "outputs": [
    {
     "data": {
      "text/plain": [
       "(20640, 8)"
      ]
     },
     "execution_count": 4,
     "metadata": {},
     "output_type": "execute_result"
    }
   ],
   "source": [
    "dataset.data.shape"
   ]
  },
  {
   "cell_type": "code",
   "execution_count": 5,
   "metadata": {
    "slideshow": {
     "slide_type": "subslide"
    }
   },
   "outputs": [
    {
     "data": {
      "text/plain": [
       "(20640,)"
      ]
     },
     "execution_count": 5,
     "metadata": {},
     "output_type": "execute_result"
    }
   ],
   "source": [
    "dataset.target.shape\n"
   ]
  },
  {
   "cell_type": "code",
   "execution_count": 6,
   "metadata": {
    "slideshow": {
     "slide_type": "subslide"
    }
   },
   "outputs": [],
   "source": [
    "data = np.hstack((dataset.data, dataset.target.reshape(dataset.target.shape[0], 1)))"
   ]
  },
  {
   "cell_type": "code",
   "execution_count": 7,
   "metadata": {
    "slideshow": {
     "slide_type": "subslide"
    }
   },
   "outputs": [
    {
     "data": {
      "text/plain": [
       "(20640, 9)"
      ]
     },
     "execution_count": 7,
     "metadata": {},
     "output_type": "execute_result"
    }
   ],
   "source": [
    "data.shape"
   ]
  },
  {
   "cell_type": "code",
   "execution_count": 8,
   "metadata": {
    "slideshow": {
     "slide_type": "subslide"
    }
   },
   "outputs": [
    {
     "name": "stdout",
     "output_type": "stream",
     "text": [
      "California housing dataset.\n",
      "\n",
      "The original database is available from StatLib\n",
      "\n",
      "    http://lib.stat.cmu.edu/datasets/\n",
      "\n",
      "The data contains 20,640 observations on 9 variables.\n",
      "\n",
      "This dataset contains the average house value as target variable\n",
      "and the following input variables (features): average income,\n",
      "housing average age, average rooms, average bedrooms, population,\n",
      "average occupation, latitude, and longitude in that order.\n",
      "\n",
      "References\n",
      "----------\n",
      "\n",
      "Pace, R. Kelley and Ronald Barry, Sparse Spatial Autoregressions,\n",
      "Statistics and Probability Letters, 33 (1997) 291-297.\n",
      "\n",
      "\n",
      "['MedInc', 'HouseAge', 'AveRooms', 'AveBedrms', 'Population', 'AveOccup', 'Latitude', 'Longitude']\n"
     ]
    }
   ],
   "source": [
    "print dataset.DESCR\n",
    "\n",
    "print dataset.feature_names"
   ]
  },
  {
   "cell_type": "code",
   "execution_count": 9,
   "metadata": {
    "slideshow": {
     "slide_type": "subslide"
    }
   },
   "outputs": [
    {
     "data": {
      "text/html": [
       "<div>\n",
       "<style scoped>\n",
       "    .dataframe tbody tr th:only-of-type {\n",
       "        vertical-align: middle;\n",
       "    }\n",
       "\n",
       "    .dataframe tbody tr th {\n",
       "        vertical-align: top;\n",
       "    }\n",
       "\n",
       "    .dataframe thead th {\n",
       "        text-align: right;\n",
       "    }\n",
       "</style>\n",
       "<table border=\"1\" class=\"dataframe\">\n",
       "  <thead>\n",
       "    <tr style=\"text-align: right;\">\n",
       "      <th></th>\n",
       "      <th>MedInc</th>\n",
       "      <th>HouseAge</th>\n",
       "      <th>AveRooms</th>\n",
       "      <th>AveBedrms</th>\n",
       "      <th>Population</th>\n",
       "      <th>AveOccup</th>\n",
       "      <th>Latitude</th>\n",
       "      <th>Longitude</th>\n",
       "      <th>median_house_value</th>\n",
       "    </tr>\n",
       "  </thead>\n",
       "  <tbody>\n",
       "    <tr>\n",
       "      <th>0</th>\n",
       "      <td>8.3252</td>\n",
       "      <td>41.0</td>\n",
       "      <td>6.984127</td>\n",
       "      <td>1.023810</td>\n",
       "      <td>322.0</td>\n",
       "      <td>2.555556</td>\n",
       "      <td>37.88</td>\n",
       "      <td>-122.23</td>\n",
       "      <td>4.526</td>\n",
       "    </tr>\n",
       "    <tr>\n",
       "      <th>1</th>\n",
       "      <td>8.3014</td>\n",
       "      <td>21.0</td>\n",
       "      <td>6.238137</td>\n",
       "      <td>0.971880</td>\n",
       "      <td>2401.0</td>\n",
       "      <td>2.109842</td>\n",
       "      <td>37.86</td>\n",
       "      <td>-122.22</td>\n",
       "      <td>3.585</td>\n",
       "    </tr>\n",
       "    <tr>\n",
       "      <th>2</th>\n",
       "      <td>7.2574</td>\n",
       "      <td>52.0</td>\n",
       "      <td>8.288136</td>\n",
       "      <td>1.073446</td>\n",
       "      <td>496.0</td>\n",
       "      <td>2.802260</td>\n",
       "      <td>37.85</td>\n",
       "      <td>-122.24</td>\n",
       "      <td>3.521</td>\n",
       "    </tr>\n",
       "    <tr>\n",
       "      <th>3</th>\n",
       "      <td>5.6431</td>\n",
       "      <td>52.0</td>\n",
       "      <td>5.817352</td>\n",
       "      <td>1.073059</td>\n",
       "      <td>558.0</td>\n",
       "      <td>2.547945</td>\n",
       "      <td>37.85</td>\n",
       "      <td>-122.25</td>\n",
       "      <td>3.413</td>\n",
       "    </tr>\n",
       "    <tr>\n",
       "      <th>4</th>\n",
       "      <td>3.8462</td>\n",
       "      <td>52.0</td>\n",
       "      <td>6.281853</td>\n",
       "      <td>1.081081</td>\n",
       "      <td>565.0</td>\n",
       "      <td>2.181467</td>\n",
       "      <td>37.85</td>\n",
       "      <td>-122.25</td>\n",
       "      <td>3.422</td>\n",
       "    </tr>\n",
       "  </tbody>\n",
       "</table>\n",
       "</div>"
      ],
      "text/plain": [
       "   MedInc  HouseAge  AveRooms  AveBedrms  Population  AveOccup  Latitude  \\\n",
       "0  8.3252      41.0  6.984127   1.023810       322.0  2.555556     37.88   \n",
       "1  8.3014      21.0  6.238137   0.971880      2401.0  2.109842     37.86   \n",
       "2  7.2574      52.0  8.288136   1.073446       496.0  2.802260     37.85   \n",
       "3  5.6431      52.0  5.817352   1.073059       558.0  2.547945     37.85   \n",
       "4  3.8462      52.0  6.281853   1.081081       565.0  2.181467     37.85   \n",
       "\n",
       "   Longitude  median_house_value  \n",
       "0    -122.23               4.526  \n",
       "1    -122.22               3.585  \n",
       "2    -122.24               3.521  \n",
       "3    -122.25               3.413  \n",
       "4    -122.25               3.422  "
      ]
     },
     "execution_count": 9,
     "metadata": {},
     "output_type": "execute_result"
    }
   ],
   "source": [
    "housing = pd.DataFrame(data, columns=dataset.feature_names + ['median_house_value'])\n",
    "housing.head()"
   ]
  },
  {
   "cell_type": "code",
   "execution_count": 10,
   "metadata": {
    "slideshow": {
     "slide_type": "subslide"
    }
   },
   "outputs": [
    {
     "name": "stdout",
     "output_type": "stream",
     "text": [
      "<class 'pandas.core.frame.DataFrame'>\n",
      "RangeIndex: 20640 entries, 0 to 20639\n",
      "Data columns (total 9 columns):\n",
      "MedInc                20640 non-null float64\n",
      "HouseAge              20640 non-null float64\n",
      "AveRooms              20640 non-null float64\n",
      "AveBedrms             20640 non-null float64\n",
      "Population            20640 non-null float64\n",
      "AveOccup              20640 non-null float64\n",
      "Latitude              20640 non-null float64\n",
      "Longitude             20640 non-null float64\n",
      "median_house_value    20640 non-null float64\n",
      "dtypes: float64(9)\n",
      "memory usage: 1.4 MB\n"
     ]
    }
   ],
   "source": [
    "housing.info()"
   ]
  },
  {
   "cell_type": "code",
   "execution_count": 11,
   "metadata": {
    "slideshow": {
     "slide_type": "subslide"
    }
   },
   "outputs": [
    {
     "data": {
      "image/png": "[encoded data removed]",
      "text/plain": [
       "<matplotlib.figure.Figure at 0x1a0af0d490>"
      ]
     },
     "metadata": {},
     "output_type": "display_data"
    }
   ],
   "source": [
    "housing.hist(bins=50, figsize=(20,15))\n",
    "plt.show()\n",
    "# Проблема: крайние значения схлопнули (в median_house_value очень много домов стоят >= 5, их все засунули со стоимостью 5 и т.п.)\n",
    "# Такие данные нужно удалить"
   ]
  },
  {
   "cell_type": "code",
   "execution_count": 12,
   "metadata": {
    "slideshow": {
     "slide_type": "subslide"
    }
   },
   "outputs": [
    {
     "name": "stdout",
     "output_type": "stream",
     "text": [
      "(16512, 'train +', 4128, 'test')\n"
     ]
    }
   ],
   "source": [
    "# Разделяем данные на две части. На первой обучим данные, на второй проверим корректность. \n",
    "# Во вторую часть нельзя лазить до того, как закончится обучение\n",
    "\n",
    "def split_train_test(data, test_ratio):\n",
    "    shuffled_indices = np.random.permutation(len(data))\n",
    "    test_set_size = int(len(data) * test_ratio)\n",
    "    test_indices = shuffled_indices[:test_set_size] # так как данные могли быть упорядочены\n",
    "    train_indices = shuffled_indices[test_set_size:] # так как данные могли быть упорядочены\n",
    "    return data.iloc[train_indices], data.iloc[test_indices]\n",
    "\n",
    "train_set, test_set = split_train_test(housing, 0.2)\n",
    "print(len(train_set), \"train +\", len(test_set), \"test\")"
   ]
  },
  {
   "cell_type": "markdown",
   "metadata": {
    "slideshow": {
     "slide_type": "subslide"
    }
   },
   "source": []
  },
  {
   "cell_type": "markdown",
   "metadata": {
    "slideshow": {
     "slide_type": "subslide"
    }
   },
   "source": [
    "Какая проблема возникнет при таком разделении?\n",
    "\n",
    "Комм.: Необходима стратификация"
   ]
  },
  {
   "cell_type": "markdown",
   "metadata": {
    "slideshow": {
     "slide_type": "slide"
    }
   },
   "source": [
    "## Поиск особенностей в данных\n",
    "\n",
    "1. Создать копию данных при необходимости (семпл)\n",
    "2. Использовать любую систему контроля версий для сохранения прогресса\n",
    "3. Изучить все атрибуты:\n",
    "    * имя\n",
    "    * тип (категориальный, целый/вещественный, ограниченный/неограниченный, текстовый, пр.)\n",
    "    * % отсутствующих данных\n",
    "    * зашумленность и тип шума (случайный, выбросы, пр.)\n",
    "    * потенциальная польза для решения\n",
    "    * тип распределения (нормальное, равномерное, пр.)\n",
    "4. Для обучения с цчителем выделить целевую переменную\n",
    "5. Визуализировать данные\n",
    "6. Изучить корреляции между атрибутами\n",
    "7. Изучить, как проблема бы решалась ручным трудом\n",
    "8. Определить необходимые преобразования в данных\n",
    "9. Определить, есть ли дополнительные данные, которые могут быть полезными\n",
    "10. Все документировать"
   ]
  },
  {
   "cell_type": "code",
   "execution_count": 13,
   "metadata": {
    "slideshow": {
     "slide_type": "subslide"
    }
   },
   "outputs": [],
   "source": [
    "housing = train_set.copy() # Комм.: это 1) шаг"
   ]
  },
  {
   "cell_type": "code",
   "execution_count": 14,
   "metadata": {
    "slideshow": {
     "slide_type": "subslide"
    }
   },
   "outputs": [
    {
     "data": {
      "text/plain": [
       "<matplotlib.axes._subplots.AxesSubplot at 0x1a14345950>"
      ]
     },
     "execution_count": 14,
     "metadata": {},
     "output_type": "execute_result"
    },
    {
     "data": {
      "image/png": "[encoded data removed]",
      "text/plain": [
       "<matplotlib.figure.Figure at 0x1a1422ccd0>"
      ]
     },
     "metadata": {},
     "output_type": "display_data"
    }
   ],
   "source": [
    "housing.plot(kind=\"scatter\", x=\"Longitude\", y=\"Latitude\")"
   ]
  },
  {
   "cell_type": "code",
   "execution_count": 15,
   "metadata": {
    "slideshow": {
     "slide_type": "subslide"
    }
   },
   "outputs": [
    {
     "data": {
      "text/plain": [
       "<matplotlib.axes._subplots.AxesSubplot at 0x1a14f43e10>"
      ]
     },
     "execution_count": 15,
     "metadata": {},
     "output_type": "execute_result"
    },
    {
     "data": {
      "image/png": "[encoded data removed]",
      "text/plain": [
       "<matplotlib.figure.Figure at 0x1a14f74cd0>"
      ]
     },
     "metadata": {},
     "output_type": "display_data"
    }
   ],
   "source": [
    "housing.plot(kind=\"scatter\", x=\"Longitude\", y=\"Latitude\", alpha=0.1)"
   ]
  },
  {
   "cell_type": "code",
   "execution_count": 16,
   "metadata": {
    "slideshow": {
     "slide_type": "subslide"
    }
   },
   "outputs": [
    {
     "data": {
      "text/plain": [
       "<matplotlib.legend.Legend at 0x1a14fe9d10>"
      ]
     },
     "execution_count": 16,
     "metadata": {},
     "output_type": "execute_result"
    },
    {
     "data": {
      "image/png": "[encoded data removed]",
      "text/plain": [
       "<matplotlib.figure.Figure at 0x1a15ba0750>"
      ]
     },
     "metadata": {},
     "output_type": "display_data"
    }
   ],
   "source": [
    "housing.plot(kind=\"scatter\", x=\"Longitude\", y=\"Latitude\", alpha=0.4,\n",
    "s=housing[\"Population\"]/100, label=\"Population\",\n",
    "c=\"median_house_value\", cmap=plt.get_cmap(\"jet\"), colorbar=True,\n",
    ")\n",
    "plt.legend()\n",
    "\n",
    "# Комм.: сразу видим, где самая дорогая недвижимость"
   ]
  },
  {
   "cell_type": "code",
   "execution_count": 17,
   "metadata": {
    "slideshow": {
     "slide_type": "subslide"
    }
   },
   "outputs": [
    {
     "ename": "NameError",
     "evalue": "name 'bm' is not defined",
     "output_type": "error",
     "traceback": [
      "\u001b[0;31m---------------------------------------------------------------------------\u001b[0m",
      "\u001b[0;31mNameError\u001b[0m                                 Traceback (most recent call last)",
      "\u001b[0;32m<ipython-input-17-5873dfda2894>\u001b[0m in \u001b[0;36m<module>\u001b[0;34m()\u001b[0m\n\u001b[1;32m      3\u001b[0m \u001b[0mlllon\u001b[0m\u001b[0;34m,\u001b[0m \u001b[0mlllat\u001b[0m\u001b[0;34m,\u001b[0m \u001b[0murlon\u001b[0m\u001b[0;34m,\u001b[0m \u001b[0murlat\u001b[0m \u001b[0;34m=\u001b[0m \u001b[0mX\u001b[0m\u001b[0;34m[\u001b[0m\u001b[0;34m:\u001b[0m\u001b[0;34m,\u001b[0m \u001b[0;34m-\u001b[0m\u001b[0;36m1\u001b[0m\u001b[0;34m]\u001b[0m\u001b[0;34m.\u001b[0m\u001b[0mmin\u001b[0m\u001b[0;34m(\u001b[0m\u001b[0;34m)\u001b[0m\u001b[0;34m,\u001b[0m \u001b[0mX\u001b[0m\u001b[0;34m[\u001b[0m\u001b[0;34m:\u001b[0m\u001b[0;34m,\u001b[0m \u001b[0;34m-\u001b[0m\u001b[0;36m2\u001b[0m\u001b[0;34m]\u001b[0m\u001b[0;34m.\u001b[0m\u001b[0mmin\u001b[0m\u001b[0;34m(\u001b[0m\u001b[0;34m)\u001b[0m\u001b[0;34m,\u001b[0m \u001b[0mX\u001b[0m\u001b[0;34m[\u001b[0m\u001b[0;34m:\u001b[0m\u001b[0;34m,\u001b[0m \u001b[0;34m-\u001b[0m\u001b[0;36m1\u001b[0m\u001b[0;34m]\u001b[0m\u001b[0;34m.\u001b[0m\u001b[0mmax\u001b[0m\u001b[0;34m(\u001b[0m\u001b[0;34m)\u001b[0m\u001b[0;34m,\u001b[0m \u001b[0mX\u001b[0m\u001b[0;34m[\u001b[0m\u001b[0;34m:\u001b[0m\u001b[0;34m,\u001b[0m \u001b[0;34m-\u001b[0m\u001b[0;36m2\u001b[0m\u001b[0;34m]\u001b[0m\u001b[0;34m.\u001b[0m\u001b[0mmax\u001b[0m\u001b[0;34m(\u001b[0m\u001b[0;34m)\u001b[0m\u001b[0;34m\u001b[0m\u001b[0m\n\u001b[1;32m      4\u001b[0m \u001b[0;34m\u001b[0m\u001b[0m\n\u001b[0;32m----> 5\u001b[0;31m m = bm.Basemap(\n\u001b[0m\u001b[1;32m      6\u001b[0m     \u001b[0mllcrnrlon\u001b[0m\u001b[0;34m=\u001b[0m\u001b[0mlllon\u001b[0m\u001b[0;34m,\u001b[0m\u001b[0;34m\u001b[0m\u001b[0m\n\u001b[1;32m      7\u001b[0m     \u001b[0mllcrnrlat\u001b[0m\u001b[0;34m=\u001b[0m\u001b[0mlllat\u001b[0m\u001b[0;34m,\u001b[0m\u001b[0;34m\u001b[0m\u001b[0m\n",
      "\u001b[0;31mNameError\u001b[0m: name 'bm' is not defined"
     ]
    },
    {
     "data": {
      "text/plain": [
       "<matplotlib.figure.Figure at 0x1a16b6f910>"
      ]
     },
     "metadata": {},
     "output_type": "display_data"
    }
   ],
   "source": [
    "pl.figure(figsize=(10, 10))\n",
    "\n",
    "lllon, lllat, urlon, urlat = X[:, -1].min(), X[:, -2].min(), X[:, -1].max(), X[:, -2].max()\n",
    "\n",
    "m = bm.Basemap(\n",
    "    llcrnrlon=lllon,\n",
    "    llcrnrlat=lllat,\n",
    "    urcrnrlon=urlon,\n",
    "    urcrnrlat=urlat, \n",
    "    projection='merc',\n",
    "    resolution='h'\n",
    ")\n",
    "\n",
    "m.drawcoastlines(linewidth=0.5)\n",
    "m.drawmapboundary(fill_color='#47A4C9', zorder=1)\n",
    "m.fillcontinents(color='#88D8B0',lake_color='#47A4C9', zorder=2)\n",
    "\n",
    "parallels = np.linspace(lllat, urlat, 10)\n",
    "m.drawparallels(parallels,labels=[1,0,0,0],fontsize=10)\n",
    "# draw meridians\n",
    "meridians = np.linspace(lllon, urlon, 10)\n",
    "m.drawmeridians(meridians,labels=[0,0,0,1],fontsize=10)\n",
    "\n",
    "colors = [pl.cm.hot(int((y - Y.min()) / (Y.max() - Y.min()) * 256)) for y in Y]\n",
    "m.scatter(X[:, -1], X[:, -2], latlon=True, zorder=3, lw=0, c=colors)\n",
    "\n",
    "pl.annotate('San Francisco', xy=(0.04, 0.5), xycoords='axes fraction', color='white', size=15)\n",
    "pl.annotate('Los Angeles', xy=(0.4, 0.08), xycoords='axes fraction', color='white', size=15)\n",
    "\n",
    "pl.show()"
   ]
  },
  {
   "cell_type": "markdown",
   "metadata": {
    "slideshow": {
     "slide_type": "subslide"
    }
   },
   "source": [
    "Комм.: Корреляция == 0, когда данные нелинейно зависят друг от друга\n",
    "<img src='https://upload.wikimedia.org/wikipedia/commons/d/d4/Correlation_examples2.svg'>"
   ]
  },
  {
   "cell_type": "code",
   "execution_count": null,
   "metadata": {
    "slideshow": {
     "slide_type": "subslide"
    }
   },
   "outputs": [],
   "source": [
    "corr_matrix = housing.corr()"
   ]
  },
  {
   "cell_type": "code",
   "execution_count": null,
   "metadata": {
    "slideshow": {
     "slide_type": "subslide"
    }
   },
   "outputs": [],
   "source": [
    "corr_matrix[\"median_house_value\"].sort_values(ascending=False)"
   ]
  },
  {
   "cell_type": "code",
   "execution_count": null,
   "metadata": {
    "slideshow": {
     "slide_type": "subslide"
    }
   },
   "outputs": [],
   "source": [
    "from pandas.tools.plotting import scatter_matrix\n",
    "attributes = [\"median_house_value\", \"MedInc\", \"AveRooms\", \"HouseAge\"]\n",
    "m = scatter_matrix(housing[attributes], figsize=(12, 8))\n",
    "\n",
    "# Комм.: На диагонали распределения, вне диагонали — диаграммы рассеяния (по x — один признак, по y — второй признак)\n",
    "# На пересечении median_house_value с MedInc есть странная полоса сверху — ее нужно будет выкинуть"
   ]
  },
  {
   "cell_type": "code",
   "execution_count": null,
   "metadata": {
    "slideshow": {
     "slide_type": "subslide"
    }
   },
   "outputs": [],
   "source": [
    "housing.plot(kind=\"scatter\", x=\"MedInc\", y=\"median_house_value\", alpha=0.1)"
   ]
  },
  {
   "cell_type": "markdown",
   "metadata": {
    "slideshow": {
     "slide_type": "slide"
    }
   },
   "source": [
    "Комм.: Видим аномалию сверху — скоро удалим"
   ]
  },
  {
   "cell_type": "markdown",
   "metadata": {
    "slideshow": {
     "slide_type": "slide"
    }
   },
   "source": [
    "## Подготовка данных для использования в модели\n",
    "* Работать с копией данных (исходные данные оставлять без изменений)\n",
    "* Писать функции для всех преобразований данных\n",
    "    * Применять те же самые преобразования на новых данных\n",
    "    * Применять те же самые преобразования в будущем в других проектах\n",
    "    * Применять на тестовом сете\n",
    "    * Выбирать преобразования так же, как параметры алгоритма\n",
    "* Очистка данных\n",
    "    * Исправление выбросов\n",
    "    * Заполнение отсутствующих значений (комм.: можно определить пол по имени и т.п.)\n",
    "* Отбор признаков\n",
    "    * Уменьшение размерности данных\n",
    "* Подбор признаков\n",
    "    * Перевод непрерывных величин в дискретные\n",
    "    * Перевод нечисловых признаков в числовые (комм.: пол в 0 или 1 и т.п.)\n",
    "    * Преобразование признаков - логарифмизация и пр.\n",
    "    * Выделение новых признаков на основе существующих\n",
    "* Масштабирование признаков - стандартизация, нормализация и пр."
   ]
  },
  {
   "cell_type": "code",
   "execution_count": 18,
   "metadata": {
    "slideshow": {
     "slide_type": "subslide"
    }
   },
   "outputs": [
    {
     "data": {
      "text/plain": [
       "MedInc                16512\n",
       "HouseAge              16512\n",
       "AveRooms              16512\n",
       "AveBedrms             16512\n",
       "Population            16512\n",
       "AveOccup              16512\n",
       "Latitude              16512\n",
       "Longitude             16512\n",
       "median_house_value    16512\n",
       "dtype: int64"
      ]
     },
     "execution_count": 18,
     "metadata": {},
     "output_type": "execute_result"
    }
   ],
   "source": [
    "housing.count()"
   ]
  },
  {
   "cell_type": "code",
   "execution_count": 19,
   "metadata": {
    "slideshow": {
     "slide_type": "subslide"
    }
   },
   "outputs": [
    {
     "data": {
      "text/html": [
       "<div>\n",
       "<style scoped>\n",
       "    .dataframe tbody tr th:only-of-type {\n",
       "        vertical-align: middle;\n",
       "    }\n",
       "\n",
       "    .dataframe tbody tr th {\n",
       "        vertical-align: top;\n",
       "    }\n",
       "\n",
       "    .dataframe thead th {\n",
       "        text-align: right;\n",
       "    }\n",
       "</style>\n",
       "<table border=\"1\" class=\"dataframe\">\n",
       "  <thead>\n",
       "    <tr style=\"text-align: right;\">\n",
       "      <th></th>\n",
       "      <th>MedInc</th>\n",
       "      <th>HouseAge</th>\n",
       "      <th>AveRooms</th>\n",
       "      <th>AveBedrms</th>\n",
       "      <th>Population</th>\n",
       "      <th>AveOccup</th>\n",
       "      <th>Latitude</th>\n",
       "      <th>Longitude</th>\n",
       "      <th>median_house_value</th>\n",
       "    </tr>\n",
       "  </thead>\n",
       "  <tbody>\n",
       "    <tr>\n",
       "      <th>count</th>\n",
       "      <td>16512.000000</td>\n",
       "      <td>16512.000000</td>\n",
       "      <td>16512.000000</td>\n",
       "      <td>16512.000000</td>\n",
       "      <td>16512.000000</td>\n",
       "      <td>16512.000000</td>\n",
       "      <td>16512.000000</td>\n",
       "      <td>16512.000000</td>\n",
       "      <td>16512.000000</td>\n",
       "    </tr>\n",
       "    <tr>\n",
       "      <th>mean</th>\n",
       "      <td>3.870684</td>\n",
       "      <td>28.668120</td>\n",
       "      <td>5.433448</td>\n",
       "      <td>1.096927</td>\n",
       "      <td>1424.937984</td>\n",
       "      <td>3.097374</td>\n",
       "      <td>35.629757</td>\n",
       "      <td>-119.567017</td>\n",
       "      <td>2.071874</td>\n",
       "    </tr>\n",
       "    <tr>\n",
       "      <th>std</th>\n",
       "      <td>1.896535</td>\n",
       "      <td>12.609204</td>\n",
       "      <td>2.313458</td>\n",
       "      <td>0.451747</td>\n",
       "      <td>1150.335654</td>\n",
       "      <td>11.599910</td>\n",
       "      <td>2.133812</td>\n",
       "      <td>2.005607</td>\n",
       "      <td>1.156651</td>\n",
       "    </tr>\n",
       "    <tr>\n",
       "      <th>min</th>\n",
       "      <td>0.499900</td>\n",
       "      <td>1.000000</td>\n",
       "      <td>1.000000</td>\n",
       "      <td>0.333333</td>\n",
       "      <td>3.000000</td>\n",
       "      <td>0.692308</td>\n",
       "      <td>32.540000</td>\n",
       "      <td>-124.350000</td>\n",
       "      <td>0.149990</td>\n",
       "    </tr>\n",
       "    <tr>\n",
       "      <th>25%</th>\n",
       "      <td>2.568500</td>\n",
       "      <td>18.000000</td>\n",
       "      <td>4.442934</td>\n",
       "      <td>1.006410</td>\n",
       "      <td>788.000000</td>\n",
       "      <td>2.427339</td>\n",
       "      <td>33.930000</td>\n",
       "      <td>-121.800000</td>\n",
       "      <td>1.199000</td>\n",
       "    </tr>\n",
       "    <tr>\n",
       "      <th>50%</th>\n",
       "      <td>3.535100</td>\n",
       "      <td>29.000000</td>\n",
       "      <td>5.236181</td>\n",
       "      <td>1.048714</td>\n",
       "      <td>1162.500000</td>\n",
       "      <td>2.816336</td>\n",
       "      <td>34.260000</td>\n",
       "      <td>-118.490000</td>\n",
       "      <td>1.799000</td>\n",
       "    </tr>\n",
       "    <tr>\n",
       "      <th>75%</th>\n",
       "      <td>4.733075</td>\n",
       "      <td>37.000000</td>\n",
       "      <td>6.059970</td>\n",
       "      <td>1.099499</td>\n",
       "      <td>1716.000000</td>\n",
       "      <td>3.278814</td>\n",
       "      <td>37.720000</td>\n",
       "      <td>-118.010000</td>\n",
       "      <td>2.651250</td>\n",
       "    </tr>\n",
       "    <tr>\n",
       "      <th>max</th>\n",
       "      <td>15.000100</td>\n",
       "      <td>52.000000</td>\n",
       "      <td>132.533333</td>\n",
       "      <td>34.066667</td>\n",
       "      <td>35682.000000</td>\n",
       "      <td>1243.333333</td>\n",
       "      <td>41.950000</td>\n",
       "      <td>-114.310000</td>\n",
       "      <td>5.000010</td>\n",
       "    </tr>\n",
       "  </tbody>\n",
       "</table>\n",
       "</div>"
      ],
      "text/plain": [
       "             MedInc      HouseAge      AveRooms     AveBedrms    Population  \\\n",
       "count  16512.000000  16512.000000  16512.000000  16512.000000  16512.000000   \n",
       "mean       3.870684     28.668120      5.433448      1.096927   1424.937984   \n",
       "std        1.896535     12.609204      2.313458      0.451747   1150.335654   \n",
       "min        0.499900      1.000000      1.000000      0.333333      3.000000   \n",
       "25%        2.568500     18.000000      4.442934      1.006410    788.000000   \n",
       "50%        3.535100     29.000000      5.236181      1.048714   1162.500000   \n",
       "75%        4.733075     37.000000      6.059970      1.099499   1716.000000   \n",
       "max       15.000100     52.000000    132.533333     34.066667  35682.000000   \n",
       "\n",
       "           AveOccup      Latitude     Longitude  median_house_value  \n",
       "count  16512.000000  16512.000000  16512.000000        16512.000000  \n",
       "mean       3.097374     35.629757   -119.567017            2.071874  \n",
       "std       11.599910      2.133812      2.005607            1.156651  \n",
       "min        0.692308     32.540000   -124.350000            0.149990  \n",
       "25%        2.427339     33.930000   -121.800000            1.199000  \n",
       "50%        2.816336     34.260000   -118.490000            1.799000  \n",
       "75%        3.278814     37.720000   -118.010000            2.651250  \n",
       "max     1243.333333     41.950000   -114.310000            5.000010  "
      ]
     },
     "execution_count": 19,
     "metadata": {},
     "output_type": "execute_result"
    }
   ],
   "source": [
    "housing.describe() # удобная ф-ия: считает по числовым хар-кам разные статистики"
   ]
  },
  {
   "cell_type": "code",
   "execution_count": 20,
   "metadata": {
    "slideshow": {
     "slide_type": "subslide"
    }
   },
   "outputs": [
    {
     "data": {
      "text/plain": [
       "array([[ 1.74735277,  0.89872629,  0.08022839, ..., -0.81535254,\n",
       "         0.58688125,  1.99644903],\n",
       "       [ 0.05352855,  0.58148809,  0.18026334, ..., -0.85284526,\n",
       "         0.72649411,  0.24565252],\n",
       "       [-0.0032082 ,  0.74010719, -0.05676243, ..., -0.71693415,\n",
       "         0.75142498,  0.43153956],\n",
       "       ..., \n",
       "       [ 1.41884905, -1.6391793 ,  0.36182325, ...,  0.90931253,\n",
       "        -1.24803058,  0.96066917],\n",
       "       [ 0.95773108,  0.42286899, -0.01327153, ..., -0.82941231,\n",
       "         0.58688125,  1.60133101],\n",
       "       [ 0.64103873, -1.0047029 ,  0.52904844, ..., -1.35899696,\n",
       "         1.28993171, -0.27569577]])"
      ]
     },
     "execution_count": 20,
     "metadata": {},
     "output_type": "execute_result"
    }
   ],
   "source": [
    "from sklearn.pipeline import Pipeline\n",
    "from sklearn.preprocessing import StandardScaler\n",
    "\n",
    "# выполните стандартизацию данных\n",
    "\n",
    "# комм.: нужен для автоматизации работы с данными (применяем ф-ии из пайплайна к разным датасетам)\n",
    "stand = Pipeline([\n",
    "    # your code here. Tuple(name, object)\n",
    "    ('std', StandardScaler())\n",
    "])\n",
    "\n",
    "# your code here. call fit and predict of stand\n",
    "stand.fit(housing)  # комм.: fit — научиться, посчитать статистики; estimator оценивает данные\n",
    "stand.transform(housing)  # комм.: преобразовать данные в соответствии с посчитанными статистиками\n",
    "# комм.: predict — делает предсказание\n",
    "\n",
    "# комм.: из пайплайна можно достать посчитанные статистики"
   ]
  },
  {
   "cell_type": "markdown",
   "metadata": {
    "slideshow": {
     "slide_type": "slide"
    }
   },
   "source": [
    "## Выбор подходящих моделей\n",
    "\n",
    "* Подготовка уменьшенной выборки данных для быстрого обучения моделей\n",
    "* Автоматизация этих шагов\n",
    "* Обучить много быстрых и простых моделей из разных категорий (линейные, наивный баейс, svm, случайных лес и др.) используя параметры по умолчанию\n",
    "* Измерить и сравнить их качество\n",
    "* Для каждой модели использовать N-fold cross-validation и вычислить среднее и стандартное отклонение метрики на N fjlds\n",
    "* Проанализировать наиболее значимые переменные для каждого алгоритма\n",
    "* Проанализировать типы ошибок в модели\n",
    "* Провести быстрые эксперименты подбора признаков\n",
    "* Сделать несколько итераций предыдущих шагов\n",
    "* Составить список наилучших моделей"
   ]
  },
  {
   "cell_type": "markdown",
   "metadata": {
    "slideshow": {
     "slide_type": "subslide"
    }
   },
   "source": [
    "## Задачи классификации и регрессии\n",
    "<img src=\"images/omnomnom.jpg\">"
   ]
  },
  {
   "cell_type": "markdown",
   "metadata": {
    "slideshow": {
     "slide_type": "subslide"
    }
   },
   "source": [
    "## Классификация: интуиция\n",
    "#### Задача\n",
    "Разработать алгоритм, позволяющий определить класс произвольного объекта из\n",
    "некоторго множества\n",
    "* Дана обучающая выборка, в которой для каждого объекта известен класс"
   ]
  },
  {
   "cell_type": "markdown",
   "metadata": {
    "slideshow": {
     "slide_type": "subslide"
    }
   },
   "source": [
    "## Регрессия: интуиция\n",
    "#### Задача\n",
    "Разработать алгоритм, позволяющий предсказать числовую характеристику\n",
    "произвольного объекта из некоторого множества\n",
    "* Дана обучающая выборка, в которой для каждого объекта известно значение\n",
    "числовой характеристики"
   ]
  },
  {
   "cell_type": "markdown",
   "metadata": {
    "slideshow": {
     "slide_type": "subslide"
    }
   },
   "source": [
    "## Обучение с учителем / supervised learning\n",
    "\n",
    "**Дано.** Признаковые описания $N$ объектов $\\mathbf{x} = (x_1, \\ldots, x_m) \\in \\mathcal{X}$, образующие тренировочный набор данных $X$, и значения целевой переменной $y = f(\\mathbf{x}) \\in \\mathcal{Y}$ для каждого объекта из $X$. \n",
    "\n",
    "**Найти.** Для семейства параметрических функций \n",
    "$$\n",
    "H = \\{h(\\mathbf{x, \\mathbf{\\theta}}) = y: \\mathcal{X} \\times \\Theta \\rightarrow \\mathcal{Y}\\},\n",
    "$$\n",
    "найти значение вектора параметров $\\theta^*$, такое что $h^*(\\mathbf{x}) = h(\\mathbf{x}, \\theta^*)$ наилучшим образом приближает целевую функцию.\n",
    "\n",
    "$Y \\in \\{C_1, C_2, \\ldots, C_N\\}$ - задача классификации  \n",
    "$Y \\in [a, b] \\subset \\mathcal{R}$ - задача регресии"
   ]
  },
  {
   "cell_type": "markdown",
   "metadata": {
    "slideshow": {
     "slide_type": "subslide"
    }
   },
   "source": [
    "### $L = R + E + O$\n",
    "\n",
    "* **R** Выдвигаем гипотезу насчет **модели** - семейства параметрических функций вида\n",
    "$$\n",
    "H = \\{h(\\mathbf{x}, \\theta) = y: \\mathcal{X} \\times \\Theta \\rightarrow \\mathcal{Y} \\},\n",
    "$$\n",
    "которая могла бы решить нашу задачу (represenation)\n",
    "\n",
    "* **E** Выбиаем критерий, на основании которого будем оценивать качество предсказания (evaluation)\n",
    "\n",
    "* **O** Выбираем наилучшие параметры модели $\\theta^*$, используя **алгоритм обучения**\n",
    "$$\n",
    "A(X, Y) : (\\mathcal{X}, \\mathcal{Y})^N \\rightarrow \\Theta\n",
    "$$\n",
    "(optimization)\n",
    "\n",
    "* **D** Используя полученную модель $h^*(\\mathbf{x}) = h(\\mathbf{x}, \\theta^*)$, решаем, как классифицировать неизвестные объекты (decision making)\n",
    "\n"
   ]
  },
  {
   "cell_type": "markdown",
   "metadata": {
    "slideshow": {
     "slide_type": "subslide"
    }
   },
   "source": [
    "## Метрики качества"
   ]
  },
  {
   "cell_type": "markdown",
   "metadata": {
    "slideshow": {
     "slide_type": "subslide"
    }
   },
   "source": [
    "## Эмпирический риск\n",
    "\n",
    "* **Функция потерь** $\\mathcal{L}(\\mathbf{x}, y, \\theta)$ - ошибка, которую для данного $\\mathbf{x}$ дает модель $h(\\mathbf{x}, \\theta)$ по сравнению с реальным значением $y$\n",
    "\n",
    "* **Эмпирический риск** - средняя ошибка на обучающей выборке\n",
    "$$\n",
    "Q(X, Y, \\theta) = \\frac{1}{N} \\sum_{n=1}^N \\mathcal{L}(\\mathbf{x}_n, y_n, \\theta)\n",
    "$$\n",
    "\n",
    "* **Задача** - найти значение $\\theta^*$, минимизирующее эмпирический риск\n",
    "$$\n",
    "\\theta^* = \\theta^*(X, Y) = \\text{argmin}_\\theta Q(X, Y, \\theta)\n",
    "$$"
   ]
  },
  {
   "cell_type": "markdown",
   "metadata": {
    "slideshow": {
     "slide_type": "subslide"
    }
   },
   "source": [
    "## Метрики качества. Регрессия\n",
    "\n",
    "$$\n",
    "MSE = \\frac 1 N \\sum (h(\\mathbf{x}_i) - y_i)^2, \\;\\; RMSE = \\sqrt{MSE}\n",
    "$$\n",
    "$$\n",
    "MAE =  \\frac 1 N \\sum |h(\\mathbf{x}_i) - y_i|, \\;\\; RMAE = \\sqrt{MAE}\n",
    "$$\n",
    "\n",
    "http://scikit-learn.org/stable/modules/model_evaluation.html#regression-metrics"
   ]
  },
  {
   "cell_type": "markdown",
   "metadata": {
    "slideshow": {
     "slide_type": "subslide"
    }
   },
   "source": [
    "## Метрики качества. Классификация\n",
    "\n",
    "\n",
    "* Индикатор ошибки\n",
    "$$\n",
    "\\mathcal{L}(\\mathbf{x}, y, \\theta) = 0 \\text{ if } h(\\mathbf{x}, \\theta) = y \\text{ else } 1\n",
    "$$\n",
    "* Функция Минковского \n",
    "$$\n",
    "\\mathcal{L}(\\mathbf{x}, y, \\theta) = |y - h(\\mathbf{x}, \\theta)|^q\n",
    "$$\n",
    "Частные случаи: квадратичная $q = 2$, абсолютная ошибка $q = 1$\n",
    "* Hinge (loss)\n",
    "$$\n",
    "\\mathcal{L}(\\mathbf{x}, y, \\theta) = \\max(0, 1 - y \\times h(\\mathbf{x}, \\theta))\n",
    "$$\n",
    "* Информационная (энтропия)\n",
    "$$\n",
    "\\mathcal{L}(\\mathbf{x}, y, \\theta) = - \\log_2 p(y | \\mathbf{x}, \\theta)\n",
    "$$\n",
    "\n",
    "\n",
    "\n",
    "http://scikit-learn.org/stable/modules/model_evaluation.html#classification-metrics"
   ]
  },
  {
   "cell_type": "markdown",
   "metadata": {
    "slideshow": {
     "slide_type": "subslide"
    }
   },
   "source": [
    "## Метод ближайших соседей\n",
    "\n",
    "### K-Nearest Neighbours\n",
    "\n",
    "* Representation:\n",
    "$$\n",
    "h(\\mathbf{x}) = \\frac{1}{K} \\sum_{\\mathbf{x}_k \\in N_K(\\mathbf{x})} f(\\mathbf{x}_k)\n",
    "$$\n",
    "\n",
    "* Evaluation: любая\n",
    "\n",
    "* Optimization: не требуется\n",
    "\n",
    "Взяли для данной точки k ближайших к ней по x координате и взяли среднее y координат этих ближайших\n"
   ]
  },
  {
   "cell_type": "code",
   "execution_count": 21,
   "metadata": {
    "slideshow": {
     "slide_type": "subslide"
    }
   },
   "outputs": [
    {
     "name": "stdout",
     "output_type": "stream",
     "text": [
      "(5449,)\n"
     ]
    },
    {
     "data": {
      "text/plain": [
       "1.106990897946829"
      ]
     },
     "execution_count": 21,
     "metadata": {},
     "output_type": "execute_result"
    }
   ],
   "source": [
    "from sklearn.neighbors import KNeighborsRegressor\n",
    "from sklearn.model_selection import train_test_split\n",
    "from sklearn.metrics import mean_squared_error\n",
    "\n",
    "housing_labels = housing['median_house_value'].copy()\n",
    "housing_prepared = housing[['MedInc','HouseAge','AveRooms','AveBedrms','Population','AveOccup','Latitude','Longitude']].copy()\n",
    "\n",
    "X_train, X_test, y_train, y_test = train_test_split(housing_prepared, housing_labels, test_size=0.33, random_state=42)\n",
    "\n",
    "knn = KNeighborsRegressor()\n",
    "# k по умолчанию равно 5 (или типа того)\n",
    "\n",
    "knn.fit(X_train, y_train)\n",
    "housing_predictions = knn.predict(X_test)\n",
    "print housing_predictions.shape\n",
    "\n",
    "knn_mse = mean_squared_error(y_test, housing_predictions)\n",
    "knn_rmse = np.sqrt(knn_mse)\n",
    "knn_rmse"
   ]
  },
  {
   "cell_type": "markdown",
   "metadata": {
    "slideshow": {
     "slide_type": "subslide"
    }
   },
   "source": [
    "Комм.: Получили ~1, а в данных числа от 0 до 5 => плохая точность"
   ]
  },
  {
   "cell_type": "code",
   "execution_count": null,
   "metadata": {
    "slideshow": {
     "slide_type": "subslide"
    }
   },
   "outputs": [],
   "source": [
    "Y_new = knn.predict(housing_prepared)\n",
    "mean_squared_error(Y_new, housing_labels)"
   ]
  },
  {
   "cell_type": "code",
   "execution_count": null,
   "metadata": {
    "slideshow": {
     "slide_type": "subslide"
    }
   },
   "outputs": [],
   "source": [
    "housing_labels.head()"
   ]
  },
  {
   "cell_type": "code",
   "execution_count": null,
   "metadata": {
    "slideshow": {
     "slide_type": "slide"
    }
   },
   "outputs": [],
   "source": [
    "pl.figure(figsize=(10, 10))\n",
    "\n",
    "lllon, lllat, urlon, urlat = X[:, -1].min(), X[:, -2].min(), X[:, -1].max(), X[:, -2].max()\n",
    "\n",
    "m = bm.Basemap(\n",
    "    llcrnrlon=lllon,\n",
    "    llcrnrlat=lllat,\n",
    "    urcrnrlon=urlon,\n",
    "    urcrnrlat=urlat, \n",
    "    projection='merc',\n",
    "    resolution='h'\n",
    ")\n",
    "\n",
    "m.drawcoastlines(linewidth=0.5)\n",
    "m.drawmapboundary(fill_color='#47A4C9', zorder=1)\n",
    "m.fillcontinents(color='#88D8B0',lake_color='#47A4C9', zorder=2)\n",
    "\n",
    "parallels = np.linspace(lllat, urlat, 10)\n",
    "m.drawparallels(parallels,labels=[1,0,0,0],fontsize=10)\n",
    "# draw meridians\n",
    "meridians = np.linspace(lllon, urlon, 10)\n",
    "m.drawmeridians(meridians,labels=[0,0,0,1],fontsize=10)\n",
    "\n",
    "colors = [pl.cm.hot(int((y - Y_new.min()) / (Y_new.max() - Y_new.min()) * 256)) for y in Y_new]\n",
    "m.scatter(X[:, -1], X[:, -2], latlon=True, zorder=3, lw=0, c=colors)\n",
    "\n",
    "pl.annotate('San Francisco', xy=(0.04, 0.5), xycoords='axes fraction', color='white', size=15)\n",
    "pl.annotate('Los Angeles', xy=(0.4, 0.08), xycoords='axes fraction', color='white', size=15)\n",
    "\n",
    "pl.show()"
   ]
  },
  {
   "cell_type": "markdown",
   "metadata": {
    "slideshow": {
     "slide_type": "subslide"
    }
   },
   "source": [
    "## Классификация с помощью метода ближайших соседей\n",
    "\n",
    "<img src=\"images/knn_cls.png\">\n",
    "\n"
   ]
  },
  {
   "cell_type": "markdown",
   "metadata": {
    "slideshow": {
     "slide_type": "subslide"
    }
   },
   "source": [
    "## Переобучение\n",
    "\n",
    "<img src=\"images/m1.png\">\n",
    "Недообучились\n",
    "\n",
    "\n",
    "<img src=\"images/m2.png\">\n",
    "Намана\n",
    "\n",
    "\n",
    "<img src=\"images/m3.png\">\n",
    "Переобучились\n",
    "\n",
    "\n",
    "<img src=\"images/of.png\">\n",
    "Зависимость ошибки от степени полинома. Наилучший вариант — полином 3-ей степени, так как такую ф-ию проще всего вычислять.\n",
    "\n",
    "В начале недообученность, потом все ок, потом переобучились\n"
   ]
  },
  {
   "cell_type": "markdown",
   "metadata": {
    "slideshow": {
     "slide_type": "subslide"
    }
   },
   "source": [
    "## Переобучение\n",
    "\n",
    "### KNN\n",
    "\n",
    "<img src=\"images/knn_cls.png\">\n",
    "<img src=\"images/knn_cls_1.png\">\n",
    "<img src=\"images/knn_tt.png\">\n",
    "В точке k = 7 — минимум ф-ии ошибки => идеальный вариант\n"
   ]
  },
  {
   "cell_type": "code",
   "execution_count": null,
   "metadata": {
    "slideshow": {
     "slide_type": "subslide"
    }
   },
   "outputs": [],
   "source": [
    "import numpy as np\n",
    "import matplotlib.pyplot as plt\n",
    "from sklearn import datasets\n",
    "from sklearn.metrics import accuracy_score\n",
    "from sklearn.neighbors import KNeighborsClassifier\n",
    "\n",
    "\n",
    "iris = datasets.load_iris()\n",
    "\n",
    "X = iris.data\n",
    "y = iris.target\n",
    "\n",
    "X_train, X_test, y_train, y_test = train_test_split(X, y, test_size=0.33, random_state=2827)\n",
    "\n",
    "neighbors = range(1, 20)\n",
    "errors_train = []\n",
    "errors_test = []\n",
    "for k in neighbors:\n",
    "    knn = KNeighborsClassifier(k)\n",
    "\n",
    "    knn.fit(X_train, y_train)\n",
    "    res_train = knn.predict(X_train)\n",
    "    res_test = knn.predict(X_test)\n",
    "    \n",
    "    errors_train.append(accuracy_score(y_train, res_train))\n",
    "    errors_test.append(accuracy_score(y_test, res_test))\n",
    "    \n",
    "plt.plot(neighbors, errors_train, color='blue', label='train')\n",
    "plt.plot(neighbors, errors_test, color='red', label='test')\n",
    "plt.legend()\n",
    "\n",
    "\n",
    "# Разделите выборку на train и test части. Для всех n из neighbors:\n",
    "\n",
    "# 1. создайте объект классификатора с параметром количества соседей и обучите его на датасете \n",
    "# используйте KNeighborsClassifier\n",
    "\n",
    "# 2. Обучите модель и посчитайте количество ошибок с помощью accuracy на train и на test частях\n",
    "\n",
    "# Нарисуйте график\n",
    "\n",
    "\n",
    "# Комм.: !! проверить, правильно ли написан код"
   ]
  },
  {
   "cell_type": "markdown",
   "metadata": {
    "slideshow": {
     "slide_type": "slide"
    }
   },
   "source": [
    "Тонкая настройка\n",
    "\n",
    "* Использовать как можно больше данных\n",
    "* Автоматизировать все, что можно\n",
    "* Подбирать параметры на кросс-валидации\n",
    "* Эвристики о преобразовании признаков принимать как гиперпараметры модели\n",
    "* Использовать поиск параметров по сетке и случайный\n",
    "* Проверить работу ансамблей\n",
    "* После выбора модели, проверить ее на отложенной выборке (менять параметры модели при этом нельзя)"
   ]
  },
  {
   "cell_type": "markdown",
   "metadata": {
    "slideshow": {
     "slide_type": "subslide"
    }
   },
   "source": [
    "## Как оценить различные модели?\n",
    "\n",
    "**Идея**  \n",
    "использовать долю неверно классифицированных объектов  \n",
    "error rate)\n",
    "\n",
    "**Важное замечание**  \n",
    "error rate на обучающей выборке *НЕ* является хорошим показателем качества модели\n"
   ]
  },
  {
   "cell_type": "markdown",
   "metadata": {
    "slideshow": {
     "slide_type": "subslide"
    }
   },
   "source": [
    "## Решение 1: разделение выборки\n",
    "\n",
    "Делим обучающую выборку на **тренировочную**, **валидационную** и **тестовую**\n",
    "<img src=\"images/vtt.png\">\n",
    "\n",
    "Комм.: Тоже такой себе вариант\n"
   ]
  },
  {
   "cell_type": "code",
   "execution_count": null,
   "metadata": {
    "slideshow": {
     "slide_type": "subslide"
    }
   },
   "outputs": [],
   "source": [
    "import numpy as np\n",
    "from sklearn.model_selection import train_test_split\n",
    "from sklearn import datasets\n",
    "from sklearn import neighbors\n",
    "\n",
    "iris = datasets.load_iris()\n",
    "print 'dataset: data shape {}, target shape {}'.format(iris.data.shape, iris.target.shape)\n",
    "\n",
    "X_train, X_test, y_train, y_test = train_test_split(iris.data, iris.target, test_size=0.4, random_state=0)\n",
    "\n",
    "print 'train data: data {}, target {}'.format(X_train.shape, y_train.shape)\n",
    "\n",
    "print 'test data: data {}, target {}'.format(X_test.shape, y_test.shape)\n",
    "\n",
    "clf = neighbors.KNeighborsClassifier().fit(X_train, y_train)\n",
    "clf.score(X_test, y_test)                           "
   ]
  },
  {
   "cell_type": "markdown",
   "metadata": {
    "slideshow": {
     "slide_type": "subslide"
    }
   },
   "source": [
    "## Решение 2: скользящий контроль\n",
    "\n",
    "(n-times) (stratified) cross-validation\n",
    "<img src=\"images/cv.png\">\n",
    "частный случай: leave-one-out\n",
    "\n",
    "Комм.: а потом берем среднее по всем таким разбиениям данных"
   ]
  },
  {
   "cell_type": "code",
   "execution_count": null,
   "metadata": {
    "slideshow": {
     "slide_type": "subslide"
    }
   },
   "outputs": [],
   "source": [
    "from sklearn.model_selection import cross_val_score\n",
    "# cross_val_score — для cross validation\n",
    "clf = neighbors.KNeighborsClassifier()\n",
    "scores = cross_val_score(clf, iris.data, iris.target, cv=5)\n",
    "print scores\n",
    "print(\"Accuracy: %0.2f (+/- %0.2f)\" % (scores.mean(), scores.std() * 2))"
   ]
  },
  {
   "cell_type": "code",
   "execution_count": null,
   "metadata": {
    "slideshow": {
     "slide_type": "subslide"
    }
   },
   "outputs": [],
   "source": [
    "# Подберите параметры knn регрессии для housing с помощью RandomizedSearchCV кросс-валидации\n",
    "\n",
    "from sklearn.model_selection import RandomizedSearchCV\n",
    "from sklearn.pipeline import make_pipeline\n",
    "\n",
    "# GridSearchCV делает полный перебор, а randomized версия берет случайные варианты и переберает меньше\n",
    "\n",
    "param_grid = {\n",
    "    # your code here. key - param name, value - grid\n",
    "    'kneighborsclassifier__n_neighbors' : range(1, 20)\n",
    "}\n",
    "\n",
    "reg = make_pipeline(\n",
    "    # your code here \n",
    "    # 1. StandardScaler object\n",
    "    # 2. Knn object\n",
    "    StandardScaler(),\n",
    "    KNeighborsClassifier()\n",
    ")\n",
    "\n",
    "rand_search = RandomizedSearchCV(reg, param_grid, cv=5, scoring='neg_mean_squared_error')\n",
    "rand_search.fit(X, y)"
   ]
  },
  {
   "cell_type": "code",
   "execution_count": null,
   "metadata": {},
   "outputs": [],
   "source": [
    "rand_search.best_estimator_"
   ]
  },
  {
   "cell_type": "markdown",
   "metadata": {
    "slideshow": {
     "slide_type": "subslide"
    }
   },
   "source": [
    "## Метрики качества. Функции решения.\n",
    "\n",
    "Комм.: рассматриваем задачу бинарной классификации\n",
    "\n",
    "<table>\n",
    "<tr>\n",
    "    <td></td>\n",
    "    <td></td>\n",
    "    <td>Предсказанный</td>\n",
    "    <td></td>\n",
    "</tr>\n",
    "<tr>\n",
    "    <td></td>\n",
    "    <td></td>\n",
    "    <td>true</td>\n",
    "    <td>false</td>\n",
    "</tr>\n",
    "<tr>\n",
    "    <td>Действительный</td>\n",
    "    <td>true</td>\n",
    "    <td>TP</td>\n",
    "    <td>FN</td>\n",
    "</tr>\n",
    "<tr>\n",
    "    <td></td>\n",
    "    <td>false</td>\n",
    "    <td>FP</td>\n",
    "    <td>TN</td>\n",
    "</tr>\n",
    "</table>\n",
    "TP — true positive, FN — false negative, etc\n",
    "\n",
    "Комм.: Есть ошибки первого (e.g. мужчина беременен) и второго (e.g. женщина беременна, но на самом деле нет) родов\n",
    "\n",
    "\n",
    "$$\n",
    "success\\;rate = accuracy = \\frac{TP + TN}{TP + FP + FN + TN}\n",
    "$$\n",
    "TPR — true positive rate\n",
    "$$\n",
    "recall = TPR = \\frac{TP}{TP + FN};\\;\\;precision = \\frac{TP}{TP + FP}\n",
    "$$\n",
    "$$\n",
    "FPR = \\frac{FP}{FP + TN}\n",
    "$$\n",
    "$$\n",
    "affinity = lift = \\frac{precision}{p}\n",
    "$$\n"
   ]
  },
  {
   "cell_type": "markdown",
   "metadata": {
    "slideshow": {
     "slide_type": "subslide"
    }
   },
   "source": [
    "\n",
    "## Receiver Operating Characteristic\n",
    "\n",
    "$$\n",
    "TPR = \\frac{TP}{TP + FN};\\;\\;FPR = \\frac{FP}{FP + TN}\n",
    "$$\n",
    "\n",
    "<img src=\"images/roc.png\">\n",
    "Варьируем порог (П - порог, тогда если предсказание > П, то 1, иначе 0) и для каждого ставим точку на графике. Если П == 0, то TPR == 1 и FPR == 1, если П == 1, то TPR == 0 и FPR == 0.\n",
    "Этот график всегда не убывает. Чем больше площадь под графиком, тем лучше предсказания"
   ]
  },
  {
   "cell_type": "markdown",
   "metadata": {
    "slideshow": {
     "slide_type": "slide"
    }
   },
   "source": [
    "## Презентация своего решения\n",
    "Комм.: нужно именно доказать корректность своего решения\n",
    "1. Документация проделанной работы\n",
    "2. Красивая презентация\n",
    "    * Правильно расставленные акценты\n",
    "3. Описать решение в соответствии с бизнес целью\n",
    "4. Рассказать о полученных знаниях в процессе работы с данными\n",
    "    * Описать, что сделано, и что не сделано\n",
    "    * Описать допущения и ограничения разработанной системы\n",
    "5. Убедиться, что ключевые утверждения описаны и визуализированы простым и наглядным образом"
   ]
  },
  {
   "cell_type": "markdown",
   "metadata": {
    "slideshow": {
     "slide_type": "slide"
    }
   },
   "source": [
    "## Запуск системы\n",
    "1. Подготовить решение для использования в боевом окружении (реализовать преобразования данных, написать юнит-тесты)\n",
    "2. Настроить мониторинг - следить за качеством модели на регулярной основе и сообщать о проблемах любым способом\n",
    "    * Помнить об ухудшении качества модели со временем\n",
    "    * Следить за качеством входных данных\n",
    "3. Периодически обучать новую модель на новых данных - автоматизировать как можно больше"
   ]
  },
  {
   "cell_type": "markdown",
   "metadata": {
    "slideshow": {
     "slide_type": "slide"
    }
   },
   "source": [
    "### Вопросы\n",
    "### Пожалуйста, напишите отзыв о лекции"
   ]
  }
 ],
 "metadata": {
  "celltoolbar": "Slideshow",
  "kernelspec": {
   "display_name": "Python 2",
   "language": "python",
   "name": "python2"
  },
  "language_info": {
   "codemirror_mode": {
    "name": "ipython",
    "version": 2
   },
   "file_extension": ".py",
   "mimetype": "text/x-python",
   "name": "python",
   "nbconvert_exporter": "python",
   "pygments_lexer": "ipython2",
   "version": "2.7.14"
  }
 },
 "nbformat": 4,
 "nbformat_minor": 2
}

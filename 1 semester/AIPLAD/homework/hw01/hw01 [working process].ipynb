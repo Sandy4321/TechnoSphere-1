{
  "cells": [
    {
      "cell_type": "code",
      "source": [
        "import numpy as np\n",
        "import pandas as pd\n",
        "\n",
        "def df_diag_ones(df):\n",
        "    df.values[range(df.shape[0]), range(df.shape[0])] = 1\n",
        "    df.values[range(df.shape[0]), range(df.shape[0] - 1, -1, -1)] = 1\n",
        "    return df"
      ],
      "outputs": [],
      "execution_count": 69,
      "metadata": {
        "collapsed": false,
        "outputHidden": false,
        "inputHidden": false
      }
    },
    {
      "cell_type": "code",
      "source": [
        "df = [[16,  5, 23,  4, 20],\n",
        "      [24,  8, 15, 24,  9],\n",
        "      [15, 11,  9,  8,  7],\n",
        "      [ 5, 17,  8, 13,  1],\n",
        "      [12, 24,  7, 20, 13]]\n",
        "df = pd.DataFrame(df)\n",
        "df = df_diag_ones(df)\n",
        "print(df)"
      ],
      "outputs": [
        {
          "output_type": "stream",
          "name": "stdout",
          "text": [
            "    0   1   2   3  4\n",
            "0   1   5  23   4  1\n",
            "1  24   1  15   1  9\n",
            "2  15  11   1   8  7\n",
            "3   5   1   8   1  1\n",
            "4   1  24   7  20  1\n"
          ]
        }
      ],
      "execution_count": 71,
      "metadata": {
        "collapsed": false,
        "outputHidden": false,
        "inputHidden": false
      }
    },
    {
      "cell_type": "code",
      "source": [],
      "outputs": [],
      "execution_count": null,
      "metadata": {
        "collapsed": false,
        "outputHidden": false,
        "inputHidden": false
      }
    },
    {
      "cell_type": "code",
      "source": [
        "import numpy as np\n",
        "import pandas as pd\n",
        "\n\n",
        "def peak_finder(s):\n",
        "    x = s.values\n",
        "    mask = (x[:-1] > x[1:])[1:] * (x[:-1] < x[1:])[:-1]\n",
        "    return np.where(mask)[0] + 1"
      ],
      "outputs": [],
      "execution_count": 128,
      "metadata": {
        "collapsed": false,
        "outputHidden": false,
        "inputHidden": false
      }
    },
    {
      "cell_type": "code",
      "source": [
        "s = pd.Series([3, 4, 3, 5, 9, 20, 1, 1, 3])\n",
        "r = peak_finder(s)\n",
        "print(r)"
      ],
      "outputs": [
        {
          "output_type": "stream",
          "name": "stdout",
          "text": [
            "[1 5]\n"
          ]
        }
      ],
      "execution_count": 129,
      "metadata": {
        "collapsed": false,
        "outputHidden": false,
        "inputHidden": false
      }
    },
    {
      "cell_type": "code",
      "source": [
        "s = pd.Series([5, 1, 1, 5])\n",
        "r = peak_finder(s)\n",
        "print(r)\n"
      ],
      "outputs": [
        {
          "output_type": "stream",
          "name": "stdout",
          "text": [
            "[]\n"
          ]
        }
      ],
      "execution_count": 130,
      "metadata": {
        "collapsed": false,
        "outputHidden": false,
        "inputHidden": false
      }
    },
    {
      "cell_type": "code",
      "source": [],
      "outputs": [],
      "execution_count": null,
      "metadata": {
        "collapsed": false,
        "outputHidden": false,
        "inputHidden": false
      }
    },
    {
      "cell_type": "code",
      "source": [
        "def zeros_insert(k, n):\n",
        "    x = np.zeros((n + 1) * (len(k) - 1) + 1)\n",
        "    x[::n+1] = k\n",
        "    return x"
      ],
      "outputs": [],
      "execution_count": 175,
      "metadata": {
        "collapsed": false,
        "outputHidden": false,
        "inputHidden": false
      }
    },
    {
      "cell_type": "code",
      "source": [
        "k = [1]\n",
        "n = 3\n",
        "r = zeros_insert(k, n)\n",
        "print(r)\n"
      ],
      "outputs": [
        {
          "output_type": "stream",
          "name": "stdout",
          "text": [
            "[1.]\n"
          ]
        }
      ],
      "execution_count": 177,
      "metadata": {
        "collapsed": false,
        "outputHidden": false,
        "inputHidden": false
      }
    },
    {
      "cell_type": "code",
      "source": [],
      "outputs": [
        {
          "output_type": "execute_result",
          "execution_count": 157,
          "data": {
            "text/plain": [
              "array([1.])"
            ]
          },
          "metadata": {}
        }
      ],
      "execution_count": 157,
      "metadata": {
        "collapsed": false,
        "outputHidden": false,
        "inputHidden": false
      }
    },
    {
      "cell_type": "code",
      "source": [],
      "outputs": [],
      "execution_count": null,
      "metadata": {
        "collapsed": false,
        "outputHidden": false,
        "inputHidden": false
      }
    }
  ],
  "metadata": {
    "kernel_info": {
      "name": "python3"
    },
    "language_info": {
      "name": "python",
      "version": "3.7.0",
      "mimetype": "text/x-python",
      "codemirror_mode": {
        "name": "ipython",
        "version": 3
      },
      "pygments_lexer": "ipython3",
      "nbconvert_exporter": "python",
      "file_extension": ".py"
    },
    "kernelspec": {
      "name": "python3",
      "language": "python",
      "display_name": "Python 3"
    },
    "nteract": {
      "version": "0.11.7"
    }
  },
  "nbformat": 4,
  "nbformat_minor": 4
}
{
 "cells": [
  {
   "cell_type": "markdown",
   "metadata": {},
   "source": [
    "# Александр Чернышёв"
   ]
  },
  {
   "cell_type": "markdown",
   "metadata": {},
   "source": [
    "## Домашнее задание по курсу \"Алгоритмы интеллектуальной обработки больших объемов данных\" №1"
   ]
  },
  {
   "cell_type": "markdown",
   "metadata": {},
   "source": [
    "**Общая информация**\n",
    "\n",
    "**Срок сдачи:** 18 октября 2017, 06:00 <br\\>\n",
    "**Штраф за опоздание:** -2 балла после 06:00 18 октября, -4 балла после 06:00 25 октября, -6 баллов после 06:00 1 ноября\n",
    "\n",
    "При отправлении ДЗ указывайте фамилию в названии файла\n",
    "Присылать ДЗ необходимо в виде ссылки на свой github репозиторий в slack @alkhamush\n",
    "\n",
    "Необходимо в slack создать таск в приватный чат:\n",
    "/todo Фамилия Имя ссылка на гитхаб @alkhamush\n",
    "Пример:\n",
    "/todo Ксения Стройкова https://github.com/stroykova/spheremailru/stroykova_hw1.ipynb @alkhamush\n",
    "Дополнительно нужно просто скинуть ссылку в slack в личный чат\n",
    "\n",
    "Используйте данный Ipython Notebook при оформлении домашнего задания."
   ]
  },
  {
   "cell_type": "markdown",
   "metadata": {},
   "source": [
    "###### Задание 1 (2 баллов)\n",
    "Реализовать KNN в классе MyKNeighborsClassifier (обязательное условие: точность не ниже sklearn реализации)<br>\n",
    "Разберитесь самостоятельно, какая мера расстояния используется в KNeighborsClassifier дефолтно и реализуйте свой алгоритм именно с этой мерой. Самостоятельно разберитесь, как считается score из KNeighborsClassifier и реализуйте аналог в своём классе. Score не должен уступать значению KNN из sklearn\n",
    "\n",
    "###### Задание 2 (2 балла)\n",
    "Добиться скорости работы на fit,  predict и predict_proba сравнимой со sklearn для iris и mnist<br>\n",
    "Для этого используем numpy\n",
    "\n",
    "###### Задание 3 (2 балла)\n",
    "Для iris найдите такой параметр n_neighbors, при котором выдаётся наилучший score. Нарисуйте график зависимости score от n_neighbors\n",
    "\n",
    "###### Задание 4 (3 балла)\n",
    "Добавить algorithm='kd_tree' в реализацию KNN (использовать KDTree из sklearn.neighbors). Значение n_neighbors нужно взять из задания 3. Добиться скорости работы на fit,  predict и predict_proba сравнимой со sklearn для iris и mnist<br>\n",
    "Для этого используем numpy. Score не должен уступать значению KNN из sklearn\n",
    "\n",
    "###### Задание 5 (1 балла)\n",
    "Описать для чего нужны следующие библиотеки/классы/функции (список будет ниже)\n",
    "\n",
    "**Штрафные баллы:**\n",
    "\n",
    "1. Невыполнение PEP8 -1 балл\n",
    "2. Отсутствие фамилии в имени скрипта (скрипт должен называться по аналогии со stroykova_hw1.ipynb) -1 балл\n",
    "3. Все строчки должны быть выполнены. Нужно, чтобы output команды можно было увидеть уже в git'е. В противном случае -1 балл\n",
    "4. При оформлении ДЗ нужно пользоваться данным файлом в качестве шаблона. Не нужно удалять и видоизменять структуру кода и текст. В противном случае -1 балл\n"
   ]
  },
  {
   "cell_type": "code",
   "execution_count": 1,
   "metadata": {},
   "outputs": [
    {
     "name": "stderr",
     "output_type": "stream",
     "text": [
      "/usr/local/lib/python3.7/site-packages/pycodestyle.py:113: FutureWarning: Possible nested set at position 1\n",
      "  EXTRANEOUS_WHITESPACE_REGEX = re.compile(r'[[({] | []}),;:]')\n"
     ]
    }
   ],
   "source": [
    "import numpy as np\n",
    "\n",
    "import matplotlib.pyplot as plt\n",
    "plt.rcParams.update({'font.size': 16})\n",
    "\n",
    "import seaborn as sns\n",
    "from sklearn import datasets\n",
    "from sklearn.base import ClassifierMixin\n",
    "from sklearn.datasets import fetch_mldata\n",
    "from sklearn.neighbors.base import NeighborsBase, KNeighborsMixin, SupervisedIntegerMixin \n",
    "from sklearn.model_selection import train_test_split\n",
    "from sklearn.neighbors import KNeighborsClassifier\n",
    "from sklearn.neighbors import KDTree\n",
    "from scipy import stats\n",
    "%load_ext pycodestyle_magic"
   ]
  },
  {
   "cell_type": "markdown",
   "metadata": {},
   "source": [
    "## Задания 1 и 2"
   ]
  },
  {
   "cell_type": "code",
   "execution_count": 2,
   "metadata": {},
   "outputs": [],
   "source": [
    "class MyKNeighborsClassifier(NeighborsBase, KNeighborsMixin,\n",
    "                             SupervisedIntegerMixin, ClassifierMixin):\n",
    "\n",
    "    def __init__(self, n_neighbors, algorithm='brute'):\n",
    "        self.k = n_neighbors\n",
    "        self.algorithm = algorithm\n",
    "\n",
    "    def fit(self, X, y):\n",
    "        self.X = X.astype(float)\n",
    "        self.y = y.astype(int)\n",
    "        if self.algorithm == 'kd_tree':\n",
    "            self.KDTree = KDTree(X)\n",
    "\n",
    "    def _get_KNN(self, X):\n",
    "        X = X.astype(float)\n",
    "        if self.algorithm == 'kd_tree':\n",
    "            return self.KDTree.query(X, k=self.k, return_distance=False)\n",
    "        dists = (X ** 2).sum(axis=1)[:, None] - 2 * X.dot(self.X.T) +\\\n",
    "            (self.X.T ** 2).sum(axis=0)\n",
    "        return np.argsort(dists, axis=1)[:, :self.k]\n",
    "\n",
    "    def _get_predictions(self, X):\n",
    "        return self.y[self._get_KNN(X)]\n",
    "\n",
    "    def predict(self, X):\n",
    "        return stats.mode(self._get_predictions(X), axis=1)[0].ravel()\n",
    "\n",
    "    def predict_proba(self, X):\n",
    "        predictions = self._get_predictions(X)\n",
    "        proba = np.zeros((len(X), len(np.unique(self.y))), dtype=float)\n",
    "        for col in predictions.T:\n",
    "            proba[np.arange(len(X)), col] += 1\n",
    "        return proba / self.k\n",
    "\n",
    "    def score(self, X, y):\n",
    "        return (y.astype(int) == self.predict(X.astype(float))).mean()"
   ]
  },
  {
   "cell_type": "markdown",
   "metadata": {},
   "source": [
    "**IRIS**"
   ]
  },
  {
   "cell_type": "code",
   "execution_count": 3,
   "metadata": {},
   "outputs": [],
   "source": [
    "iris = datasets.load_iris()"
   ]
  },
  {
   "cell_type": "code",
   "execution_count": 4,
   "metadata": {},
   "outputs": [],
   "source": [
    "X_train, X_test, y_train, y_test = train_test_split(iris.data, iris.target,\n",
    "                                                    test_size=0.1,\n",
    "                                                    stratify=iris.target)"
   ]
  },
  {
   "cell_type": "code",
   "execution_count": 5,
   "metadata": {},
   "outputs": [],
   "source": [
    "clf = KNeighborsClassifier(n_neighbors=2)\n",
    "my_clf = MyKNeighborsClassifier(n_neighbors=2)"
   ]
  },
  {
   "cell_type": "code",
   "execution_count": 6,
   "metadata": {},
   "outputs": [
    {
     "name": "stdout",
     "output_type": "stream",
     "text": [
      "CPU times: user 1.52 ms, sys: 528 µs, total: 2.04 ms\n",
      "Wall time: 1.69 ms\n"
     ]
    },
    {
     "data": {
      "text/plain": [
       "KNeighborsClassifier(algorithm='auto', leaf_size=30, metric='minkowski',\n",
       "           metric_params=None, n_jobs=None, n_neighbors=2, p=2,\n",
       "           weights='uniform')"
      ]
     },
     "execution_count": 6,
     "metadata": {},
     "output_type": "execute_result"
    }
   ],
   "source": [
    "%time clf.fit(X_train, y_train)"
   ]
  },
  {
   "cell_type": "code",
   "execution_count": 7,
   "metadata": {},
   "outputs": [
    {
     "name": "stdout",
     "output_type": "stream",
     "text": [
      "CPU times: user 148 µs, sys: 82 µs, total: 230 µs\n",
      "Wall time: 162 µs\n"
     ]
    }
   ],
   "source": [
    "%time my_clf.fit(X_train, y_train)"
   ]
  },
  {
   "cell_type": "code",
   "execution_count": 8,
   "metadata": {},
   "outputs": [
    {
     "name": "stdout",
     "output_type": "stream",
     "text": [
      "CPU times: user 1.29 ms, sys: 203 µs, total: 1.49 ms\n",
      "Wall time: 1.39 ms\n"
     ]
    },
    {
     "data": {
      "text/plain": [
       "array([2, 1, 0, 2, 2, 1, 2, 1, 1, 1, 0, 0, 0, 0, 1])"
      ]
     },
     "execution_count": 8,
     "metadata": {},
     "output_type": "execute_result"
    }
   ],
   "source": [
    "%time clf.predict(X_test)"
   ]
  },
  {
   "cell_type": "code",
   "execution_count": 9,
   "metadata": {},
   "outputs": [
    {
     "name": "stdout",
     "output_type": "stream",
     "text": [
      "CPU times: user 707 µs, sys: 149 µs, total: 856 µs\n",
      "Wall time: 760 µs\n"
     ]
    },
    {
     "data": {
      "text/plain": [
       "array([2, 1, 0, 2, 2, 1, 2, 1, 1, 1, 0, 0, 0, 0, 1])"
      ]
     },
     "execution_count": 9,
     "metadata": {},
     "output_type": "execute_result"
    }
   ],
   "source": [
    "%time my_clf.predict(X_test)"
   ]
  },
  {
   "cell_type": "code",
   "execution_count": 10,
   "metadata": {},
   "outputs": [
    {
     "name": "stdout",
     "output_type": "stream",
     "text": [
      "CPU times: user 1.01 ms, sys: 225 µs, total: 1.23 ms\n",
      "Wall time: 1.11 ms\n"
     ]
    },
    {
     "data": {
      "text/plain": [
       "array([[0., 0., 1.],\n",
       "       [0., 1., 0.],\n",
       "       [1., 0., 0.],\n",
       "       [0., 0., 1.],\n",
       "       [0., 0., 1.],\n",
       "       [0., 1., 0.],\n",
       "       [0., 0., 1.],\n",
       "       [0., 1., 0.],\n",
       "       [0., 1., 0.],\n",
       "       [0., 1., 0.],\n",
       "       [1., 0., 0.],\n",
       "       [1., 0., 0.],\n",
       "       [1., 0., 0.],\n",
       "       [1., 0., 0.],\n",
       "       [0., 1., 0.]])"
      ]
     },
     "execution_count": 10,
     "metadata": {},
     "output_type": "execute_result"
    }
   ],
   "source": [
    "%time clf.predict_proba(X_test)"
   ]
  },
  {
   "cell_type": "code",
   "execution_count": 11,
   "metadata": {},
   "outputs": [
    {
     "name": "stdout",
     "output_type": "stream",
     "text": [
      "CPU times: user 641 µs, sys: 258 µs, total: 899 µs\n",
      "Wall time: 728 µs\n"
     ]
    },
    {
     "data": {
      "text/plain": [
       "array([[0., 0., 1.],\n",
       "       [0., 1., 0.],\n",
       "       [1., 0., 0.],\n",
       "       [0., 0., 1.],\n",
       "       [0., 0., 1.],\n",
       "       [0., 1., 0.],\n",
       "       [0., 0., 1.],\n",
       "       [0., 1., 0.],\n",
       "       [0., 1., 0.],\n",
       "       [0., 1., 0.],\n",
       "       [1., 0., 0.],\n",
       "       [1., 0., 0.],\n",
       "       [1., 0., 0.],\n",
       "       [1., 0., 0.],\n",
       "       [0., 1., 0.]])"
      ]
     },
     "execution_count": 11,
     "metadata": {},
     "output_type": "execute_result"
    }
   ],
   "source": [
    "%time my_clf.predict_proba(X_test)"
   ]
  },
  {
   "cell_type": "code",
   "execution_count": 12,
   "metadata": {},
   "outputs": [
    {
     "data": {
      "text/plain": [
       "0.9333333333333333"
      ]
     },
     "execution_count": 12,
     "metadata": {},
     "output_type": "execute_result"
    }
   ],
   "source": [
    "clf.score(X_test, y_test)"
   ]
  },
  {
   "cell_type": "code",
   "execution_count": 13,
   "metadata": {},
   "outputs": [
    {
     "data": {
      "text/plain": [
       "0.9333333333333333"
      ]
     },
     "execution_count": 13,
     "metadata": {},
     "output_type": "execute_result"
    }
   ],
   "source": [
    "my_clf.score(X_test, y_test)"
   ]
  },
  {
   "cell_type": "markdown",
   "metadata": {},
   "source": [
    "## Задание 3"
   ]
  },
  {
   "cell_type": "code",
   "execution_count": 14,
   "metadata": {},
   "outputs": [
    {
     "name": "stdout",
     "output_type": "stream",
     "text": [
      "Best score with n_neighdors = 5, max score = 0.933\n"
     ]
    },
    {
     "data": {
      "text/plain": [
       "[<matplotlib.lines.Line2D at 0x122301a58>]"
      ]
     },
     "execution_count": 14,
     "metadata": {},
     "output_type": "execute_result"
    },
    {
     "data": {
      "image/png": "[encoded data removed]",
      "text/plain": [
       "<Figure size 864x504 with 1 Axes>"
      ]
     },
     "metadata": {},
     "output_type": "display_data"
    }
   ],
   "source": [
    "max_k = 100\n",
    "results = np.empty(max_k - 1, dtype=float)\n",
    "for k in range(1, max_k):\n",
    "    model = MyKNeighborsClassifier(n_neighbors=k)\n",
    "    model.fit(X_train, y_train)\n",
    "    results[k - 1] = model.score(X_test, y_test)\n",
    "\n",
    "task_3_best_k = results.argmax() + 1\n",
    "print('Best score with n_neighdors = {}, max score = {:0.3}'.\n",
    "      format(task_3_best_k, results[task_3_best_k]))\n",
    "\n",
    "plt.figure(figsize=(12, 7))\n",
    "plt.title('Score для KNN на iris при разных n_neighbors')\n",
    "plt.xlabel('n_neighbors')\n",
    "plt.ylabel('score')\n",
    "plt.plot(np.arange(1, max_k), results)"
   ]
  },
  {
   "cell_type": "markdown",
   "metadata": {},
   "source": [
    "**MNIST**"
   ]
  },
  {
   "cell_type": "code",
   "execution_count": 15,
   "metadata": {},
   "outputs": [
    {
     "name": "stderr",
     "output_type": "stream",
     "text": [
      "/usr/local/lib/python3.7/site-packages/sklearn/utils/deprecation.py:77: DeprecationWarning: Function fetch_mldata is deprecated; fetch_mldata was deprecated in version 0.20 and will be removed in version 0.22\n",
      "  warnings.warn(msg, category=DeprecationWarning)\n",
      "/usr/local/lib/python3.7/site-packages/sklearn/utils/deprecation.py:77: DeprecationWarning: Function mldata_filename is deprecated; mldata_filename was deprecated in version 0.20 and will be removed in version 0.22\n",
      "  warnings.warn(msg, category=DeprecationWarning)\n"
     ]
    }
   ],
   "source": [
    "mnist = fetch_mldata('MNIST original')"
   ]
  },
  {
   "cell_type": "code",
   "execution_count": 16,
   "metadata": {},
   "outputs": [],
   "source": [
    "X_train, X_test, y_train, y_test = train_test_split(mnist.data, mnist.target,\n",
    "                                                    test_size=0.01,\n",
    "                                                    stratify=mnist.target)"
   ]
  },
  {
   "cell_type": "code",
   "execution_count": 17,
   "metadata": {},
   "outputs": [],
   "source": [
    "clf = KNeighborsClassifier(n_neighbors=2)\n",
    "my_clf = MyKNeighborsClassifier(n_neighbors=2)"
   ]
  },
  {
   "cell_type": "code",
   "execution_count": 18,
   "metadata": {},
   "outputs": [
    {
     "name": "stdout",
     "output_type": "stream",
     "text": [
      "CPU times: user 57.5 s, sys: 560 ms, total: 58.1 s\n",
      "Wall time: 58.4 s\n"
     ]
    },
    {
     "data": {
      "text/plain": [
       "KNeighborsClassifier(algorithm='auto', leaf_size=30, metric='minkowski',\n",
       "           metric_params=None, n_jobs=None, n_neighbors=2, p=2,\n",
       "           weights='uniform')"
      ]
     },
     "execution_count": 18,
     "metadata": {},
     "output_type": "execute_result"
    }
   ],
   "source": [
    "%time clf.fit(X_train, y_train)"
   ]
  },
  {
   "cell_type": "code",
   "execution_count": 19,
   "metadata": {},
   "outputs": [
    {
     "name": "stdout",
     "output_type": "stream",
     "text": [
      "CPU times: user 119 ms, sys: 174 ms, total: 293 ms\n",
      "Wall time: 291 ms\n"
     ]
    }
   ],
   "source": [
    "%time my_clf.fit(X_train, y_train)"
   ]
  },
  {
   "cell_type": "code",
   "execution_count": 20,
   "metadata": {},
   "outputs": [
    {
     "name": "stdout",
     "output_type": "stream",
     "text": [
      "CPU times: user 1min 11s, sys: 319 ms, total: 1min 12s\n",
      "Wall time: 1min 13s\n"
     ]
    },
    {
     "data": {
      "text/plain": [
       "array([9., 6., 7., 3., 1., 1., 9., 9., 5., 1., 4., 9., 8., 2., 4., 0., 5.,\n",
       "       6., 5., 7., 0., 6., 4., 4., 8., 4., 2., 8., 3., 2., 3., 5., 3., 6.,\n",
       "       4., 9., 4., 7., 6., 9., 6., 0., 6., 2., 7., 5., 1., 1., 1., 6., 9.,\n",
       "       3., 1., 2., 2., 5., 4., 4., 6., 8., 2., 7., 2., 3., 1., 2., 8., 4.,\n",
       "       3., 0., 3., 7., 5., 6., 0., 6., 1., 5., 0., 8., 2., 7., 3., 1., 5.,\n",
       "       1., 7., 6., 3., 3., 3., 2., 9., 8., 8., 8., 2., 9., 0., 1., 9., 4.,\n",
       "       7., 9., 4., 3., 3., 3., 7., 2., 5., 7., 7., 7., 6., 8., 4., 9., 3.,\n",
       "       1., 0., 4., 1., 5., 4., 4., 7., 1., 8., 3., 4., 8., 9., 1., 5., 2.,\n",
       "       7., 6., 2., 9., 1., 2., 0., 3., 6., 5., 0., 8., 6., 3., 7., 2., 3.,\n",
       "       5., 9., 7., 7., 2., 6., 4., 5., 1., 3., 2., 8., 4., 2., 9., 6., 2.,\n",
       "       0., 7., 8., 0., 8., 5., 9., 6., 3., 9., 8., 6., 0., 9., 5., 8., 0.,\n",
       "       3., 9., 1., 0., 2., 1., 9., 9., 1., 4., 8., 3., 1., 7., 1., 1., 8.,\n",
       "       0., 6., 3., 7., 1., 6., 7., 9., 4., 8., 9., 0., 4., 3., 1., 5., 6.,\n",
       "       6., 1., 1., 1., 1., 1., 5., 2., 8., 0., 6., 9., 3., 9., 0., 9., 1.,\n",
       "       7., 1., 5., 1., 5., 1., 6., 0., 1., 2., 8., 0., 9., 4., 4., 3., 7.,\n",
       "       9., 9., 3., 6., 6., 8., 5., 6., 2., 0., 3., 5., 4., 2., 9., 2., 8.,\n",
       "       2., 5., 5., 1., 6., 0., 8., 5., 1., 9., 7., 5., 5., 0., 5., 0., 3.,\n",
       "       3., 4., 5., 7., 2., 6., 9., 6., 3., 3., 4., 3., 8., 3., 7., 5., 8.,\n",
       "       0., 5., 8., 7., 7., 3., 4., 2., 1., 6., 9., 8., 0., 3., 6., 2., 1.,\n",
       "       9., 4., 6., 4., 1., 0., 6., 0., 2., 0., 4., 7., 7., 6., 1., 2., 0.,\n",
       "       5., 1., 3., 3., 8., 9., 5., 2., 8., 1., 7., 6., 4., 7., 4., 5., 1.,\n",
       "       4., 1., 0., 8., 9., 0., 9., 7., 8., 2., 1., 1., 4., 6., 9., 1., 2.,\n",
       "       5., 4., 4., 5., 2., 3., 0., 6., 7., 4., 0., 1., 5., 6., 0., 7., 2.,\n",
       "       9., 4., 2., 7., 5., 6., 3., 5., 6., 0., 7., 1., 5., 5., 3., 1., 1.,\n",
       "       2., 2., 4., 2., 3., 5., 5., 9., 2., 5., 8., 2., 9., 7., 5., 5., 2.,\n",
       "       2., 2., 7., 1., 0., 4., 8., 9., 8., 9., 0., 9., 7., 8., 4., 8., 6.,\n",
       "       1., 1., 4., 2., 6., 5., 4., 8., 7., 9., 3., 2., 7., 2., 9., 7., 0.,\n",
       "       4., 1., 0., 5., 3., 4., 3., 0., 0., 1., 8., 8., 7., 9., 3., 8., 0.,\n",
       "       0., 5., 7., 0., 8., 2., 8., 3., 9., 4., 7., 9., 0., 4., 0., 7., 4.,\n",
       "       4., 2., 1., 3., 6., 4., 2., 8., 4., 3., 9., 2., 0., 7., 2., 3., 2.,\n",
       "       2., 9., 6., 0., 0., 2., 1., 0., 7., 8., 7., 6., 4., 6., 3., 6., 4.,\n",
       "       5., 8., 1., 3., 9., 4., 1., 3., 9., 3., 0., 4., 5., 9., 0., 7., 2.,\n",
       "       1., 9., 5., 1., 2., 8., 9., 7., 0., 6., 9., 0., 1., 0., 8., 4., 6.,\n",
       "       7., 1., 3., 6., 7., 0., 1., 5., 6., 0., 4., 6., 2., 7., 7., 9., 3.,\n",
       "       7., 6., 2., 0., 9., 2., 9., 3., 7., 1., 1., 4., 8., 8., 2., 7., 0.,\n",
       "       9., 2., 5., 3., 5., 7., 3., 8., 3., 7., 4., 3., 1., 1., 0., 5., 1.,\n",
       "       6., 5., 1., 2., 4., 7., 4., 5., 6., 3., 7., 1., 2., 7., 7., 4., 4.,\n",
       "       8., 1., 4., 2., 6., 3., 8., 9., 8., 2., 8., 0., 4., 4., 3., 4., 8.,\n",
       "       3., 5., 0., 5., 6., 7., 0., 4., 8., 1., 5., 7., 1., 3., 5., 3., 7.,\n",
       "       0., 5., 8., 2., 2., 5., 6., 2., 5., 8., 7., 4., 6., 4., 1., 6., 1.,\n",
       "       7., 1., 9., 9., 3., 1., 5., 0., 3., 7., 7., 6., 9., 9., 0., 3., 1.,\n",
       "       0., 6., 6.])"
      ]
     },
     "execution_count": 20,
     "metadata": {},
     "output_type": "execute_result"
    }
   ],
   "source": [
    "%time clf.predict(X_test)"
   ]
  },
  {
   "cell_type": "code",
   "execution_count": 21,
   "metadata": {},
   "outputs": [
    {
     "name": "stdout",
     "output_type": "stream",
     "text": [
      "CPU times: user 9.74 s, sys: 1.15 s, total: 10.9 s\n",
      "Wall time: 7.68 s\n"
     ]
    },
    {
     "data": {
      "text/plain": [
       "array([9, 6, 7, 3, 1, 1, 9, 9, 5, 1, 4, 9, 8, 2, 4, 0, 5, 6, 5, 7, 0, 6,\n",
       "       4, 4, 8, 4, 2, 8, 3, 2, 3, 5, 3, 6, 4, 9, 4, 7, 6, 9, 6, 0, 6, 2,\n",
       "       7, 5, 1, 1, 1, 6, 9, 3, 1, 2, 2, 5, 4, 4, 6, 8, 2, 7, 2, 3, 1, 2,\n",
       "       8, 4, 3, 0, 3, 7, 5, 6, 0, 6, 1, 5, 0, 8, 2, 7, 3, 1, 5, 1, 7, 6,\n",
       "       3, 3, 3, 2, 9, 8, 8, 8, 2, 9, 0, 1, 9, 4, 7, 9, 4, 3, 3, 3, 7, 2,\n",
       "       5, 7, 7, 7, 6, 8, 4, 9, 3, 1, 0, 4, 1, 5, 4, 4, 7, 1, 8, 3, 4, 8,\n",
       "       9, 1, 5, 2, 7, 6, 2, 9, 1, 2, 0, 3, 6, 5, 0, 8, 6, 3, 7, 2, 3, 5,\n",
       "       9, 7, 7, 2, 6, 4, 5, 1, 3, 2, 8, 4, 2, 9, 6, 2, 0, 7, 8, 0, 8, 5,\n",
       "       9, 6, 3, 9, 8, 6, 0, 9, 5, 8, 0, 3, 9, 1, 0, 2, 1, 9, 9, 1, 4, 8,\n",
       "       3, 1, 7, 1, 1, 8, 0, 6, 3, 7, 1, 6, 7, 9, 4, 8, 9, 0, 4, 3, 1, 5,\n",
       "       6, 6, 1, 1, 1, 1, 1, 5, 2, 8, 0, 6, 9, 3, 9, 0, 9, 1, 7, 1, 5, 1,\n",
       "       5, 1, 6, 0, 1, 2, 8, 0, 9, 4, 4, 3, 7, 9, 9, 3, 6, 6, 8, 5, 6, 2,\n",
       "       0, 3, 5, 4, 2, 9, 2, 8, 2, 5, 5, 1, 6, 0, 8, 5, 1, 9, 7, 5, 5, 0,\n",
       "       5, 0, 3, 3, 4, 5, 7, 2, 6, 9, 6, 3, 3, 4, 3, 8, 3, 7, 5, 8, 0, 5,\n",
       "       8, 7, 7, 3, 4, 2, 1, 6, 9, 8, 0, 3, 6, 2, 1, 9, 4, 6, 4, 1, 0, 6,\n",
       "       0, 2, 0, 4, 7, 7, 6, 1, 2, 0, 5, 1, 3, 3, 8, 9, 5, 2, 8, 1, 7, 6,\n",
       "       4, 7, 4, 5, 1, 4, 1, 0, 8, 9, 0, 9, 7, 8, 2, 1, 1, 4, 6, 9, 1, 2,\n",
       "       5, 4, 4, 5, 2, 3, 0, 6, 7, 4, 0, 1, 5, 6, 0, 7, 2, 9, 4, 2, 7, 5,\n",
       "       6, 3, 5, 6, 0, 7, 1, 5, 5, 3, 1, 1, 2, 2, 4, 2, 3, 5, 5, 9, 2, 5,\n",
       "       8, 2, 9, 7, 5, 5, 2, 2, 2, 7, 1, 0, 4, 8, 9, 8, 9, 0, 9, 7, 8, 4,\n",
       "       8, 6, 1, 1, 4, 2, 6, 5, 4, 8, 7, 9, 3, 2, 7, 2, 9, 7, 0, 4, 1, 0,\n",
       "       5, 3, 4, 3, 0, 0, 1, 8, 8, 7, 9, 3, 8, 0, 0, 5, 7, 0, 8, 2, 8, 3,\n",
       "       9, 4, 7, 9, 0, 4, 0, 7, 4, 4, 2, 1, 3, 6, 4, 2, 8, 4, 3, 9, 2, 0,\n",
       "       7, 2, 3, 2, 2, 9, 6, 0, 0, 2, 1, 0, 7, 8, 7, 6, 4, 6, 3, 6, 4, 5,\n",
       "       8, 1, 3, 9, 4, 1, 3, 9, 3, 0, 4, 5, 9, 0, 7, 2, 1, 9, 5, 1, 2, 8,\n",
       "       9, 7, 0, 6, 9, 0, 1, 0, 8, 4, 6, 7, 1, 3, 6, 7, 0, 1, 5, 6, 0, 4,\n",
       "       6, 2, 7, 7, 9, 3, 7, 6, 2, 0, 9, 2, 9, 3, 7, 1, 1, 4, 8, 8, 2, 7,\n",
       "       0, 9, 2, 5, 3, 5, 7, 3, 8, 3, 7, 4, 3, 1, 1, 0, 5, 1, 6, 5, 1, 2,\n",
       "       4, 7, 4, 5, 6, 3, 7, 1, 2, 7, 7, 4, 4, 8, 1, 4, 2, 6, 3, 8, 9, 8,\n",
       "       2, 8, 0, 4, 4, 3, 4, 8, 3, 5, 0, 5, 6, 7, 0, 4, 8, 1, 5, 7, 1, 3,\n",
       "       5, 3, 7, 0, 5, 8, 2, 2, 5, 6, 2, 5, 8, 7, 4, 6, 4, 1, 6, 1, 7, 1,\n",
       "       9, 9, 3, 1, 5, 0, 3, 7, 7, 6, 9, 9, 0, 3, 1, 0, 6, 6])"
      ]
     },
     "execution_count": 21,
     "metadata": {},
     "output_type": "execute_result"
    }
   ],
   "source": [
    "%time my_clf.predict(X_test)"
   ]
  },
  {
   "cell_type": "code",
   "execution_count": 22,
   "metadata": {},
   "outputs": [
    {
     "name": "stdout",
     "output_type": "stream",
     "text": [
      "CPU times: user 1min 10s, sys: 168 ms, total: 1min 10s\n",
      "Wall time: 1min 10s\n"
     ]
    },
    {
     "data": {
      "text/plain": [
       "array([[0. , 0. , 0. , ..., 0. , 0. , 1. ],\n",
       "       [0. , 0. , 0. , ..., 0. , 0. , 0. ],\n",
       "       [0. , 0. , 0. , ..., 0.5, 0.5, 0. ],\n",
       "       ...,\n",
       "       [1. , 0. , 0. , ..., 0. , 0. , 0. ],\n",
       "       [0. , 0. , 0. , ..., 0. , 0. , 0. ],\n",
       "       [0. , 0. , 0. , ..., 0. , 0. , 0. ]])"
      ]
     },
     "execution_count": 22,
     "metadata": {},
     "output_type": "execute_result"
    }
   ],
   "source": [
    "%time clf.predict_proba(X_test)"
   ]
  },
  {
   "cell_type": "code",
   "execution_count": 23,
   "metadata": {},
   "outputs": [
    {
     "name": "stdout",
     "output_type": "stream",
     "text": [
      "CPU times: user 9.69 s, sys: 1.16 s, total: 10.8 s\n",
      "Wall time: 7.31 s\n"
     ]
    },
    {
     "data": {
      "text/plain": [
       "array([[0. , 0. , 0. , ..., 0. , 0. , 1. ],\n",
       "       [0. , 0. , 0. , ..., 0. , 0. , 0. ],\n",
       "       [0. , 0. , 0. , ..., 0.5, 0.5, 0. ],\n",
       "       ...,\n",
       "       [1. , 0. , 0. , ..., 0. , 0. , 0. ],\n",
       "       [0. , 0. , 0. , ..., 0. , 0. , 0. ],\n",
       "       [0. , 0. , 0. , ..., 0. , 0. , 0. ]])"
      ]
     },
     "execution_count": 23,
     "metadata": {},
     "output_type": "execute_result"
    }
   ],
   "source": [
    "%time my_clf.predict_proba(X_test)"
   ]
  },
  {
   "cell_type": "code",
   "execution_count": 24,
   "metadata": {},
   "outputs": [
    {
     "data": {
      "text/plain": [
       "0.9628571428571429"
      ]
     },
     "execution_count": 24,
     "metadata": {},
     "output_type": "execute_result"
    }
   ],
   "source": [
    "clf.score(X_test, y_test)"
   ]
  },
  {
   "cell_type": "code",
   "execution_count": 25,
   "metadata": {},
   "outputs": [
    {
     "data": {
      "text/plain": [
       "0.9628571428571429"
      ]
     },
     "execution_count": 25,
     "metadata": {},
     "output_type": "execute_result"
    }
   ],
   "source": [
    "my_clf.score(X_test, y_test)"
   ]
  },
  {
   "cell_type": "markdown",
   "metadata": {},
   "source": [
    "## Задание 4"
   ]
  },
  {
   "cell_type": "markdown",
   "metadata": {},
   "source": [
    "### IRIS"
   ]
  },
  {
   "cell_type": "code",
   "execution_count": 26,
   "metadata": {},
   "outputs": [],
   "source": [
    "clf = KNeighborsClassifier(n_neighbors=task_3_best_k, algorithm='kd_tree')\n",
    "my_clf = MyKNeighborsClassifier(n_neighbors=task_3_best_k, algorithm='kd_tree')"
   ]
  },
  {
   "cell_type": "code",
   "execution_count": 27,
   "metadata": {},
   "outputs": [],
   "source": [
    "X_train, X_test, y_train, y_test = train_test_split(iris.data, iris.target,\n",
    "                                                    test_size=0.1,\n",
    "                                                    stratify=iris.target)"
   ]
  },
  {
   "cell_type": "code",
   "execution_count": 28,
   "metadata": {},
   "outputs": [
    {
     "name": "stdout",
     "output_type": "stream",
     "text": [
      "CPU times: user 912 µs, sys: 183 µs, total: 1.09 ms\n",
      "Wall time: 967 µs\n"
     ]
    },
    {
     "data": {
      "text/plain": [
       "KNeighborsClassifier(algorithm='kd_tree', leaf_size=30, metric='minkowski',\n",
       "           metric_params=None, n_jobs=None, n_neighbors=5, p=2,\n",
       "           weights='uniform')"
      ]
     },
     "execution_count": 28,
     "metadata": {},
     "output_type": "execute_result"
    }
   ],
   "source": [
    "%time clf.fit(X_train, y_train)"
   ]
  },
  {
   "cell_type": "code",
   "execution_count": 29,
   "metadata": {},
   "outputs": [
    {
     "name": "stdout",
     "output_type": "stream",
     "text": [
      "CPU times: user 265 µs, sys: 41 µs, total: 306 µs\n",
      "Wall time: 296 µs\n"
     ]
    }
   ],
   "source": [
    "%time my_clf.fit(X_train, y_train)"
   ]
  },
  {
   "cell_type": "code",
   "execution_count": 30,
   "metadata": {},
   "outputs": [
    {
     "name": "stdout",
     "output_type": "stream",
     "text": [
      "CPU times: user 1.3 ms, sys: 187 µs, total: 1.49 ms\n",
      "Wall time: 1.33 ms\n"
     ]
    },
    {
     "data": {
      "text/plain": [
       "array([2, 2, 0, 2, 0, 0, 2, 1, 0, 2, 1, 0, 1, 1, 1])"
      ]
     },
     "execution_count": 30,
     "metadata": {},
     "output_type": "execute_result"
    }
   ],
   "source": [
    "%time clf.predict(X_test)"
   ]
  },
  {
   "cell_type": "code",
   "execution_count": 31,
   "metadata": {},
   "outputs": [
    {
     "name": "stdout",
     "output_type": "stream",
     "text": [
      "CPU times: user 642 µs, sys: 89 µs, total: 731 µs\n",
      "Wall time: 642 µs\n"
     ]
    },
    {
     "data": {
      "text/plain": [
       "array([2, 2, 0, 2, 0, 0, 2, 1, 0, 2, 1, 0, 1, 1, 1])"
      ]
     },
     "execution_count": 31,
     "metadata": {},
     "output_type": "execute_result"
    }
   ],
   "source": [
    "%time my_clf.predict(X_test)"
   ]
  },
  {
   "cell_type": "code",
   "execution_count": 32,
   "metadata": {},
   "outputs": [
    {
     "name": "stdout",
     "output_type": "stream",
     "text": [
      "CPU times: user 1.13 ms, sys: 239 µs, total: 1.37 ms\n",
      "Wall time: 1.12 ms\n"
     ]
    },
    {
     "data": {
      "text/plain": [
       "array([[0. , 0. , 1. ],\n",
       "       [0. , 0. , 1. ],\n",
       "       [1. , 0. , 0. ],\n",
       "       [0. , 0. , 1. ],\n",
       "       [1. , 0. , 0. ],\n",
       "       [1. , 0. , 0. ],\n",
       "       [0. , 0.4, 0.6],\n",
       "       [0. , 1. , 0. ],\n",
       "       [1. , 0. , 0. ],\n",
       "       [0. , 0. , 1. ],\n",
       "       [0. , 1. , 0. ],\n",
       "       [1. , 0. , 0. ],\n",
       "       [0. , 1. , 0. ],\n",
       "       [0. , 0.6, 0.4],\n",
       "       [0. , 1. , 0. ]])"
      ]
     },
     "execution_count": 32,
     "metadata": {},
     "output_type": "execute_result"
    }
   ],
   "source": [
    "%time clf.predict_proba(X_test)"
   ]
  },
  {
   "cell_type": "code",
   "execution_count": 33,
   "metadata": {},
   "outputs": [
    {
     "name": "stdout",
     "output_type": "stream",
     "text": [
      "CPU times: user 507 µs, sys: 62 µs, total: 569 µs\n",
      "Wall time: 543 µs\n"
     ]
    },
    {
     "data": {
      "text/plain": [
       "array([[0. , 0. , 1. ],\n",
       "       [0. , 0. , 1. ],\n",
       "       [1. , 0. , 0. ],\n",
       "       [0. , 0. , 1. ],\n",
       "       [1. , 0. , 0. ],\n",
       "       [1. , 0. , 0. ],\n",
       "       [0. , 0.4, 0.6],\n",
       "       [0. , 1. , 0. ],\n",
       "       [1. , 0. , 0. ],\n",
       "       [0. , 0. , 1. ],\n",
       "       [0. , 1. , 0. ],\n",
       "       [1. , 0. , 0. ],\n",
       "       [0. , 1. , 0. ],\n",
       "       [0. , 0.6, 0.4],\n",
       "       [0. , 1. , 0. ]])"
      ]
     },
     "execution_count": 33,
     "metadata": {},
     "output_type": "execute_result"
    }
   ],
   "source": [
    "%time my_clf.predict_proba(X_test)"
   ]
  },
  {
   "cell_type": "code",
   "execution_count": 34,
   "metadata": {},
   "outputs": [
    {
     "data": {
      "text/plain": [
       "0.8666666666666667"
      ]
     },
     "execution_count": 34,
     "metadata": {},
     "output_type": "execute_result"
    }
   ],
   "source": [
    "clf.score(X_test, y_test)"
   ]
  },
  {
   "cell_type": "code",
   "execution_count": 35,
   "metadata": {},
   "outputs": [
    {
     "data": {
      "text/plain": [
       "0.8666666666666667"
      ]
     },
     "execution_count": 35,
     "metadata": {},
     "output_type": "execute_result"
    }
   ],
   "source": [
    "my_clf.score(X_test, y_test)"
   ]
  },
  {
   "cell_type": "markdown",
   "metadata": {},
   "source": [
    "### MNIST"
   ]
  },
  {
   "cell_type": "code",
   "execution_count": 36,
   "metadata": {},
   "outputs": [],
   "source": [
    "clf = KNeighborsClassifier(n_neighbors=task_3_best_k, algorithm='kd_tree')\n",
    "my_clf = MyKNeighborsClassifier(n_neighbors=task_3_best_k, algorithm='kd_tree')"
   ]
  },
  {
   "cell_type": "code",
   "execution_count": 37,
   "metadata": {},
   "outputs": [],
   "source": [
    "X_train, X_test, y_train, y_test = train_test_split(mnist.data, mnist.target,\n",
    "                                                    test_size=0.01,\n",
    "                                                    stratify=mnist.target)"
   ]
  },
  {
   "cell_type": "code",
   "execution_count": 38,
   "metadata": {},
   "outputs": [
    {
     "name": "stdout",
     "output_type": "stream",
     "text": [
      "CPU times: user 53.1 s, sys: 386 ms, total: 53.5 s\n",
      "Wall time: 53.3 s\n"
     ]
    },
    {
     "data": {
      "text/plain": [
       "KNeighborsClassifier(algorithm='kd_tree', leaf_size=30, metric='minkowski',\n",
       "           metric_params=None, n_jobs=None, n_neighbors=5, p=2,\n",
       "           weights='uniform')"
      ]
     },
     "execution_count": 38,
     "metadata": {},
     "output_type": "execute_result"
    }
   ],
   "source": [
    "%time clf.fit(X_train, y_train)"
   ]
  },
  {
   "cell_type": "code",
   "execution_count": 39,
   "metadata": {},
   "outputs": [
    {
     "name": "stdout",
     "output_type": "stream",
     "text": [
      "CPU times: user 53.1 s, sys: 518 ms, total: 53.7 s\n",
      "Wall time: 53.5 s\n"
     ]
    }
   ],
   "source": [
    "%time my_clf.fit(X_train, y_train)"
   ]
  },
  {
   "cell_type": "code",
   "execution_count": 40,
   "metadata": {},
   "outputs": [
    {
     "name": "stdout",
     "output_type": "stream",
     "text": [
      "CPU times: user 1min 8s, sys: 87.2 ms, total: 1min 8s\n",
      "Wall time: 1min 8s\n"
     ]
    },
    {
     "data": {
      "text/plain": [
       "array([5., 9., 6., 5., 7., 6., 3., 0., 8., 2., 5., 8., 7., 1., 9., 3., 4.,\n",
       "       3., 3., 7., 1., 2., 2., 4., 5., 3., 4., 9., 9., 8., 9., 0., 2., 1.,\n",
       "       0., 1., 4., 2., 8., 9., 3., 1., 2., 4., 9., 6., 0., 0., 1., 5., 7.,\n",
       "       9., 2., 1., 2., 1., 9., 5., 1., 1., 3., 1., 3., 1., 2., 5., 3., 7.,\n",
       "       8., 3., 2., 8., 4., 3., 6., 2., 4., 9., 6., 2., 0., 3., 3., 0., 4.,\n",
       "       7., 7., 6., 2., 4., 2., 1., 1., 7., 8., 5., 2., 9., 5., 2., 1., 9.,\n",
       "       2., 6., 6., 4., 2., 4., 3., 4., 9., 6., 9., 3., 0., 1., 3., 6., 3.,\n",
       "       4., 2., 0., 0., 2., 8., 6., 1., 5., 3., 7., 6., 8., 6., 1., 9., 2.,\n",
       "       2., 9., 1., 9., 5., 6., 6., 2., 5., 7., 6., 9., 9., 3., 9., 9., 2.,\n",
       "       0., 0., 6., 4., 2., 0., 9., 6., 1., 6., 4., 3., 1., 1., 9., 0., 4.,\n",
       "       5., 3., 0., 7., 1., 6., 8., 8., 8., 6., 5., 9., 3., 2., 5., 4., 1.,\n",
       "       7., 6., 6., 0., 8., 2., 5., 2., 3., 9., 4., 3., 1., 4., 4., 7., 2.,\n",
       "       9., 1., 9., 5., 6., 3., 4., 1., 2., 7., 5., 5., 1., 1., 0., 3., 8.,\n",
       "       7., 6., 8., 5., 0., 5., 8., 8., 2., 3., 3., 2., 5., 6., 6., 9., 3.,\n",
       "       6., 4., 5., 3., 7., 2., 0., 1., 7., 8., 7., 8., 3., 0., 4., 9., 1.,\n",
       "       3., 1., 7., 7., 4., 0., 0., 1., 9., 3., 1., 4., 0., 8., 9., 1., 5.,\n",
       "       5., 6., 1., 4., 0., 1., 7., 4., 6., 5., 7., 0., 2., 9., 4., 0., 9.,\n",
       "       9., 6., 3., 9., 4., 0., 5., 6., 0., 7., 9., 5., 4., 7., 3., 4., 9.,\n",
       "       0., 8., 4., 0., 4., 3., 8., 2., 0., 0., 7., 7., 6., 0., 5., 9., 5.,\n",
       "       9., 4., 1., 3., 1., 4., 1., 8., 8., 6., 2., 2., 4., 4., 5., 0., 8.,\n",
       "       7., 7., 7., 4., 2., 9., 1., 1., 3., 7., 4., 0., 5., 6., 2., 9., 4.,\n",
       "       1., 9., 2., 6., 1., 9., 5., 6., 6., 9., 2., 1., 4., 9., 2., 3., 9.,\n",
       "       2., 3., 9., 8., 7., 6., 0., 5., 8., 5., 8., 2., 1., 9., 5., 1., 1.,\n",
       "       2., 1., 5., 8., 1., 7., 1., 4., 3., 8., 5., 2., 3., 7., 1., 1., 3.,\n",
       "       4., 5., 9., 7., 7., 0., 7., 6., 5., 4., 7., 2., 1., 5., 6., 7., 0.,\n",
       "       7., 4., 6., 0., 7., 9., 7., 2., 4., 1., 7., 1., 7., 1., 9., 2., 8.,\n",
       "       6., 7., 6., 4., 2., 9., 1., 3., 6., 7., 6., 4., 6., 4., 1., 3., 6.,\n",
       "       0., 5., 4., 9., 8., 7., 6., 4., 5., 8., 3., 5., 3., 5., 9., 1., 8.,\n",
       "       8., 7., 8., 9., 0., 7., 1., 8., 2., 8., 8., 8., 0., 6., 7., 8., 5.,\n",
       "       6., 7., 7., 6., 3., 8., 3., 7., 6., 1., 0., 9., 3., 7., 7., 1., 5.,\n",
       "       8., 2., 3., 0., 2., 7., 1., 3., 1., 9., 0., 5., 0., 4., 3., 2., 0.,\n",
       "       0., 2., 8., 2., 5., 3., 5., 8., 0., 4., 4., 9., 3., 5., 6., 2., 1.,\n",
       "       1., 2., 1., 5., 9., 6., 8., 0., 9., 8., 1., 8., 0., 8., 4., 0., 0.,\n",
       "       6., 7., 4., 2., 1., 4., 1., 8., 6., 6., 6., 5., 5., 5., 9., 7., 8.,\n",
       "       4., 0., 5., 7., 2., 4., 2., 9., 2., 0., 0., 6., 5., 1., 8., 5., 2.,\n",
       "       3., 2., 4., 0., 4., 7., 2., 5., 4., 7., 7., 0., 0., 1., 1., 9., 3.,\n",
       "       5., 8., 1., 8., 9., 7., 2., 7., 0., 9., 2., 0., 4., 1., 5., 1., 0.,\n",
       "       6., 8., 0., 7., 0., 2., 0., 8., 2., 8., 2., 3., 1., 3., 7., 8., 4.,\n",
       "       8., 6., 8., 3., 1., 3., 3., 8., 6., 6., 6., 2., 3., 7., 9., 3., 0.,\n",
       "       3., 7., 1., 4., 4., 9., 0., 6., 5., 4., 7., 5., 6., 3., 8., 7., 0.,\n",
       "       6., 5., 6., 7., 8., 8., 1., 9., 1., 4., 4., 1., 3., 2., 1., 9., 7.,\n",
       "       0., 6., 0.])"
      ]
     },
     "execution_count": 40,
     "metadata": {},
     "output_type": "execute_result"
    }
   ],
   "source": [
    "%time clf.predict(X_test)"
   ]
  },
  {
   "cell_type": "code",
   "execution_count": 41,
   "metadata": {},
   "outputs": [
    {
     "name": "stdout",
     "output_type": "stream",
     "text": [
      "CPU times: user 55.8 s, sys: 47.2 ms, total: 55.9 s\n",
      "Wall time: 55.9 s\n"
     ]
    },
    {
     "data": {
      "text/plain": [
       "array([5, 9, 6, 5, 7, 6, 3, 0, 8, 2, 5, 8, 7, 1, 9, 3, 4, 3, 3, 7, 1, 2,\n",
       "       2, 4, 5, 3, 4, 9, 9, 8, 9, 0, 2, 1, 0, 1, 4, 2, 8, 9, 3, 1, 2, 4,\n",
       "       9, 6, 0, 0, 1, 5, 7, 9, 2, 1, 2, 1, 9, 5, 1, 1, 3, 1, 3, 1, 2, 5,\n",
       "       3, 7, 8, 3, 2, 8, 4, 3, 6, 2, 4, 9, 6, 2, 0, 3, 3, 0, 4, 7, 7, 6,\n",
       "       2, 4, 2, 1, 1, 7, 8, 5, 2, 9, 5, 2, 1, 9, 2, 6, 6, 4, 2, 4, 3, 4,\n",
       "       9, 6, 9, 3, 0, 1, 3, 6, 3, 4, 2, 0, 0, 2, 8, 6, 1, 5, 3, 7, 6, 8,\n",
       "       6, 1, 9, 2, 2, 9, 1, 9, 5, 6, 6, 2, 5, 7, 6, 9, 9, 3, 9, 9, 2, 0,\n",
       "       0, 6, 4, 2, 0, 9, 6, 1, 6, 4, 3, 1, 1, 9, 0, 4, 5, 3, 0, 7, 1, 6,\n",
       "       8, 8, 8, 6, 5, 9, 3, 2, 5, 4, 1, 7, 6, 6, 0, 8, 2, 5, 2, 3, 9, 4,\n",
       "       3, 1, 4, 4, 7, 2, 9, 1, 9, 5, 6, 3, 4, 1, 2, 7, 5, 5, 1, 1, 0, 3,\n",
       "       8, 7, 6, 8, 5, 0, 5, 8, 8, 2, 3, 3, 2, 5, 6, 6, 9, 3, 6, 4, 5, 3,\n",
       "       7, 2, 0, 1, 7, 8, 7, 8, 3, 0, 4, 9, 1, 3, 1, 7, 7, 4, 0, 0, 1, 9,\n",
       "       3, 1, 4, 0, 8, 9, 1, 5, 5, 6, 1, 4, 0, 1, 7, 4, 6, 5, 7, 0, 2, 9,\n",
       "       4, 0, 9, 9, 6, 3, 9, 4, 0, 5, 6, 0, 7, 9, 5, 4, 7, 3, 4, 9, 0, 8,\n",
       "       4, 0, 4, 3, 8, 2, 0, 0, 7, 7, 6, 0, 5, 9, 5, 9, 4, 1, 3, 1, 4, 1,\n",
       "       8, 8, 6, 2, 2, 4, 4, 5, 0, 8, 7, 7, 7, 4, 2, 9, 1, 1, 3, 7, 4, 0,\n",
       "       5, 6, 2, 9, 4, 1, 9, 2, 6, 1, 9, 5, 6, 6, 9, 2, 1, 4, 9, 2, 3, 9,\n",
       "       2, 3, 9, 8, 7, 6, 0, 5, 8, 5, 8, 2, 1, 9, 5, 1, 1, 2, 1, 5, 8, 1,\n",
       "       7, 1, 4, 3, 8, 5, 2, 3, 7, 1, 1, 3, 4, 5, 9, 7, 7, 0, 7, 6, 5, 4,\n",
       "       7, 2, 1, 5, 6, 7, 0, 7, 4, 6, 0, 7, 9, 7, 2, 4, 1, 7, 1, 7, 1, 9,\n",
       "       2, 8, 6, 7, 6, 4, 2, 9, 1, 3, 6, 7, 6, 4, 6, 4, 1, 3, 6, 0, 5, 4,\n",
       "       9, 8, 7, 6, 4, 5, 8, 3, 5, 3, 5, 9, 1, 8, 8, 7, 8, 9, 0, 7, 1, 8,\n",
       "       2, 8, 8, 8, 0, 6, 7, 8, 5, 6, 7, 7, 6, 3, 8, 3, 7, 6, 1, 0, 9, 3,\n",
       "       7, 7, 1, 5, 8, 2, 3, 0, 2, 7, 1, 3, 1, 9, 0, 5, 0, 4, 3, 2, 0, 0,\n",
       "       2, 8, 2, 5, 3, 5, 8, 0, 4, 4, 9, 3, 5, 6, 2, 1, 1, 2, 1, 5, 9, 6,\n",
       "       8, 0, 9, 8, 1, 8, 0, 8, 4, 0, 0, 6, 7, 4, 2, 1, 4, 1, 8, 6, 6, 6,\n",
       "       5, 5, 5, 9, 7, 8, 4, 0, 5, 7, 2, 4, 2, 9, 2, 0, 0, 6, 5, 1, 8, 5,\n",
       "       2, 3, 2, 4, 0, 4, 7, 2, 5, 4, 7, 7, 0, 0, 1, 1, 9, 3, 5, 8, 1, 8,\n",
       "       9, 7, 2, 7, 0, 9, 2, 0, 4, 1, 5, 1, 0, 6, 8, 0, 7, 0, 2, 0, 8, 2,\n",
       "       8, 2, 3, 1, 3, 7, 8, 4, 8, 6, 8, 3, 1, 3, 3, 8, 6, 6, 6, 2, 3, 7,\n",
       "       9, 3, 0, 3, 7, 1, 4, 4, 9, 0, 6, 5, 4, 7, 5, 6, 3, 8, 7, 0, 6, 5,\n",
       "       6, 7, 8, 8, 1, 9, 1, 4, 4, 1, 3, 2, 1, 9, 7, 0, 6, 0])"
      ]
     },
     "execution_count": 41,
     "metadata": {},
     "output_type": "execute_result"
    }
   ],
   "source": [
    "%time my_clf.predict(X_test)"
   ]
  },
  {
   "cell_type": "code",
   "execution_count": 42,
   "metadata": {},
   "outputs": [
    {
     "name": "stdout",
     "output_type": "stream",
     "text": [
      "CPU times: user 1min 8s, sys: 78.2 ms, total: 1min 8s\n",
      "Wall time: 1min 8s\n"
     ]
    },
    {
     "data": {
      "text/plain": [
       "array([[0. , 0. , 0. , ..., 0. , 0. , 0. ],\n",
       "       [0.2, 0. , 0. , ..., 0. , 0. , 0.8],\n",
       "       [0. , 0. , 0. , ..., 0. , 0. , 0. ],\n",
       "       ...,\n",
       "       [1. , 0. , 0. , ..., 0. , 0. , 0. ],\n",
       "       [0. , 0. , 0. , ..., 0. , 0. , 0. ],\n",
       "       [0.8, 0. , 0. , ..., 0. , 0.2, 0. ]])"
      ]
     },
     "execution_count": 42,
     "metadata": {},
     "output_type": "execute_result"
    }
   ],
   "source": [
    "%time clf.predict_proba(X_test)"
   ]
  },
  {
   "cell_type": "code",
   "execution_count": 43,
   "metadata": {},
   "outputs": [
    {
     "name": "stdout",
     "output_type": "stream",
     "text": [
      "CPU times: user 55.9 s, sys: 63.3 ms, total: 55.9 s\n",
      "Wall time: 55.9 s\n"
     ]
    },
    {
     "data": {
      "text/plain": [
       "array([[0. , 0. , 0. , ..., 0. , 0. , 0. ],\n",
       "       [0.2, 0. , 0. , ..., 0. , 0. , 0.8],\n",
       "       [0. , 0. , 0. , ..., 0. , 0. , 0. ],\n",
       "       ...,\n",
       "       [1. , 0. , 0. , ..., 0. , 0. , 0. ],\n",
       "       [0. , 0. , 0. , ..., 0. , 0. , 0. ],\n",
       "       [0.8, 0. , 0. , ..., 0. , 0.2, 0. ]])"
      ]
     },
     "execution_count": 43,
     "metadata": {},
     "output_type": "execute_result"
    }
   ],
   "source": [
    "%time my_clf.predict_proba(X_test)"
   ]
  },
  {
   "cell_type": "code",
   "execution_count": 44,
   "metadata": {},
   "outputs": [
    {
     "data": {
      "text/plain": [
       "0.97"
      ]
     },
     "execution_count": 44,
     "metadata": {},
     "output_type": "execute_result"
    }
   ],
   "source": [
    "clf.score(X_test, y_test)"
   ]
  },
  {
   "cell_type": "code",
   "execution_count": 45,
   "metadata": {},
   "outputs": [
    {
     "data": {
      "text/plain": [
       "0.97"
      ]
     },
     "execution_count": 45,
     "metadata": {},
     "output_type": "execute_result"
    }
   ],
   "source": [
    "my_clf.score(X_test, y_test)"
   ]
  },
  {
   "cell_type": "markdown",
   "metadata": {},
   "source": [
    "## Задание 5"
   ]
  },
  {
   "cell_type": "markdown",
   "metadata": {},
   "source": [
    "* seaborn — библиотека для визуализации данных, основана на matplotlib\n",
    "* matplotlib — библиотека для рисования графиков\n",
    "* train_test_split — разбивает данные на две части: тренировочную и тестовую\n",
    "* Pipeline (from sklearn.pipeline import Piьpeline) — для последовательного преобразования данных\n",
    "* StandardScaler (from sklearn.preprocessing import StandardScaler) — стандартизует данные, обнуляя среднее и масштабирует до единичной дисперсии\n",
    "* ClassifierMixin — миксин для всех классификаторов в sklearn\n",
    "* NeighborsBase — базовый класс для всех моделей, работающих с ближайшими соседями\n",
    "* KNeighborsMixin — миксин для всех моделей, работающих с k ближайшими соседями\n",
    "* SupervisedIntegerMixin — миксин для всех моделей, которые обучаются с использованием X в качестве данных обучения и y в качестве значений целевой переменной"
   ]
  }
 ],
 "metadata": {
  "kernelspec": {
   "display_name": "Python 3",
   "language": "python",
   "name": "python3"
  },
  "language_info": {
   "codemirror_mode": {
    "name": "ipython",
    "version": 3
   },
   "file_extension": ".py",
   "mimetype": "text/x-python",
   "name": "python",
   "nbconvert_exporter": "python",
   "pygments_lexer": "ipython3",
   "version": "3.7.0"
  }
 },
 "nbformat": 4,
 "nbformat_minor": 2
}

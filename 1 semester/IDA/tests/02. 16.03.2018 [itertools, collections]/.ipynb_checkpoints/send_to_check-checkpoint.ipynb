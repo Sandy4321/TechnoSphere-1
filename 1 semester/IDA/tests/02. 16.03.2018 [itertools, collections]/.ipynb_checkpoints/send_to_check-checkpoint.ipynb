{
 "cells": [
  {
   "cell_type": "code",
   "execution_count": null,
   "metadata": {
    "collapsed": true
   },
   "outputs": [],
   "source": [
    "import requests\n",
    "import json"
   ]
  },
  {
   "cell_type": "code",
   "execution_count": 2,
   "metadata": {},
   "outputs": [],
   "source": [
    "ip = '35.190.208.167'\n",
    "user = 'Chernyshev'\n",
    "filename = 'sample_submission.py'\n",
    "\n",
    "with open(filename, 'rb') as f:\n",
    "        resp = requests.post('http://{}:5000/{}'.format(ip, user),\n",
    "                             files={'file': f})"
   ]
  },
  {
   "cell_type": "code",
   "execution_count": null,
   "metadata": {
    "collapsed": true
   },
   "outputs": [],
   "source": [
    "print(json.loads(resp.text))"
   ]
  },
  {
   "cell_type": "code",
   "execution_count": null,
   "metadata": {
    "collapsed": true
   },
   "outputs": [],
   "source": [
    "# echo -e $(curl -i -X POST -F \"file=@./submission.py\" http://35.190.208.167:5000/<surname>)\n",
    "\n",
    "# <surname> - поменять надо\n",
    "# а еще название файла можно поменять, который отправляешь"
   ]
  },
  {
   "cell_type": "code",
   "execution_count": null,
   "metadata": {
    "collapsed": true
   },
   "outputs": [],
   "source": []
  }
 ],
 "metadata": {
  "kernelspec": {
   "display_name": "Python 2",
   "language": "python",
   "name": "python2"
  },
  "language_info": {
   "codemirror_mode": {
    "name": "ipython",
    "version": 2
   },
   "file_extension": ".py",
   "mimetype": "text/x-python",
   "name": "python",
   "nbconvert_exporter": "python",
   "pygments_lexer": "ipython2",
   "version": "2.7.14"
  }
 },
 "nbformat": 4,
 "nbformat_minor": 2
}

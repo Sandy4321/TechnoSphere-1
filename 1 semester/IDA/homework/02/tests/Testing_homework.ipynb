{
 "cells": [
  {
   "cell_type": "code",
   "execution_count": 1,
   "metadata": {},
   "outputs": [],
   "source": [
    "# python 2\n",
    "import cPickle as pickle\n",
    "# import pickle\n",
    "import numpy as np\n",
    "\n",
    "%load_ext autoreload\n",
    "%autoreload 2"
   ]
  },
  {
   "cell_type": "markdown",
   "metadata": {
    "collapsed": true
   },
   "source": [
    "## Compile cython functions"
   ]
  },
  {
   "cell_type": "code",
   "execution_count": 3,
   "metadata": {},
   "outputs": [
    {
     "name": "stdout",
     "output_type": "stream",
     "text": [
      "rm: cython_functions.c: No such file or directory\n",
      "rm: cython_functions.so: No such file or directory\n",
      "rm: build: No such file or directory\n"
     ]
    }
   ],
   "source": [
    "!rm cython_functions.c\n",
    "!rm cython_functions.so\n",
    "!rm -r build"
   ]
  },
  {
   "cell_type": "code",
   "execution_count": 3,
   "metadata": {
    "scrolled": true
   },
   "outputs": [
    {
     "name": "stdout",
     "output_type": "stream",
     "text": [
      "running build_ext\n",
      "cythoning cython_functions.pyx to cython_functions.c\n",
      "building 'cython_functions' extension\n",
      "creating build\n",
      "creating build/temp.macosx-10.6-x86_64-2.7\n",
      "gcc -fno-strict-aliasing -I/Users/Alexander/anaconda2/include -arch x86_64 -DNDEBUG -g -fwrapv -O3 -Wall -Wstrict-prototypes -I/Users/Alexander/anaconda2/lib/python2.7/site-packages/numpy/core/include -I/Users/Alexander/anaconda2/include/python2.7 -c cython_functions.c -o build/temp.macosx-10.6-x86_64-2.7/cython_functions.o\n",
      "In file included from cython_functions.c:525:\n",
      "In file included from /Users/Alexander/anaconda2/lib/python2.7/site-packages/numpy/core/include/numpy/arrayobject.h:4:\n",
      "In file included from /Users/Alexander/anaconda2/lib/python2.7/site-packages/numpy/core/include/numpy/ndarrayobject.h:18:\n",
      "In file included from /Users/Alexander/anaconda2/lib/python2.7/site-packages/numpy/core/include/numpy/ndarraytypes.h:1809:\n",
      "\u001b[1m/Users/Alexander/anaconda2/lib/python2.7/site-packages/numpy/core/include/numpy/npy_1_7_deprecated_api.h:15:2: \u001b[0m\u001b[0;1;35mwarning: \u001b[0m\u001b[1m\n",
      "      \"Using deprecated NumPy API, disable it by \"          \"#defining\n",
      "      NPY_NO_DEPRECATED_API NPY_1_7_API_VERSION\" [-W#warnings]\u001b[0m\n",
      "#warning \"Using deprecated NumPy API, disable it by \" \\\n",
      "\u001b[0;1;32m ^\n",
      "\u001b[0m1 warning generated.\n",
      "creating build/lib.macosx-10.6-x86_64-2.7\n",
      "gcc -bundle -undefined dynamic_lookup -L/Users/Alexander/anaconda2/lib -arch x86_64 -arch x86_64 build/temp.macosx-10.6-x86_64-2.7/cython_functions.o -L/Users/Alexander/anaconda2/lib -o build/lib.macosx-10.6-x86_64-2.7/cython_functions.so\n",
      "copying build/lib.macosx-10.6-x86_64-2.7/cython_functions.so -> \n"
     ]
    }
   ],
   "source": [
    "!python cython_setup.py build_ext --inplace"
   ]
  },
  {
   "cell_type": "markdown",
   "metadata": {},
   "source": [
    "## Matrix multipliaction"
   ]
  },
  {
   "cell_type": "code",
   "execution_count": 4,
   "metadata": {},
   "outputs": [],
   "source": [
    "# for python3 add . before filename\n",
    "# from .numpy_functions import matrix_multiply\n",
    "\n",
    "# change filename to check other functions !!!\n",
    "# from numpy_functions import matrix_multiply\n",
    "# from numba_functions import matrix_multiply\n",
    "from cython_functions import matrix_multiply"
   ]
  },
  {
   "cell_type": "code",
   "execution_count": 5,
   "metadata": {},
   "outputs": [],
   "source": [
    "# python 3\n",
    "# with open('matrix_mult_tests.pickle', 'rb') as f:\n",
    "#     testing_data = pickle.load(f, encoding='bytes')\n",
    "\n",
    "# python 2\n",
    "with open('matrix_mult_tests.pickle') as f:\n",
    "    testing_data = pickle.load(f)"
   ]
  },
  {
   "cell_type": "markdown",
   "metadata": {},
   "source": [
    "#### Correctness test"
   ]
  },
  {
   "cell_type": "code",
   "execution_count": 6,
   "metadata": {},
   "outputs": [],
   "source": [
    "for i, (X, Y, out) in enumerate(testing_data):\n",
    "    your_out = matrix_multiply(X, Y)\n",
    "    assert np.allclose(your_out, out), \\\n",
    "           \"\"\"current test: {}\n",
    "                your shape: {}, shape should be: {}\n",
    "                mean absolute diff: {}\n",
    "           \"\"\".format(i, your_out.shape,out.shape,\n",
    "                      np.mean(np.abs(your_out - out)))"
   ]
  },
  {
   "cell_type": "markdown",
   "metadata": {},
   "source": [
    "#### Speed test"
   ]
  },
  {
   "cell_type": "code",
   "execution_count": 7,
   "metadata": {},
   "outputs": [],
   "source": [
    "X = np.random.rand(1000, 100)\n",
    "Y = np.random.rand(100, 500)"
   ]
  },
  {
   "cell_type": "code",
   "execution_count": 8,
   "metadata": {},
   "outputs": [
    {
     "name": "stdout",
     "output_type": "stream",
     "text": [
      "CPU times: user 63.3 ms, sys: 2.8 ms, total: 66.1 ms\n",
      "Wall time: 66 ms\n"
     ]
    }
   ],
   "source": [
    "%%time\n",
    "# on my pc numba is 10-20 times slower than numpy\n",
    "# and cython is 2-3 times slower than numba\n",
    "_ = matrix_multiply(X, Y)"
   ]
  },
  {
   "cell_type": "markdown",
   "metadata": {},
   "source": [
    "## Row mean"
   ]
  },
  {
   "cell_type": "code",
   "execution_count": 9,
   "metadata": {},
   "outputs": [],
   "source": [
    "# for python3 add . before filename\n",
    "# from .numpy_functions import matrix_rowmean\n",
    "\n",
    "# change filename to check other functions !!!\n",
    "# from numpy_functions import matrix_rowmean\n",
    "# from numba_functions import matrix_rowmean\n",
    "from cython_functions import matrix_rowmean"
   ]
  },
  {
   "cell_type": "markdown",
   "metadata": {},
   "source": [
    "### Correctness test"
   ]
  },
  {
   "cell_type": "code",
   "execution_count": 10,
   "metadata": {},
   "outputs": [],
   "source": [
    "# python 3\n",
    "# with open('row_mean_tests.pickle', 'rb') as f:\n",
    "#     testing_data = pickle.load(f, encoding='bytes')\n",
    "\n",
    "\n",
    "# python 2\n",
    "with open('row_mean_tests.pickle') as f:\n",
    "    testing_data = pickle.load(f)"
   ]
  },
  {
   "cell_type": "code",
   "execution_count": 11,
   "metadata": {
    "scrolled": true
   },
   "outputs": [],
   "source": [
    "for i, (X, weights, out) in enumerate(testing_data):\n",
    "    your_out = matrix_rowmean(X, weights)\n",
    "    assert np.allclose(your_out, out), \\\n",
    "           \"\"\"current test: {}\n",
    "                your shape: {}, shape should be: {}\n",
    "                mean absolute diff: {}\n",
    "           \"\"\".format(i, your_out.shape,out.shape,\n",
    "\n",
    "                      np.mean(np.abs(your_out - out)))"
   ]
  },
  {
   "cell_type": "markdown",
   "metadata": {},
   "source": [
    "### Speed test"
   ]
  },
  {
   "cell_type": "code",
   "execution_count": 12,
   "metadata": {},
   "outputs": [],
   "source": [
    "X = np.random.rand(1000, 100)\n",
    "weights = np.random.rand(100)"
   ]
  },
  {
   "cell_type": "code",
   "execution_count": 13,
   "metadata": {},
   "outputs": [
    {
     "name": "stdout",
     "output_type": "stream",
     "text": [
      "CPU times: user 113 µs, sys: 7 µs, total: 120 µs\n",
      "Wall time: 122 µs\n"
     ]
    }
   ],
   "source": [
    "%%time\n",
    "_ = matrix_rowmean(X, weights)"
   ]
  },
  {
   "cell_type": "markdown",
   "metadata": {},
   "source": [
    "## Cosine similarity"
   ]
  },
  {
   "cell_type": "code",
   "execution_count": 14,
   "metadata": {},
   "outputs": [],
   "source": [
    "# for python3 add . before filename\n",
    "# from .numpy_functions import cosine_similarity\n",
    "\n",
    "# change filename to check other functions !!!\n",
    "# from numpy_functions import cosine_similarity\n",
    "# from numba_functions import cosine_similarity\n",
    "from cython_functions import cosine_similarity"
   ]
  },
  {
   "cell_type": "code",
   "execution_count": 15,
   "metadata": {},
   "outputs": [],
   "source": [
    "# python 3\n",
    "# with open('cosine_similarity_tests.pickle', 'rb') as f:\n",
    "#     testing_data = pickle.load(f, encoding='bytes')\n",
    "\n",
    "\n",
    "# python 2\n",
    "with open('cosine_similarity_tests.pickle') as f:\n",
    "    testing_data = pickle.load(f)"
   ]
  },
  {
   "cell_type": "markdown",
   "metadata": {},
   "source": [
    "### Correctness test"
   ]
  },
  {
   "cell_type": "code",
   "execution_count": 16,
   "metadata": {},
   "outputs": [],
   "source": [
    "for i, (X, with_mean, with_std, top_n, out) in enumerate(testing_data):\n",
    "    your_out = cosine_similarity(X, top_n, bool(with_mean), bool(with_std))\n",
    "    assert np.allclose(your_out, out), \\\n",
    "           \"\"\"current test: {}\n",
    "                your shape: {}, shape should be: {}\n",
    "                mean absolute diff: {}\n",
    "           \"\"\".format(i, your_out.shape,out.shape,\n",
    "                      np.mean(np.abs(your_out - out)))"
   ]
  },
  {
   "cell_type": "markdown",
   "metadata": {},
   "source": [
    "### Speed test"
   ]
  },
  {
   "cell_type": "code",
   "execution_count": 17,
   "metadata": {},
   "outputs": [],
   "source": [
    "X = np.random.rand(1000, 10000)"
   ]
  },
  {
   "cell_type": "code",
   "execution_count": null,
   "metadata": {},
   "outputs": [],
   "source": [
    "%%time\n",
    "_ = cosine_similarity(X, 100, True, True)"
   ]
  },
  {
   "cell_type": "code",
   "execution_count": null,
   "metadata": {},
   "outputs": [],
   "source": []
  }
 ],
 "metadata": {
  "kernelspec": {
   "display_name": "Python 2",
   "language": "python",
   "name": "python2"
  },
  "language_info": {
   "codemirror_mode": {
    "name": "ipython",
    "version": 2
   },
   "file_extension": ".py",
   "mimetype": "text/x-python",
   "name": "python",
   "nbconvert_exporter": "python",
   "pygments_lexer": "ipython2",
   "version": "2.7.14"
  }
 },
 "nbformat": 4,
 "nbformat_minor": 2
}

{
 "cells": [
  {
   "cell_type": "markdown",
   "metadata": {},
   "source": [
    "# Чернышёв Александр Владиславович\n",
    "\n",
    "## BD-11"
   ]
  },
  {
   "cell_type": "markdown",
   "metadata": {},
   "source": [
    "1. Импортировать необходимые библиотеки для работы с данными (pandas). --- **0.1**"
   ]
  },
  {
   "cell_type": "code",
   "execution_count": 1,
   "metadata": {},
   "outputs": [],
   "source": [
    "import numpy as np\n",
    "import pandas as pd"
   ]
  },
  {
   "cell_type": "markdown",
   "metadata": {},
   "source": [
    "2. Импортировать датасет из файла 'restaurants.csv' и присвоить его переменной (например, переменной df). --- **0.1**"
   ]
  },
  {
   "cell_type": "code",
   "execution_count": 2,
   "metadata": {},
   "outputs": [],
   "source": [
    "df = pd.read_csv('restaurants.csv', sep=',', encoding='utf-8')"
   ]
  },
  {
   "cell_type": "markdown",
   "metadata": {},
   "source": [
    "3. Вывести первые 10 строк датафрейма. Изучить структуру таблицы. --- **0.1** Затем вывести типы колонок датафрейма. --- **0.1**"
   ]
  },
  {
   "cell_type": "code",
   "execution_count": 3,
   "metadata": {},
   "outputs": [
    {
     "data": {
      "text/html": [
       "<div>\n",
       "<style scoped>\n",
       "    .dataframe tbody tr th:only-of-type {\n",
       "        vertical-align: middle;\n",
       "    }\n",
       "\n",
       "    .dataframe tbody tr th {\n",
       "        vertical-align: top;\n",
       "    }\n",
       "\n",
       "    .dataframe thead th {\n",
       "        text-align: right;\n",
       "    }\n",
       "</style>\n",
       "<table border=\"1\" class=\"dataframe\">\n",
       "  <thead>\n",
       "    <tr style=\"text-align: right;\">\n",
       "      <th></th>\n",
       "      <th>vendor_id</th>\n",
       "      <th>chain_id</th>\n",
       "      <th>city_name</th>\n",
       "      <th>specialisation</th>\n",
       "      <th>successful_orders</th>\n",
       "      <th>fail_orders</th>\n",
       "      <th>reorders</th>\n",
       "    </tr>\n",
       "  </thead>\n",
       "  <tbody>\n",
       "    <tr>\n",
       "      <th>0</th>\n",
       "      <td>28957</td>\n",
       "      <td>20633</td>\n",
       "      <td>Архангельск</td>\n",
       "      <td>Супы</td>\n",
       "      <td>0.0</td>\n",
       "      <td>2.0</td>\n",
       "      <td>0.0</td>\n",
       "    </tr>\n",
       "    <tr>\n",
       "      <th>1</th>\n",
       "      <td>37381</td>\n",
       "      <td>27399</td>\n",
       "      <td>Архангельск</td>\n",
       "      <td>Пироги</td>\n",
       "      <td>0.0</td>\n",
       "      <td>0.0</td>\n",
       "      <td>0.0</td>\n",
       "    </tr>\n",
       "    <tr>\n",
       "      <th>2</th>\n",
       "      <td>28703</td>\n",
       "      <td>20431</td>\n",
       "      <td>Архангельск</td>\n",
       "      <td>Суши</td>\n",
       "      <td>111.0</td>\n",
       "      <td>3.0</td>\n",
       "      <td>0.0</td>\n",
       "    </tr>\n",
       "    <tr>\n",
       "      <th>3</th>\n",
       "      <td>37382</td>\n",
       "      <td>27399</td>\n",
       "      <td>Архангельск</td>\n",
       "      <td>Пироги</td>\n",
       "      <td>1.0</td>\n",
       "      <td>0.0</td>\n",
       "      <td>0.0</td>\n",
       "    </tr>\n",
       "    <tr>\n",
       "      <th>4</th>\n",
       "      <td>36877</td>\n",
       "      <td>27151</td>\n",
       "      <td>Архангельск</td>\n",
       "      <td>Бургеры</td>\n",
       "      <td>22.0</td>\n",
       "      <td>2.0</td>\n",
       "      <td>0.0</td>\n",
       "    </tr>\n",
       "    <tr>\n",
       "      <th>5</th>\n",
       "      <td>37650</td>\n",
       "      <td>27579</td>\n",
       "      <td>Архангельск</td>\n",
       "      <td>Суши</td>\n",
       "      <td>3.0</td>\n",
       "      <td>0.0</td>\n",
       "      <td>0.0</td>\n",
       "    </tr>\n",
       "    <tr>\n",
       "      <th>6</th>\n",
       "      <td>37127</td>\n",
       "      <td>27250</td>\n",
       "      <td>Астрахань</td>\n",
       "      <td>Суши</td>\n",
       "      <td>55.0</td>\n",
       "      <td>5.0</td>\n",
       "      <td>6.0</td>\n",
       "    </tr>\n",
       "    <tr>\n",
       "      <th>7</th>\n",
       "      <td>28476</td>\n",
       "      <td>20266</td>\n",
       "      <td>Астрахань</td>\n",
       "      <td>Суши</td>\n",
       "      <td>342.0</td>\n",
       "      <td>13.0</td>\n",
       "      <td>14.0</td>\n",
       "    </tr>\n",
       "    <tr>\n",
       "      <th>8</th>\n",
       "      <td>28478</td>\n",
       "      <td>20266</td>\n",
       "      <td>Астрахань</td>\n",
       "      <td>Суши</td>\n",
       "      <td>194.0</td>\n",
       "      <td>1.0</td>\n",
       "      <td>7.0</td>\n",
       "    </tr>\n",
       "    <tr>\n",
       "      <th>9</th>\n",
       "      <td>34127</td>\n",
       "      <td>25077</td>\n",
       "      <td>Астрахань</td>\n",
       "      <td>Пицца</td>\n",
       "      <td>136.0</td>\n",
       "      <td>4.0</td>\n",
       "      <td>1.0</td>\n",
       "    </tr>\n",
       "  </tbody>\n",
       "</table>\n",
       "</div>"
      ],
      "text/plain": [
       "   vendor_id  chain_id    city_name specialisation  successful_orders  \\\n",
       "0      28957     20633  Архангельск           Супы                0.0   \n",
       "1      37381     27399  Архангельск         Пироги                0.0   \n",
       "2      28703     20431  Архангельск           Суши              111.0   \n",
       "3      37382     27399  Архангельск         Пироги                1.0   \n",
       "4      36877     27151  Архангельск        Бургеры               22.0   \n",
       "5      37650     27579  Архангельск           Суши                3.0   \n",
       "6      37127     27250    Астрахань           Суши               55.0   \n",
       "7      28476     20266    Астрахань           Суши              342.0   \n",
       "8      28478     20266    Астрахань           Суши              194.0   \n",
       "9      34127     25077    Астрахань          Пицца              136.0   \n",
       "\n",
       "   fail_orders  reorders  \n",
       "0          2.0       0.0  \n",
       "1          0.0       0.0  \n",
       "2          3.0       0.0  \n",
       "3          0.0       0.0  \n",
       "4          2.0       0.0  \n",
       "5          0.0       0.0  \n",
       "6          5.0       6.0  \n",
       "7         13.0      14.0  \n",
       "8          1.0       7.0  \n",
       "9          4.0       1.0  "
      ]
     },
     "execution_count": 3,
     "metadata": {},
     "output_type": "execute_result"
    }
   ],
   "source": [
    "df.head(n=10)"
   ]
  },
  {
   "cell_type": "markdown",
   "metadata": {},
   "source": [
    "vendor_id - уникальный идентификатор ресторана\n",
    "\n",
    "chain_id - уникальный идентификатор сети, в которую входит ресторан\n",
    "\n",
    "successful_orders - кол-во успешных заказов\n",
    "\n",
    "fail_orders - кол-во неуспешных заказов\n",
    "\n",
    "reorders - перезаказы"
   ]
  },
  {
   "cell_type": "code",
   "execution_count": 4,
   "metadata": {},
   "outputs": [
    {
     "data": {
      "text/plain": [
       "vendor_id              int64\n",
       "chain_id               int64\n",
       "city_name             object\n",
       "specialisation        object\n",
       "successful_orders    float64\n",
       "fail_orders          float64\n",
       "reorders             float64\n",
       "dtype: object"
      ]
     },
     "execution_count": 4,
     "metadata": {},
     "output_type": "execute_result"
    }
   ],
   "source": [
    "df.dtypes"
   ]
  },
  {
   "cell_type": "markdown",
   "metadata": {},
   "source": [
    "4. Сколько наблюдений в датафрейме (воспользоваться методом shape)? --- **0.1**"
   ]
  },
  {
   "cell_type": "code",
   "execution_count": 5,
   "metadata": {},
   "outputs": [
    {
     "data": {
      "text/plain": [
       "784"
      ]
     },
     "execution_count": 5,
     "metadata": {},
     "output_type": "execute_result"
    }
   ],
   "source": [
    "df.shape[0]"
   ]
  },
  {
   "cell_type": "markdown",
   "metadata": {},
   "source": [
    "5. Сколько колонок в датафрейме?  --- **0.1** Вывести их имена. --- **0.1** Удалить колонку с названием \"chain_id\" (соледующие задания должны быть выполнены без этой колонки). --- **0.2**"
   ]
  },
  {
   "cell_type": "code",
   "execution_count": 6,
   "metadata": {},
   "outputs": [
    {
     "data": {
      "text/plain": [
       "7"
      ]
     },
     "execution_count": 6,
     "metadata": {},
     "output_type": "execute_result"
    }
   ],
   "source": [
    "df.shape[1]"
   ]
  },
  {
   "cell_type": "code",
   "execution_count": 7,
   "metadata": {},
   "outputs": [
    {
     "data": {
      "text/plain": [
       "Index(['vendor_id', 'chain_id', 'city_name', 'specialisation',\n",
       "       'successful_orders', 'fail_orders', 'reorders'],\n",
       "      dtype='object')"
      ]
     },
     "execution_count": 7,
     "metadata": {},
     "output_type": "execute_result"
    }
   ],
   "source": [
    "df.columns"
   ]
  },
  {
   "cell_type": "code",
   "execution_count": 8,
   "metadata": {},
   "outputs": [],
   "source": [
    "df.drop('chain_id', axis=1, inplace=True)"
   ]
  },
  {
   "cell_type": "code",
   "execution_count": 9,
   "metadata": {},
   "outputs": [
    {
     "data": {
      "text/html": [
       "<div>\n",
       "<style scoped>\n",
       "    .dataframe tbody tr th:only-of-type {\n",
       "        vertical-align: middle;\n",
       "    }\n",
       "\n",
       "    .dataframe tbody tr th {\n",
       "        vertical-align: top;\n",
       "    }\n",
       "\n",
       "    .dataframe thead th {\n",
       "        text-align: right;\n",
       "    }\n",
       "</style>\n",
       "<table border=\"1\" class=\"dataframe\">\n",
       "  <thead>\n",
       "    <tr style=\"text-align: right;\">\n",
       "      <th></th>\n",
       "      <th>vendor_id</th>\n",
       "      <th>city_name</th>\n",
       "      <th>specialisation</th>\n",
       "      <th>successful_orders</th>\n",
       "      <th>fail_orders</th>\n",
       "      <th>reorders</th>\n",
       "    </tr>\n",
       "  </thead>\n",
       "  <tbody>\n",
       "    <tr>\n",
       "      <th>0</th>\n",
       "      <td>28957</td>\n",
       "      <td>Архангельск</td>\n",
       "      <td>Супы</td>\n",
       "      <td>0.0</td>\n",
       "      <td>2.0</td>\n",
       "      <td>0.0</td>\n",
       "    </tr>\n",
       "    <tr>\n",
       "      <th>1</th>\n",
       "      <td>37381</td>\n",
       "      <td>Архангельск</td>\n",
       "      <td>Пироги</td>\n",
       "      <td>0.0</td>\n",
       "      <td>0.0</td>\n",
       "      <td>0.0</td>\n",
       "    </tr>\n",
       "    <tr>\n",
       "      <th>2</th>\n",
       "      <td>28703</td>\n",
       "      <td>Архангельск</td>\n",
       "      <td>Суши</td>\n",
       "      <td>111.0</td>\n",
       "      <td>3.0</td>\n",
       "      <td>0.0</td>\n",
       "    </tr>\n",
       "    <tr>\n",
       "      <th>3</th>\n",
       "      <td>37382</td>\n",
       "      <td>Архангельск</td>\n",
       "      <td>Пироги</td>\n",
       "      <td>1.0</td>\n",
       "      <td>0.0</td>\n",
       "      <td>0.0</td>\n",
       "    </tr>\n",
       "    <tr>\n",
       "      <th>4</th>\n",
       "      <td>36877</td>\n",
       "      <td>Архангельск</td>\n",
       "      <td>Бургеры</td>\n",
       "      <td>22.0</td>\n",
       "      <td>2.0</td>\n",
       "      <td>0.0</td>\n",
       "    </tr>\n",
       "  </tbody>\n",
       "</table>\n",
       "</div>"
      ],
      "text/plain": [
       "   vendor_id    city_name specialisation  successful_orders  fail_orders  \\\n",
       "0      28957  Архангельск           Супы                0.0          2.0   \n",
       "1      37381  Архангельск         Пироги                0.0          0.0   \n",
       "2      28703  Архангельск           Суши              111.0          3.0   \n",
       "3      37382  Архангельск         Пироги                1.0          0.0   \n",
       "4      36877  Архангельск        Бургеры               22.0          2.0   \n",
       "\n",
       "   reorders  \n",
       "0       0.0  \n",
       "1       0.0  \n",
       "2       0.0  \n",
       "3       0.0  \n",
       "4       0.0  "
      ]
     },
     "execution_count": 9,
     "metadata": {},
     "output_type": "execute_result"
    }
   ],
   "source": [
    "df.head()"
   ]
  },
  {
   "cell_type": "markdown",
   "metadata": {},
   "source": [
    "6. Сколько уникальных городов в датафрейме? --- **0.4**"
   ]
  },
  {
   "cell_type": "code",
   "execution_count": 10,
   "metadata": {},
   "outputs": [
    {
     "data": {
      "text/plain": [
       "63"
      ]
     },
     "execution_count": 10,
     "metadata": {},
     "output_type": "execute_result"
    }
   ],
   "source": [
    "df.city_name.unique().shape[0]"
   ]
  },
  {
   "cell_type": "markdown",
   "metadata": {},
   "source": [
    "7. Кол-во ресторанов каждой специализации? --- **0.3**"
   ]
  },
  {
   "cell_type": "code",
   "execution_count": 11,
   "metadata": {},
   "outputs": [
    {
     "data": {
      "text/plain": [
       "Суши                   329\n",
       "Пицца                  179\n",
       "Бургеры                 69\n",
       "Шашлыки                 37\n",
       "Рыба                    30\n",
       "Японская                21\n",
       "Пироги                  17\n",
       "Русская                 15\n",
       "Мясо                    14\n",
       "Китайская               10\n",
       "Супы                     8\n",
       "Шаурма                   8\n",
       "Сэндвичи                 6\n",
       "Десерты                  5\n",
       "Грузинская               5\n",
       "Индийская                5\n",
       "Выпечка                  5\n",
       "Паста и ризотто          4\n",
       "Фастфуд                  4\n",
       "Итальянская              3\n",
       "Узбекская                2\n",
       "Хот-доги                 2\n",
       "Паназиатская             2\n",
       "Корейская                1\n",
       "Мексиканская             1\n",
       "Вегетарианское меню      1\n",
       "Гирос                    1\n",
       "Name: specialisation, dtype: int64"
      ]
     },
     "execution_count": 11,
     "metadata": {},
     "output_type": "execute_result"
    }
   ],
   "source": [
    "df.specialisation.value_counts()"
   ]
  },
  {
   "cell_type": "markdown",
   "metadata": {},
   "source": [
    "8. Получить среднее и стандартное отклонение по всему датафрейму только по колонкам successful_orders и fail_orders. --- **0.7**"
   ]
  },
  {
   "cell_type": "code",
   "execution_count": 12,
   "metadata": {},
   "outputs": [
    {
     "data": {
      "text/html": [
       "<div>\n",
       "<style scoped>\n",
       "    .dataframe tbody tr th:only-of-type {\n",
       "        vertical-align: middle;\n",
       "    }\n",
       "\n",
       "    .dataframe tbody tr th {\n",
       "        vertical-align: top;\n",
       "    }\n",
       "\n",
       "    .dataframe thead th {\n",
       "        text-align: right;\n",
       "    }\n",
       "</style>\n",
       "<table border=\"1\" class=\"dataframe\">\n",
       "  <thead>\n",
       "    <tr style=\"text-align: right;\">\n",
       "      <th></th>\n",
       "      <th>successful_orders</th>\n",
       "      <th>fail_orders</th>\n",
       "    </tr>\n",
       "  </thead>\n",
       "  <tbody>\n",
       "    <tr>\n",
       "      <th>mean</th>\n",
       "      <td>115.344388</td>\n",
       "      <td>2.576531</td>\n",
       "    </tr>\n",
       "    <tr>\n",
       "      <th>std</th>\n",
       "      <td>176.792621</td>\n",
       "      <td>5.361445</td>\n",
       "    </tr>\n",
       "  </tbody>\n",
       "</table>\n",
       "</div>"
      ],
      "text/plain": [
       "      successful_orders  fail_orders\n",
       "mean         115.344388     2.576531\n",
       "std          176.792621     5.361445"
      ]
     },
     "execution_count": 12,
     "metadata": {},
     "output_type": "execute_result"
    }
   ],
   "source": [
    "df[['successful_orders', 'fail_orders']].describe().loc[['mean', 'std']]"
   ]
  },
  {
   "cell_type": "markdown",
   "metadata": {},
   "source": [
    "9. Вывести 10 городов с самым маленьким количеством ресторанов, а также кол-во ресторанов в них. --- **0.5**"
   ]
  },
  {
   "cell_type": "code",
   "execution_count": 13,
   "metadata": {},
   "outputs": [
    {
     "data": {
      "text/plain": [
       "Ханты-Мансийск    2\n",
       "Егорьевск         3\n",
       "Йошкар-Ола        3\n",
       "Стерлитамак       3\n",
       "Вологда           3\n",
       "Новокузнецк       5\n",
       "Архангельск       6\n",
       "Петрозаводск      7\n",
       "Магнитогорск      8\n",
       "Череповец         9\n",
       "Name: city_name, dtype: int64"
      ]
     },
     "execution_count": 13,
     "metadata": {},
     "output_type": "execute_result"
    }
   ],
   "source": [
    "df.city_name.value_counts(ascending=True).head(n=10)"
   ]
  },
  {
   "cell_type": "markdown",
   "metadata": {},
   "source": [
    "10. Вывести весь датафрейм только по тем ресторанам, у которых количество неуспешных заказов (fail_orders) было больше 20. --- **0.4**"
   ]
  },
  {
   "cell_type": "code",
   "execution_count": 14,
   "metadata": {},
   "outputs": [
    {
     "data": {
      "text/html": [
       "<div>\n",
       "<style scoped>\n",
       "    .dataframe tbody tr th:only-of-type {\n",
       "        vertical-align: middle;\n",
       "    }\n",
       "\n",
       "    .dataframe tbody tr th {\n",
       "        vertical-align: top;\n",
       "    }\n",
       "\n",
       "    .dataframe thead th {\n",
       "        text-align: right;\n",
       "    }\n",
       "</style>\n",
       "<table border=\"1\" class=\"dataframe\">\n",
       "  <thead>\n",
       "    <tr style=\"text-align: right;\">\n",
       "      <th></th>\n",
       "      <th>vendor_id</th>\n",
       "      <th>city_name</th>\n",
       "      <th>specialisation</th>\n",
       "      <th>successful_orders</th>\n",
       "      <th>fail_orders</th>\n",
       "      <th>reorders</th>\n",
       "    </tr>\n",
       "  </thead>\n",
       "  <tbody>\n",
       "    <tr>\n",
       "      <th>95</th>\n",
       "      <td>24121</td>\n",
       "      <td>Волгоград</td>\n",
       "      <td>Пицца</td>\n",
       "      <td>445.0</td>\n",
       "      <td>24.0</td>\n",
       "      <td>25.0</td>\n",
       "    </tr>\n",
       "    <tr>\n",
       "      <th>145</th>\n",
       "      <td>33976</td>\n",
       "      <td>Екатеринбург</td>\n",
       "      <td>Суши</td>\n",
       "      <td>327.0</td>\n",
       "      <td>46.0</td>\n",
       "      <td>65.0</td>\n",
       "    </tr>\n",
       "    <tr>\n",
       "      <th>267</th>\n",
       "      <td>6520</td>\n",
       "      <td>Краснодар</td>\n",
       "      <td>Суши</td>\n",
       "      <td>1300.0</td>\n",
       "      <td>70.0</td>\n",
       "      <td>65.0</td>\n",
       "    </tr>\n",
       "    <tr>\n",
       "      <th>372</th>\n",
       "      <td>22211</td>\n",
       "      <td>Нижний Новгород</td>\n",
       "      <td>Суши</td>\n",
       "      <td>79.0</td>\n",
       "      <td>29.0</td>\n",
       "      <td>20.0</td>\n",
       "    </tr>\n",
       "    <tr>\n",
       "      <th>420</th>\n",
       "      <td>24126</td>\n",
       "      <td>Орел</td>\n",
       "      <td>Пицца</td>\n",
       "      <td>482.0</td>\n",
       "      <td>33.0</td>\n",
       "      <td>27.0</td>\n",
       "    </tr>\n",
       "    <tr>\n",
       "      <th>422</th>\n",
       "      <td>16157</td>\n",
       "      <td>Орел</td>\n",
       "      <td>Бургеры</td>\n",
       "      <td>506.0</td>\n",
       "      <td>25.0</td>\n",
       "      <td>31.0</td>\n",
       "    </tr>\n",
       "    <tr>\n",
       "      <th>511</th>\n",
       "      <td>20935</td>\n",
       "      <td>Самара</td>\n",
       "      <td>Пицца</td>\n",
       "      <td>1298.0</td>\n",
       "      <td>63.0</td>\n",
       "      <td>44.0</td>\n",
       "    </tr>\n",
       "    <tr>\n",
       "      <th>516</th>\n",
       "      <td>12235</td>\n",
       "      <td>Самара</td>\n",
       "      <td>Суши</td>\n",
       "      <td>779.0</td>\n",
       "      <td>32.0</td>\n",
       "      <td>51.0</td>\n",
       "    </tr>\n",
       "    <tr>\n",
       "      <th>543</th>\n",
       "      <td>5469</td>\n",
       "      <td>Саратов</td>\n",
       "      <td>Суши</td>\n",
       "      <td>617.0</td>\n",
       "      <td>28.0</td>\n",
       "      <td>26.0</td>\n",
       "    </tr>\n",
       "    <tr>\n",
       "      <th>656</th>\n",
       "      <td>25369</td>\n",
       "      <td>Тула</td>\n",
       "      <td>Пицца</td>\n",
       "      <td>205.0</td>\n",
       "      <td>38.0</td>\n",
       "      <td>18.0</td>\n",
       "    </tr>\n",
       "  </tbody>\n",
       "</table>\n",
       "</div>"
      ],
      "text/plain": [
       "     vendor_id        city_name specialisation  successful_orders  \\\n",
       "95       24121        Волгоград          Пицца              445.0   \n",
       "145      33976     Екатеринбург           Суши              327.0   \n",
       "267       6520        Краснодар           Суши             1300.0   \n",
       "372      22211  Нижний Новгород           Суши               79.0   \n",
       "420      24126             Орел          Пицца              482.0   \n",
       "422      16157             Орел        Бургеры              506.0   \n",
       "511      20935           Самара          Пицца             1298.0   \n",
       "516      12235           Самара           Суши              779.0   \n",
       "543       5469          Саратов           Суши              617.0   \n",
       "656      25369             Тула          Пицца              205.0   \n",
       "\n",
       "     fail_orders  reorders  \n",
       "95          24.0      25.0  \n",
       "145         46.0      65.0  \n",
       "267         70.0      65.0  \n",
       "372         29.0      20.0  \n",
       "420         33.0      27.0  \n",
       "422         25.0      31.0  \n",
       "511         63.0      44.0  \n",
       "516         32.0      51.0  \n",
       "543         28.0      26.0  \n",
       "656         38.0      18.0  "
      ]
     },
     "execution_count": 14,
     "metadata": {},
     "output_type": "execute_result"
    }
   ],
   "source": [
    "df[df.fail_orders > 20]"
   ]
  },
  {
   "cell_type": "markdown",
   "metadata": {},
   "source": [
    "11. Вывести весь датафрейм только по тем ресторанам, у которых количество неуспешных заказов (fail_orders) было больше 20 и успешных заказов (successful_orders) меньше 500, рестораны только из города Тула. --- **0.5**"
   ]
  },
  {
   "cell_type": "code",
   "execution_count": 15,
   "metadata": {},
   "outputs": [
    {
     "data": {
      "text/html": [
       "<div>\n",
       "<style scoped>\n",
       "    .dataframe tbody tr th:only-of-type {\n",
       "        vertical-align: middle;\n",
       "    }\n",
       "\n",
       "    .dataframe tbody tr th {\n",
       "        vertical-align: top;\n",
       "    }\n",
       "\n",
       "    .dataframe thead th {\n",
       "        text-align: right;\n",
       "    }\n",
       "</style>\n",
       "<table border=\"1\" class=\"dataframe\">\n",
       "  <thead>\n",
       "    <tr style=\"text-align: right;\">\n",
       "      <th></th>\n",
       "      <th>vendor_id</th>\n",
       "      <th>city_name</th>\n",
       "      <th>specialisation</th>\n",
       "      <th>successful_orders</th>\n",
       "      <th>fail_orders</th>\n",
       "      <th>reorders</th>\n",
       "    </tr>\n",
       "  </thead>\n",
       "  <tbody>\n",
       "    <tr>\n",
       "      <th>650</th>\n",
       "      <td>36758</td>\n",
       "      <td>Тула</td>\n",
       "      <td>Бургеры</td>\n",
       "      <td>74.0</td>\n",
       "      <td>1.0</td>\n",
       "      <td>2.0</td>\n",
       "    </tr>\n",
       "    <tr>\n",
       "      <th>651</th>\n",
       "      <td>11216</td>\n",
       "      <td>Тула</td>\n",
       "      <td>Суши</td>\n",
       "      <td>18.0</td>\n",
       "      <td>1.0</td>\n",
       "      <td>0.0</td>\n",
       "    </tr>\n",
       "    <tr>\n",
       "      <th>652</th>\n",
       "      <td>37427</td>\n",
       "      <td>Тула</td>\n",
       "      <td>Суши</td>\n",
       "      <td>125.0</td>\n",
       "      <td>0.0</td>\n",
       "      <td>2.0</td>\n",
       "    </tr>\n",
       "    <tr>\n",
       "      <th>653</th>\n",
       "      <td>36865</td>\n",
       "      <td>Тула</td>\n",
       "      <td>Пицца</td>\n",
       "      <td>36.0</td>\n",
       "      <td>1.0</td>\n",
       "      <td>1.0</td>\n",
       "    </tr>\n",
       "    <tr>\n",
       "      <th>654</th>\n",
       "      <td>21915</td>\n",
       "      <td>Тула</td>\n",
       "      <td>Узбекская</td>\n",
       "      <td>6.0</td>\n",
       "      <td>1.0</td>\n",
       "      <td>2.0</td>\n",
       "    </tr>\n",
       "    <tr>\n",
       "      <th>655</th>\n",
       "      <td>30197</td>\n",
       "      <td>Тула</td>\n",
       "      <td>Суши</td>\n",
       "      <td>51.0</td>\n",
       "      <td>0.0</td>\n",
       "      <td>1.0</td>\n",
       "    </tr>\n",
       "    <tr>\n",
       "      <th>658</th>\n",
       "      <td>37506</td>\n",
       "      <td>Тула</td>\n",
       "      <td>Суши</td>\n",
       "      <td>26.0</td>\n",
       "      <td>0.0</td>\n",
       "      <td>5.0</td>\n",
       "    </tr>\n",
       "    <tr>\n",
       "      <th>659</th>\n",
       "      <td>26670</td>\n",
       "      <td>Тула</td>\n",
       "      <td>Пицца</td>\n",
       "      <td>33.0</td>\n",
       "      <td>1.0</td>\n",
       "      <td>0.0</td>\n",
       "    </tr>\n",
       "    <tr>\n",
       "      <th>660</th>\n",
       "      <td>8475</td>\n",
       "      <td>Тула</td>\n",
       "      <td>Суши</td>\n",
       "      <td>377.0</td>\n",
       "      <td>7.0</td>\n",
       "      <td>4.0</td>\n",
       "    </tr>\n",
       "    <tr>\n",
       "      <th>661</th>\n",
       "      <td>35259</td>\n",
       "      <td>Тула</td>\n",
       "      <td>Суши</td>\n",
       "      <td>469.0</td>\n",
       "      <td>5.0</td>\n",
       "      <td>2.0</td>\n",
       "    </tr>\n",
       "    <tr>\n",
       "      <th>662</th>\n",
       "      <td>20730</td>\n",
       "      <td>Тула</td>\n",
       "      <td>Бургеры</td>\n",
       "      <td>106.0</td>\n",
       "      <td>3.0</td>\n",
       "      <td>4.0</td>\n",
       "    </tr>\n",
       "    <tr>\n",
       "      <th>663</th>\n",
       "      <td>8440</td>\n",
       "      <td>Тула</td>\n",
       "      <td>Пицца</td>\n",
       "      <td>450.0</td>\n",
       "      <td>15.0</td>\n",
       "      <td>5.0</td>\n",
       "    </tr>\n",
       "  </tbody>\n",
       "</table>\n",
       "</div>"
      ],
      "text/plain": [
       "     vendor_id city_name specialisation  successful_orders  fail_orders  \\\n",
       "650      36758      Тула        Бургеры               74.0          1.0   \n",
       "651      11216      Тула           Суши               18.0          1.0   \n",
       "652      37427      Тула           Суши              125.0          0.0   \n",
       "653      36865      Тула          Пицца               36.0          1.0   \n",
       "654      21915      Тула      Узбекская                6.0          1.0   \n",
       "655      30197      Тула           Суши               51.0          0.0   \n",
       "658      37506      Тула           Суши               26.0          0.0   \n",
       "659      26670      Тула          Пицца               33.0          1.0   \n",
       "660       8475      Тула           Суши              377.0          7.0   \n",
       "661      35259      Тула           Суши              469.0          5.0   \n",
       "662      20730      Тула        Бургеры              106.0          3.0   \n",
       "663       8440      Тула          Пицца              450.0         15.0   \n",
       "\n",
       "     reorders  \n",
       "650       2.0  \n",
       "651       0.0  \n",
       "652       2.0  \n",
       "653       1.0  \n",
       "654       2.0  \n",
       "655       1.0  \n",
       "658       5.0  \n",
       "659       0.0  \n",
       "660       4.0  \n",
       "661       2.0  \n",
       "662       4.0  \n",
       "663       5.0  "
      ]
     },
     "execution_count": 15,
     "metadata": {},
     "output_type": "execute_result"
    }
   ],
   "source": [
    "df[(df.fail_orders < 20) & (df.successful_orders < 500) & (df.city_name == 'Тула')]"
   ]
  },
  {
   "cell_type": "markdown",
   "metadata": {},
   "source": [
    "12. Среднее кол-во успешных заказов по специализациям. --- **0.6**"
   ]
  },
  {
   "cell_type": "code",
   "execution_count": 16,
   "metadata": {},
   "outputs": [
    {
     "data": {
      "text/plain": [
       "specialisation\n",
       "Бургеры                 70.478261\n",
       "Вегетарианское меню     12.000000\n",
       "Выпечка                 12.800000\n",
       "Гирос                  682.000000\n",
       "Грузинская              38.200000\n",
       "Десерты                  8.200000\n",
       "Индийская               15.200000\n",
       "Итальянская             44.666667\n",
       "Китайская               89.100000\n",
       "Корейская                9.000000\n",
       "Мексиканская            33.000000\n",
       "Мясо                    49.428571\n",
       "Паназиатская            19.500000\n",
       "Паста и ризотто         39.750000\n",
       "Пироги                  28.117647\n",
       "Пицца                  144.446927\n",
       "Русская                 81.133333\n",
       "Рыба                    95.766667\n",
       "Супы                   140.750000\n",
       "Суши                   134.680851\n",
       "Сэндвичи               118.666667\n",
       "Узбекская               15.500000\n",
       "Фастфуд                 22.250000\n",
       "Хот-доги                 4.500000\n",
       "Шаурма                  23.000000\n",
       "Шашлыки                 55.594595\n",
       "Японская               171.523810\n",
       "Name: successful_orders, dtype: float64"
      ]
     },
     "execution_count": 16,
     "metadata": {},
     "output_type": "execute_result"
    }
   ],
   "source": [
    "df.groupby('specialisation').successful_orders.mean()"
   ]
  },
  {
   "cell_type": "markdown",
   "metadata": {},
   "source": [
    "13. Рестораны какой специализации имеют самую высокую долю неуспешных заказов? Также посчитать эту долю (все заказы по конкретному ресторану складываются из успешных, неуспешных заказов и перезаказов). --- **1.0**"
   ]
  },
  {
   "cell_type": "code",
   "execution_count": 17,
   "metadata": {},
   "outputs": [
    {
     "data": {
      "text/plain": [
       "('Вегетарианское меню', 0.30434782608695654)"
      ]
     },
     "execution_count": 17,
     "metadata": {},
     "output_type": "execute_result"
    }
   ],
   "source": [
    "df['sum_orders'] = df.fail_orders + df.successful_orders + df.reorders\n",
    "df2 = df.groupby('specialisation')[['fail_orders', 'sum_orders']].sum()\n",
    "props = df2.fail_orders / df2.sum_orders\n",
    "props.idxmax(), props.max()"
   ]
  },
  {
   "cell_type": "markdown",
   "metadata": {},
   "source": [
    "14. Для каждой специализации рассчитать минимальное и максимальное кол-во успешных заказов. --- **0.7**"
   ]
  },
  {
   "cell_type": "code",
   "execution_count": 18,
   "metadata": {},
   "outputs": [
    {
     "data": {
      "text/html": [
       "<div>\n",
       "<style scoped>\n",
       "    .dataframe tbody tr th:only-of-type {\n",
       "        vertical-align: middle;\n",
       "    }\n",
       "\n",
       "    .dataframe tbody tr th {\n",
       "        vertical-align: top;\n",
       "    }\n",
       "\n",
       "    .dataframe thead th {\n",
       "        text-align: right;\n",
       "    }\n",
       "</style>\n",
       "<table border=\"1\" class=\"dataframe\">\n",
       "  <thead>\n",
       "    <tr style=\"text-align: right;\">\n",
       "      <th></th>\n",
       "      <th>min</th>\n",
       "      <th>max</th>\n",
       "    </tr>\n",
       "    <tr>\n",
       "      <th>specialisation</th>\n",
       "      <th></th>\n",
       "      <th></th>\n",
       "    </tr>\n",
       "  </thead>\n",
       "  <tbody>\n",
       "    <tr>\n",
       "      <th>Бургеры</th>\n",
       "      <td>0.0</td>\n",
       "      <td>506.0</td>\n",
       "    </tr>\n",
       "    <tr>\n",
       "      <th>Вегетарианское меню</th>\n",
       "      <td>12.0</td>\n",
       "      <td>12.0</td>\n",
       "    </tr>\n",
       "    <tr>\n",
       "      <th>Выпечка</th>\n",
       "      <td>3.0</td>\n",
       "      <td>24.0</td>\n",
       "    </tr>\n",
       "    <tr>\n",
       "      <th>Гирос</th>\n",
       "      <td>682.0</td>\n",
       "      <td>682.0</td>\n",
       "    </tr>\n",
       "    <tr>\n",
       "      <th>Грузинская</th>\n",
       "      <td>3.0</td>\n",
       "      <td>131.0</td>\n",
       "    </tr>\n",
       "    <tr>\n",
       "      <th>Десерты</th>\n",
       "      <td>0.0</td>\n",
       "      <td>22.0</td>\n",
       "    </tr>\n",
       "    <tr>\n",
       "      <th>Индийская</th>\n",
       "      <td>0.0</td>\n",
       "      <td>75.0</td>\n",
       "    </tr>\n",
       "    <tr>\n",
       "      <th>Итальянская</th>\n",
       "      <td>3.0</td>\n",
       "      <td>112.0</td>\n",
       "    </tr>\n",
       "    <tr>\n",
       "      <th>Китайская</th>\n",
       "      <td>6.0</td>\n",
       "      <td>355.0</td>\n",
       "    </tr>\n",
       "    <tr>\n",
       "      <th>Корейская</th>\n",
       "      <td>9.0</td>\n",
       "      <td>9.0</td>\n",
       "    </tr>\n",
       "    <tr>\n",
       "      <th>Мексиканская</th>\n",
       "      <td>33.0</td>\n",
       "      <td>33.0</td>\n",
       "    </tr>\n",
       "    <tr>\n",
       "      <th>Мясо</th>\n",
       "      <td>1.0</td>\n",
       "      <td>179.0</td>\n",
       "    </tr>\n",
       "    <tr>\n",
       "      <th>Паназиатская</th>\n",
       "      <td>1.0</td>\n",
       "      <td>38.0</td>\n",
       "    </tr>\n",
       "    <tr>\n",
       "      <th>Паста и ризотто</th>\n",
       "      <td>11.0</td>\n",
       "      <td>66.0</td>\n",
       "    </tr>\n",
       "    <tr>\n",
       "      <th>Пироги</th>\n",
       "      <td>0.0</td>\n",
       "      <td>185.0</td>\n",
       "    </tr>\n",
       "    <tr>\n",
       "      <th>Пицца</th>\n",
       "      <td>0.0</td>\n",
       "      <td>1644.0</td>\n",
       "    </tr>\n",
       "    <tr>\n",
       "      <th>Русская</th>\n",
       "      <td>0.0</td>\n",
       "      <td>919.0</td>\n",
       "    </tr>\n",
       "    <tr>\n",
       "      <th>Рыба</th>\n",
       "      <td>0.0</td>\n",
       "      <td>315.0</td>\n",
       "    </tr>\n",
       "    <tr>\n",
       "      <th>Супы</th>\n",
       "      <td>0.0</td>\n",
       "      <td>480.0</td>\n",
       "    </tr>\n",
       "    <tr>\n",
       "      <th>Суши</th>\n",
       "      <td>0.0</td>\n",
       "      <td>1401.0</td>\n",
       "    </tr>\n",
       "    <tr>\n",
       "      <th>Сэндвичи</th>\n",
       "      <td>0.0</td>\n",
       "      <td>241.0</td>\n",
       "    </tr>\n",
       "    <tr>\n",
       "      <th>Узбекская</th>\n",
       "      <td>6.0</td>\n",
       "      <td>25.0</td>\n",
       "    </tr>\n",
       "    <tr>\n",
       "      <th>Фастфуд</th>\n",
       "      <td>2.0</td>\n",
       "      <td>66.0</td>\n",
       "    </tr>\n",
       "    <tr>\n",
       "      <th>Хот-доги</th>\n",
       "      <td>4.0</td>\n",
       "      <td>5.0</td>\n",
       "    </tr>\n",
       "    <tr>\n",
       "      <th>Шаурма</th>\n",
       "      <td>0.0</td>\n",
       "      <td>93.0</td>\n",
       "    </tr>\n",
       "    <tr>\n",
       "      <th>Шашлыки</th>\n",
       "      <td>0.0</td>\n",
       "      <td>323.0</td>\n",
       "    </tr>\n",
       "    <tr>\n",
       "      <th>Японская</th>\n",
       "      <td>4.0</td>\n",
       "      <td>461.0</td>\n",
       "    </tr>\n",
       "  </tbody>\n",
       "</table>\n",
       "</div>"
      ],
      "text/plain": [
       "                       min     max\n",
       "specialisation                    \n",
       "Бургеры                0.0   506.0\n",
       "Вегетарианское меню   12.0    12.0\n",
       "Выпечка                3.0    24.0\n",
       "Гирос                682.0   682.0\n",
       "Грузинская             3.0   131.0\n",
       "Десерты                0.0    22.0\n",
       "Индийская              0.0    75.0\n",
       "Итальянская            3.0   112.0\n",
       "Китайская              6.0   355.0\n",
       "Корейская              9.0     9.0\n",
       "Мексиканская          33.0    33.0\n",
       "Мясо                   1.0   179.0\n",
       "Паназиатская           1.0    38.0\n",
       "Паста и ризотто       11.0    66.0\n",
       "Пироги                 0.0   185.0\n",
       "Пицца                  0.0  1644.0\n",
       "Русская                0.0   919.0\n",
       "Рыба                   0.0   315.0\n",
       "Супы                   0.0   480.0\n",
       "Суши                   0.0  1401.0\n",
       "Сэндвичи               0.0   241.0\n",
       "Узбекская              6.0    25.0\n",
       "Фастфуд                2.0    66.0\n",
       "Хот-доги               4.0     5.0\n",
       "Шаурма                 0.0    93.0\n",
       "Шашлыки                0.0   323.0\n",
       "Японская               4.0   461.0"
      ]
     },
     "execution_count": 18,
     "metadata": {},
     "output_type": "execute_result"
    }
   ],
   "source": [
    "df.groupby('specialisation').successful_orders.agg(['min', 'max'])"
   ]
  },
  {
   "cell_type": "markdown",
   "metadata": {},
   "source": [
    "15. Рассчитать среднее кол-во успешных заказов по каждой специализации в городах Белгород и Уфа. --- **0.9**"
   ]
  },
  {
   "cell_type": "code",
   "execution_count": 19,
   "metadata": {},
   "outputs": [
    {
     "data": {
      "text/plain": [
       "city_name  specialisation\n",
       "Белгород   Пироги             14.000000\n",
       "           Пицца              36.000000\n",
       "           Русская           158.000000\n",
       "           Суши              328.000000\n",
       "           Шаурма              0.000000\n",
       "           Шашлыки           227.000000\n",
       "           Японская          183.000000\n",
       "Уфа        Бургеры           105.000000\n",
       "           Мясо                2.000000\n",
       "           Пироги             22.000000\n",
       "           Пицца             392.142857\n",
       "           Суши              144.333333\n",
       "           Шашлыки             7.000000\n",
       "Name: successful_orders, dtype: float64"
      ]
     },
     "execution_count": 19,
     "metadata": {},
     "output_type": "execute_result"
    }
   ],
   "source": [
    "df[(df.city_name == 'Белгород') | (df.city_name == 'Уфа')].groupby(['city_name', 'specialisation']).successful_orders.mean()"
   ]
  },
  {
   "cell_type": "markdown",
   "metadata": {},
   "source": [
    "16. Импортировать таблицу \"restaurant_scores.csv\". В исходную таблицу добавить новый столбец \"model_score\" из таблицы \"restaurant_scores\", соединив таблицы по restaurant_scores.vendor_id = model_score.id. Вывести первые 5 строк получившейся таблицы. --- **0.8**"
   ]
  },
  {
   "cell_type": "code",
   "execution_count": 20,
   "metadata": {},
   "outputs": [
    {
     "data": {
      "text/html": [
       "<div>\n",
       "<style scoped>\n",
       "    .dataframe tbody tr th:only-of-type {\n",
       "        vertical-align: middle;\n",
       "    }\n",
       "\n",
       "    .dataframe tbody tr th {\n",
       "        vertical-align: top;\n",
       "    }\n",
       "\n",
       "    .dataframe thead th {\n",
       "        text-align: right;\n",
       "    }\n",
       "</style>\n",
       "<table border=\"1\" class=\"dataframe\">\n",
       "  <thead>\n",
       "    <tr style=\"text-align: right;\">\n",
       "      <th></th>\n",
       "      <th>model_score</th>\n",
       "      <th>vendor_id</th>\n",
       "      <th>city_name</th>\n",
       "      <th>specialisation</th>\n",
       "      <th>successful_orders</th>\n",
       "      <th>fail_orders</th>\n",
       "      <th>reorders</th>\n",
       "      <th>sum_orders</th>\n",
       "    </tr>\n",
       "  </thead>\n",
       "  <tbody>\n",
       "    <tr>\n",
       "      <th>0</th>\n",
       "      <td>0.725862</td>\n",
       "      <td>1847</td>\n",
       "      <td>Волгоград</td>\n",
       "      <td>Пицца</td>\n",
       "      <td>0.0</td>\n",
       "      <td>0.0</td>\n",
       "      <td>0.0</td>\n",
       "      <td>0.0</td>\n",
       "    </tr>\n",
       "    <tr>\n",
       "      <th>1</th>\n",
       "      <td>0.739663</td>\n",
       "      <td>3216</td>\n",
       "      <td>Казань</td>\n",
       "      <td>Рыба</td>\n",
       "      <td>315.0</td>\n",
       "      <td>4.0</td>\n",
       "      <td>6.0</td>\n",
       "      <td>325.0</td>\n",
       "    </tr>\n",
       "    <tr>\n",
       "      <th>2</th>\n",
       "      <td>0.317761</td>\n",
       "      <td>3586</td>\n",
       "      <td>Самара</td>\n",
       "      <td>Пицца</td>\n",
       "      <td>130.0</td>\n",
       "      <td>0.0</td>\n",
       "      <td>3.0</td>\n",
       "      <td>133.0</td>\n",
       "    </tr>\n",
       "    <tr>\n",
       "      <th>3</th>\n",
       "      <td>0.753824</td>\n",
       "      <td>3850</td>\n",
       "      <td>Нижний Новгород</td>\n",
       "      <td>Шашлыки</td>\n",
       "      <td>64.0</td>\n",
       "      <td>2.0</td>\n",
       "      <td>1.0</td>\n",
       "      <td>67.0</td>\n",
       "    </tr>\n",
       "    <tr>\n",
       "      <th>4</th>\n",
       "      <td>0.072549</td>\n",
       "      <td>3862</td>\n",
       "      <td>Новосибирск</td>\n",
       "      <td>Супы</td>\n",
       "      <td>244.0</td>\n",
       "      <td>4.0</td>\n",
       "      <td>2.0</td>\n",
       "      <td>250.0</td>\n",
       "    </tr>\n",
       "  </tbody>\n",
       "</table>\n",
       "</div>"
      ],
      "text/plain": [
       "   model_score  vendor_id        city_name specialisation  successful_orders  \\\n",
       "0     0.725862       1847        Волгоград          Пицца                0.0   \n",
       "1     0.739663       3216           Казань           Рыба              315.0   \n",
       "2     0.317761       3586           Самара          Пицца              130.0   \n",
       "3     0.753824       3850  Нижний Новгород        Шашлыки               64.0   \n",
       "4     0.072549       3862      Новосибирск           Супы              244.0   \n",
       "\n",
       "   fail_orders  reorders  sum_orders  \n",
       "0          0.0       0.0         0.0  \n",
       "1          4.0       6.0       325.0  \n",
       "2          0.0       3.0       133.0  \n",
       "3          2.0       1.0        67.0  \n",
       "4          4.0       2.0       250.0  "
      ]
     },
     "execution_count": 20,
     "metadata": {},
     "output_type": "execute_result"
    }
   ],
   "source": [
    "df = pd.merge(pd.read_csv('restaurant_scores.csv').set_index('id'), df, left_on='id', right_on='vendor_id')\n",
    "df.head()"
   ]
  },
  {
   "cell_type": "markdown",
   "metadata": {},
   "source": [
    "18. Итоговую таблицу сохранить на жестком диске в формате 'csv'. --- **0.3**"
   ]
  },
  {
   "cell_type": "code",
   "execution_count": 21,
   "metadata": {},
   "outputs": [],
   "source": [
    "df.to_csv('result.csv')"
   ]
  },
  {
   "cell_type": "markdown",
   "metadata": {},
   "source": [
    "### Каждые 1.5 поинта - 1 балл."
   ]
  }
 ],
 "metadata": {
  "kernelspec": {
   "display_name": "Python 3",
   "language": "python",
   "name": "python3"
  },
  "language_info": {
   "codemirror_mode": {
    "name": "ipython",
    "version": 3
   },
   "file_extension": ".py",
   "mimetype": "text/x-python",
   "name": "python",
   "nbconvert_exporter": "python",
   "pygments_lexer": "ipython3",
   "version": "3.7.0"
  }
 },
 "nbformat": 4,
 "nbformat_minor": 2
}
